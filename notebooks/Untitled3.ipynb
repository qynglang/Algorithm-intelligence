{
 "cells": [
  {
   "cell_type": "code",
   "execution_count": 1,
   "metadata": {},
   "outputs": [],
   "source": [
    "import matplotlib.pyplot as plt\n",
    "from PIL import Image\n",
    "import os\n",
    "import sys\n",
    "import random\n",
    "import math\n",
    "import re\n",
    "import time\n",
    "import numpy as np\n",
    "import cv2\n",
    "import matplotlib\n",
    "import matplotlib.pyplot as plt\n",
    "from PIL import Image\n",
    "from scipy import ndimage, misc\n",
    "import tensorflow as tf\n",
    "import cv2\n",
    "from math import fabs, sin, cos, radians\n",
    "import numpy as np\n",
    "from scipy.stats import mode\n",
    "\n",
    "\n",
    "def get_img_rot_broa(img, degree=45, filled_color=-1):\n",
    "    \"\"\"\n",
    "    Desciption:\n",
    "            Get img rotated a certain degree,\n",
    "        and use some color to fill 4 corners of the new img.\n",
    "    \"\"\"\n",
    "\n",
    "    # 获取旋转后4角的填充色\n",
    "    if filled_color == -1:\n",
    "        filled_color = mode([img[0, 0], img[0, -1],\n",
    "                             img[-1, 0], img[-1, -1]]).mode[0]\n",
    "    if np.array(filled_color).shape[0] == 2:\n",
    "        if isinstance(filled_color, int):\n",
    "            filled_color = (filled_color, filled_color, filled_color)\n",
    "    else:\n",
    "        filled_color = tuple([int(i) for i in filled_color])\n",
    "\n",
    "    height, width = img.shape[:2]\n",
    "\n",
    "    # 旋转后的尺寸\n",
    "    height_new = int(width * fabs(sin(radians(degree))) +\n",
    "                     height * fabs(cos(radians(degree))))\n",
    "    width_new = int(height * fabs(sin(radians(degree))) +\n",
    "                    width * fabs(cos(radians(degree))))\n",
    "\n",
    "    mat_rotation = cv2.getRotationMatrix2D((width / 2, height / 2), degree, 1)\n",
    "\n",
    "    mat_rotation[0, 2] += (width_new - width) / 2\n",
    "    mat_rotation[1, 2] += (height_new - height) / 2\n",
    "\n",
    "    # Pay attention to the type of elements of filler_color, which should be\n",
    "    # the int in pure python, instead of those in numpy.\n",
    "    img_rotated = cv2.warpAffine(img, mat_rotation, (width_new, height_new),\n",
    "                                 borderValue=filled_color)\n",
    "    # 填充四个角\n",
    "    mask = np.zeros((height_new + 2, width_new + 2), np.uint8)\n",
    "    mask[:] = 0\n",
    "    seed_points = [(0, 0), (0, height_new - 1), (width_new - 1, 0),\n",
    "                   (width_new - 1, height_new - 1)]\n",
    "    for i in seed_points:\n",
    "        cv2.floodFill(img_rotated, mask, i, filled_color)\n",
    "\n",
    "    return img_rotated"
   ]
  },
  {
   "cell_type": "code",
   "execution_count": 2,
   "metadata": {},
   "outputs": [],
   "source": [
    "# pic_s=np.zeros((28,28,24))\n",
    "# for i in range (0,24):\n",
    "#     N=str(i+1)\n",
    "#     a=Image.open('/Users/sofiadunlosky/Documents/models/number/'+N+'.png')\n",
    "#     pic_s[:,:,i]=np.array(a)[:,:,0]\n",
    "#np.save('pic_s.npy',pic_s)"
   ]
  },
  {
   "cell_type": "code",
   "execution_count": 3,
   "metadata": {},
   "outputs": [],
   "source": [
    "# #15 intermediate categories: circle, square, triangle, cross, dot, line, curve, other shape, filled(shade), overlap, 1, 2, 3, 4, many.\n",
    "# ans_s=np.zeros((15,24))\n",
    "# ans_s[:,0]=[0,0,0,0,0,0,1,0,0,1,0,1,0,0,0]\n",
    "# ans_s[:,1]=[0,0,0,0,0,0,1,0,0,0,0,1,0,0,0]\n",
    "# ans_s[:,2]=[0,0,0,0,0,0,1,0,0,1,0,1,0,0,0]\n",
    "# ans_s[:,3]=[0,0,0,0,0,0,1,0,0,1,0,0,1,0,0]\n",
    "# ans_s[:,4]=[0,0,0,0,0,0,1,0,0,1,0,0,0,1,0]\n",
    "# ans_s[:,5]=[0,0,0,0,0,0,1,0,0,1,0,1,0,0,0]\n",
    "# ans_s[:,6]=[0,0,0,0,0,0,1,0,0,1,0,1,0,0,0]\n",
    "# ans_s[:,7]=[0,0,0,0,0,0,1,0,0,0,0,1,0,0,0]\n",
    "# ans_s[:,8]=[0,0,0,0,0,0,1,0,0,0,1,0,0,0,0]\n",
    "# ans_s[:,9]=[0,0,0,0,0,0,1,0,0,0,0,1,0,0,0]\n",
    "# ans_s[:,10]=[0,0,0,0,0,0,1,0,0,1,0,1,0,0,0]\n",
    "# ans_s[:,11]=[0,0,0,0,0,0,1,0,0,1,0,0,1,0,0]\n",
    "# ans_s[:,12]=[0,0,0,0,0,0,1,0,0,1,0,0,1,0,0]\n",
    "# ans_s[:,13]=[0,0,0,0,0,0,1,0,0,1,0,0,1,0,0]\n",
    "# ans_s[:,14]=[0,0,0,0,0,0,1,0,0,1,0,0,1,0,0]\n",
    "# ans_s[:,15]=[0,0,0,0,0,0,1,0,0,1,0,0,1,0,0]\n",
    "# ans_s[:,16]=[0,0,0,0,0,0,1,0,0,1,0,0,1,0,0]\n",
    "# ans_s[:,17]=[0,0,0,0,0,0,1,0,0,1,0,0,1,0,0]\n",
    "# ans_s[:,18]=[0,0,0,0,0,0,1,0,0,1,0,0,0,1,0]\n",
    "# ans_s[:,19]=[0,0,0,0,0,0,1,0,0,1,0,0,0,1,0]\n",
    "# ans_s[:,20]=[0,0,0,0,0,0,1,0,0,1,0,0,0,1,0]\n",
    "# ans_s[:,21]=[0,0,0,0,0,0,1,0,0,0,0,0,0,1,0]\n",
    "# ans_s[:,22]=[0,0,0,0,0,0,1,0,0,1,0,0,0,1,0]\n",
    "# ans_s[:,23]=[0,0,0,0,0,0,1,0,0,1,0,0,0,1,0]\n",
    "# np.save('ans_s.npy',ans_s)"
   ]
  },
  {
   "cell_type": "code",
   "execution_count": 4,
   "metadata": {},
   "outputs": [],
   "source": [
    "pic_s=np.load('pic_s.npy')\n",
    "ans_s=np.load('ans_s.npy')"
   ]
  },
  {
   "cell_type": "code",
   "execution_count": 22,
   "metadata": {},
   "outputs": [],
   "source": [
    "def sample(Pic):\n",
    "    n1=random.randint(0,4)\n",
    "    n2=random.randint(0,4)\n",
    "    pic1=misc.imresize(np.array(a)[35:75,81:123,:], (28, 28))[:,:,0]\n",
    "    #pic1=misc.imresize(np.array(Pic)[33+n1:73+n1,79+n2:121+n2,:], (28, 28))[:,:,0]\n",
    "    m=random.randint(0,20)\n",
    "    #pic1[pic1<=190+m]=0\n",
    "    #pic1[pic1>190+m]=1\n",
    "    #pic1=pic1/255\n",
    "    alpha=random.randint(0,360)\n",
    "    #n3=random.randint(0,4)\n",
    "    #n4=random.randint(0,4)\n",
    "    if random.randint(0,2)==1:\n",
    "        pic2=get_img_rot_broa(pic1, degree=alpha, filled_color=[255,255,255])\n",
    "    else:\n",
    "        pic2=get_img_rot_broa(pic1[::-1], degree=alpha, filled_color=[255,255,255])\n",
    "    data=pic2[pic2.shape[0]-28:pic2.shape[0],pic2.shape[1]-28:pic2.shape[1]].reshape(1,784)/255\n",
    "#     if i==0:\n",
    "#         plt.imshow(data[i,:].reshape(28,28))\n",
    "    #data[i,:]=pic2[4+n3:32+n3,4+n4:32+n4].reshape(1,784)\n",
    "    answer=[0,0,0,0,0,0,1,0,0,0,1,0,0,0,0]\n",
    "    return data,answer"
   ]
  },
  {
   "cell_type": "code",
   "execution_count": 32,
   "metadata": {
    "scrolled": false
   },
   "outputs": [
    {
     "name": "stderr",
     "output_type": "stream",
     "text": [
      "/Users/sofiadunlosky/miniconda3/envs/mlp/lib/python3.7/site-packages/ipykernel_launcher.py:4: DeprecationWarning: `imresize` is deprecated!\n",
      "`imresize` is deprecated in SciPy 1.0.0, and will be removed in 1.3.0.\n",
      "Use Pillow instead: ``numpy.array(Image.fromarray(arr).resize())``.\n",
      "  after removing the cwd from sys.path.\n"
     ]
    }
   ],
   "source": [
    "k=random.randint(1,4)\n",
    "d2=np.zeros((1,784))\n",
    "for i in range (0,k):\n",
    "    d1,a1=sample(a)\n",
    "    d2+=d1\n",
    "    d2-=np.min(d2)"
   ]
  },
  {
   "cell_type": "code",
   "execution_count": 31,
   "metadata": {},
   "outputs": [
    {
     "name": "stderr",
     "output_type": "stream",
     "text": [
      "/Users/sofiadunlosky/miniconda3/envs/mlp/lib/python3.7/site-packages/ipykernel_launcher.py:4: DeprecationWarning: `imresize` is deprecated!\n",
      "`imresize` is deprecated in SciPy 1.0.0, and will be removed in 1.3.0.\n",
      "Use Pillow instead: ``numpy.array(Image.fromarray(arr).resize())``.\n",
      "  after removing the cwd from sys.path.\n"
     ]
    },
    {
     "data": {
      "text/plain": [
       "0.21568627450980393"
      ]
     },
     "execution_count": 31,
     "metadata": {},
     "output_type": "execute_result"
    }
   ],
   "source": [
    "d1,a1=sample(a)\n",
    "np.min(d1)"
   ]
  },
  {
   "cell_type": "code",
   "execution_count": 33,
   "metadata": {},
   "outputs": [
    {
     "data": {
      "text/plain": [
       "<matplotlib.image.AxesImage at 0x13ac9d4e0>"
      ]
     },
     "execution_count": 33,
     "metadata": {},
     "output_type": "execute_result"
    },
    {
     "data": {
      "image/png": "[encoded data removed]",
      "text/plain": [
       "<Figure size 432x288 with 1 Axes>"
      ]
     },
     "metadata": {
      "needs_background": "light"
     },
     "output_type": "display_data"
    }
   ],
   "source": [
    "plt.imshow(d2.reshape(28,28))"
   ]
  },
  {
   "cell_type": "code",
   "execution_count": 40,
   "metadata": {},
   "outputs": [],
   "source": [
    "def load_sample(Pic):\n",
    "    data=np.zeros((8,784))\n",
    "    answer=np.zeros((8,15))\n",
    "    for i in range (0,8):\n",
    "        if random.randint(0,2)==1:\n",
    "            data[i,:],answer[i,:]=sample(Pic)\n",
    "        else:\n",
    "            k=random.randint(1,5)\n",
    "            for i in range (0,k):\n",
    "                d1,a1=sample(Pic)\n",
    "                data[i,:]+=d1.reshape(784,)\n",
    "                data[i,:]-=np.min(data[i,:])\n",
    "            answer[i,:]=a1\n",
    "            answer[i,10]=0\n",
    "            answer[i,9]=1\n",
    "            answer[i,9+k]=1\n",
    "    return data,answer\n",
    "                "
   ]
  },
  {
   "cell_type": "code",
   "execution_count": null,
   "metadata": {},
   "outputs": [],
   "source": [
    "from "
   ]
  },
  {
   "cell_type": "code",
   "execution_count": 37,
   "metadata": {},
   "outputs": [],
   "source": [
    "# def load_sample(Pic,pic_s,ans_s):\n",
    "#     data=np.zeros((8,784))\n",
    "#     answer=np.zeros((8,15))\n",
    "#     for i in range (0,8):\n",
    "#         if random.randint(0,4)==1:\n",
    "#             if random.randint(0,2)==1:\n",
    "#                 n1=random.randint(0,4)\n",
    "#                 n2=random.randint(0,4)\n",
    "#                 pic1=misc.imresize(np.array(a)[35:75,81:123,:], (28, 28))[:,:,0]\n",
    "#                 #pic1=misc.imresize(np.array(Pic)[33+n1:73+n1,79+n2:121+n2,:], (28, 28))[:,:,0]\n",
    "#                 m=random.randint(0,20)\n",
    "#                 #pic1[pic1<=190+m]=0\n",
    "#                 #pic1[pic1>190+m]=1\n",
    "#                 #pic1=pic1/255\n",
    "#                 alpha=random.randint(0,360)\n",
    "#                 #n3=random.randint(0,4)\n",
    "#                 #n4=random.randint(0,4)\n",
    "#                 if random.randint(0,2)==1:\n",
    "#                     pic2=get_img_rot_broa(pic1, degree=alpha, filled_color=[255,255,255])\n",
    "#                 else:\n",
    "#                     pic2=get_img_rot_broa(pic1[::-1], degree=alpha, filled_color=[255,255,255])\n",
    "#                 data[i,:]=pic2[pic2.shape[0]-28:pic2.shape[0],pic2.shape[1]-28:pic2.shape[1]].reshape(1,784)/255\n",
    "#                 if i==0:\n",
    "#                     plt.imshow(data[i,:].reshape(28,28))\n",
    "#                 #data[i,:]=pic2[4+n3:32+n3,4+n4:32+n4].reshape(1,784)\n",
    "#                 answer[i,:]=[0,0,0,0,0,0,1,0,0,0,1,0,0,0,0]\n",
    "#             else:\n",
    "#                 data[i,:]=np.random.randint(255, size=(1,784))/255\n",
    "#                 answer[i,:]=[0,0,0,0,0,0,0,0,0,0,0,0,0,0,0]\n",
    "#         else:\n",
    "#             data[i,:],answer[i,:]=variation(pic_s,ans_s)\n",
    "#     return data,answer"
   ]
  },
  {
   "cell_type": "code",
   "execution_count": 6,
   "metadata": {},
   "outputs": [],
   "source": [
    "def variation(pic_s,ans_s):\n",
    "    o=np.random.randint(24)-1\n",
    "    data=pic_s[:,:,o].reshape(1,784)/225\n",
    "    answer=ans_s[:,o]\n",
    "    return data,answer    \n",
    "        \n",
    "        \n",
    "    "
   ]
  },
  {
   "cell_type": "code",
   "execution_count": 7,
   "metadata": {},
   "outputs": [],
   "source": [
    "# Training Parameters\n",
    "learning_rate = 0.0001\n",
    "num_steps = 1000\n",
    "batch_size = 8\n",
    "display_step = 100\n",
    "\n",
    "# Network Parameters\n",
    "num_input = 784 # MNIST data input (img shape: 28*28)\n",
    "num_classes = 15 # MNIST total classes (0-9 digits)\n",
    "dropout = 0.75 # Dropout, probability to keep units\n",
    "\n",
    "# tf Graph input\n",
    "X = tf.placeholder(tf.float32, [None, num_input])\n",
    "Y = tf.placeholder(tf.float32, [None, num_classes])\n",
    "keep_prob = tf.placeholder(tf.float32) # dropout (keep probability)"
   ]
  },
  {
   "cell_type": "code",
   "execution_count": 8,
   "metadata": {},
   "outputs": [],
   "source": [
    "# Create some wrappers for simplicity\n",
    "def conv2d(x, W, b, strides=1):\n",
    "    # Conv2D wrapper, with bias and relu activation\n",
    "    x = tf.nn.conv2d(x, W, strides=[1, strides, strides, 1], padding='SAME')\n",
    "    x = tf.nn.bias_add(x, b)\n",
    "    return tf.nn.relu(x)\n",
    "\n",
    "\n",
    "def maxpool2d(x, k=2):\n",
    "    # MaxPool2D wrapper\n",
    "    return tf.nn.max_pool(x, ksize=[1, k, k, 1], strides=[1, k, k, 1],\n",
    "                          padding='SAME')\n",
    "\n",
    "\n",
    "# Create model\n",
    "def conv_net(x, weights, biases, dropout):\n",
    "    # MNIST data input is a 1-D vector of 784 features (28*28 pixels)\n",
    "    # Reshape to match picture format [Height x Width x Channel]\n",
    "    # Tensor input become 4-D: [Batch Size, Height, Width, Channel]\n",
    "    x = tf.reshape(x, shape=[-1, 28, 28, 1])\n",
    "\n",
    "    # Convolution Layer\n",
    "    conv1 = conv2d(x, weights['wc1'], biases['bc1'])\n",
    "    # Max Pooling (down-sampling)\n",
    "    conv1 = maxpool2d(conv1, k=2)\n",
    "\n",
    "    # Convolution Layer\n",
    "    conv2 = conv2d(conv1, weights['wc2'], biases['bc2'])\n",
    "    # Max Pooling (down-sampling)\n",
    "    conv2 = maxpool2d(conv2, k=2)\n",
    "\n",
    "    # Fully connected layer\n",
    "    # Reshape conv2 output to fit fully connected layer input\n",
    "    fc1 = tf.reshape(conv2, [-1, weights['wd1'].get_shape().as_list()[0]])\n",
    "    fc1 = tf.add(tf.matmul(fc1, weights['wd1']), biases['bd1'])\n",
    "    fc1 = tf.nn.relu(fc1)\n",
    "    # Apply Dropout\n",
    "    fc1 = tf.nn.dropout(fc1, dropout)\n",
    "\n",
    "    # Output, class prediction\n",
    "    out = tf.add(tf.matmul(fc1, weights['out']), biases['out'])\n",
    "    return out"
   ]
  },
  {
   "cell_type": "code",
   "execution_count": 9,
   "metadata": {},
   "outputs": [
    {
     "name": "stdout",
     "output_type": "stream",
     "text": [
      "WARNING:tensorflow:From /Users/sofiadunlosky/miniconda3/envs/mlp/lib/python3.7/site-packages/tensorflow/python/framework/op_def_library.py:263: colocate_with (from tensorflow.python.framework.ops) is deprecated and will be removed in a future version.\n",
      "Instructions for updating:\n",
      "Colocations handled automatically by placer.\n",
      "WARNING:tensorflow:From <ipython-input-8-fce84427c804>:38: calling dropout (from tensorflow.python.ops.nn_ops) with keep_prob is deprecated and will be removed in a future version.\n",
      "Instructions for updating:\n",
      "Please use `rate` instead of `keep_prob`. Rate should be set to `rate = 1 - keep_prob`.\n",
      "WARNING:tensorflow:From <ipython-input-9-3814cdbf73dc>:26: softmax_cross_entropy_with_logits (from tensorflow.python.ops.nn_ops) is deprecated and will be removed in a future version.\n",
      "Instructions for updating:\n",
      "\n",
      "Future major versions of TensorFlow will allow gradients to flow\n",
      "into the labels input on backprop by default.\n",
      "\n",
      "See `tf.nn.softmax_cross_entropy_with_logits_v2`.\n",
      "\n"
     ]
    }
   ],
   "source": [
    "# Store layers weight & bias\n",
    "weights = {\n",
    "    # 5x5 conv, 1 input, 32 outputs\n",
    "    'wc1': tf.Variable(tf.random_normal([5, 5, 1, 32])),\n",
    "    # 5x5 conv, 32 inputs, 64 outputs\n",
    "    'wc2': tf.Variable(tf.random_normal([5, 5, 32, 64])),\n",
    "    # fully connected, 7*7*64 inputs, 1024 outputs\n",
    "    'wd1': tf.Variable(tf.random_normal([7*7*64, 1024])),\n",
    "    # 1024 inputs, 10 outputs (class prediction)\n",
    "    'out': tf.Variable(tf.random_normal([1024, num_classes]))\n",
    "}\n",
    "\n",
    "biases = {\n",
    "    'bc1': tf.Variable(tf.random_normal([32])),\n",
    "    'bc2': tf.Variable(tf.random_normal([64])),\n",
    "    'bd1': tf.Variable(tf.random_normal([1024])),\n",
    "    'out': tf.Variable(tf.random_normal([num_classes]))\n",
    "}\n",
    "\n",
    "# Construct model\n",
    "logits = conv_net(X, weights, biases, keep_prob)\n",
    "prediction = tf.nn.softmax(logits)\n",
    "\n",
    "# Define loss and optimizer\n",
    "loss_op = tf.reduce_mean(tf.nn.softmax_cross_entropy_with_logits(\n",
    "    logits=logits, labels=Y))\n",
    "optimizer = tf.train.AdamOptimizer(learning_rate=learning_rate)\n",
    "train_op = optimizer.minimize(loss_op)\n",
    "\n",
    "\n",
    "# Evaluate model\n",
    "correct_pred = tf.equal(tf.argmax(prediction, 1), tf.argmax(Y, 1))\n",
    "accuracy = tf.reduce_mean(tf.cast(correct_pred, tf.float32))\n",
    "\n",
    "# Initialize the variables (i.e. assign their default value)\n",
    "init = tf.global_variables_initializer()"
   ]
  },
  {
   "cell_type": "code",
   "execution_count": 41,
   "metadata": {},
   "outputs": [
    {
     "name": "stderr",
     "output_type": "stream",
     "text": [
      "/Users/sofiadunlosky/miniconda3/envs/mlp/lib/python3.7/site-packages/ipykernel_launcher.py:4: DeprecationWarning: `imresize` is deprecated!\n",
      "`imresize` is deprecated in SciPy 1.0.0, and will be removed in 1.3.0.\n",
      "Use Pillow instead: ``numpy.array(Image.fromarray(arr).resize())``.\n",
      "  after removing the cwd from sys.path.\n"
     ]
    },
    {
     "name": "stdout",
     "output_type": "stream",
     "text": [
      "Step 1, Minibatch Loss= 476481.5312, Training Accuracy= 0.000\n",
      "Step 100, Minibatch Loss= 104925.8047, Training Accuracy= 0.375\n",
      "Step 200, Minibatch Loss= 165929.4375, Training Accuracy= 0.625\n",
      "Step 300, Minibatch Loss= 143786.7500, Training Accuracy= 0.250\n",
      "Step 400, Minibatch Loss= 583233.1875, Training Accuracy= 0.625\n",
      "Step 500, Minibatch Loss= 390545.3125, Training Accuracy= 0.750\n",
      "Step 600, Minibatch Loss= 1313288.8750, Training Accuracy= 0.750\n",
      "Step 700, Minibatch Loss= 694958.3750, Training Accuracy= 0.625\n",
      "Step 800, Minibatch Loss= 883576.5000, Training Accuracy= 0.875\n",
      "Step 900, Minibatch Loss= 3541659.0000, Training Accuracy= 0.500\n",
      "Step 1000, Minibatch Loss= 4441215.0000, Training Accuracy= 0.750\n"
     ]
    }
   ],
   "source": [
    "N='410'\n",
    "a=Image.open('/Users/sofiadunlosky/Downloads/ilovepdf_images-extracted/img'+N+'.jpg')\n",
    "# Start training\n",
    "with tf.Session() as sess:\n",
    "\n",
    "    # Run the initializer\n",
    "    sess.run(init)\n",
    "\n",
    "    for step in range(1, num_steps+1):\n",
    "        batch_x, batch_y = load_sample(a)\n",
    "        # Run optimization op (backprop)\n",
    "        sess.run(train_op, feed_dict={X: batch_x, Y: batch_y, keep_prob: dropout})\n",
    "        if step % display_step == 0 or step == 1:\n",
    "            # Calculate batch loss and accuracy\n",
    "            loss, acc = sess.run([loss_op, accuracy], feed_dict={X: batch_x,\n",
    "                                                                 Y: batch_y,\n",
    "                                                                 keep_prob: 1.0})\n",
    "            print(\"Step \" + str(step) + \", Minibatch Loss= \" + \\\n",
    "                  \"{:.4f}\".format(loss) + \", Training Accuracy= \" + \\\n",
    "                  \"{:.3f}\".format(acc))\n",
    "#     for step in range(1, num_steps+1):\n",
    "#         batch_x, batch_y = variation(pic_s,ans_s)\n",
    "#         # Run optimization op (backprop)\n",
    "#         sess.run(train_op, feed_dict={X: batch_x, Y: batch_y, keep_prob: dropout})\n",
    "#         if step % display_step == 0 or step == 1:\n",
    "#             # Calculate batch loss and accuracy\n",
    "#             loss, acc = sess.run([loss_op, accuracy], feed_dict={X: batch_x,\n",
    "#                                                                  Y: batch_y,\n",
    "#                                                                  keep_prob: 1.0})\n",
    "#             print(\"Step \" + str(step) + \", Minibatch Loss= \" + \\\n",
    "#                   \"{:.4f}\".format(loss) + \", Training Accuracy= \" + \\\n",
    "#                   \"{:.3f}\".format(acc))\n",
    "#     for step in range(1, num_steps+1):\n",
    "#         batch_x, batch_y = load_sample(a)\n",
    "#         # Run optimization op (backprop)\n",
    "#         sess.run(train_op, feed_dict={X: batch_x, Y: batch_y, keep_prob: dropout})\n",
    "#         if step % display_step == 0 or step == 1:\n",
    "#             # Calculate batch loss and accuracy\n",
    "#             loss, acc = sess.run([loss_op, accuracy], feed_dict={X: batch_x,\n",
    "#                                                                  Y: batch_y,\n",
    "#                                                                  keep_prob: 1.0})\n",
    "#             print(\"Step \" + str(step) + \", Minibatch Loss= \" + \\\n",
    "#                   \"{:.4f}\".format(loss) + \", Training Accuracy= \" + \\\n",
    "#                   \"{:.3f}\".format(acc))\n",
    "#     for step in range(1, num_steps+1):\n",
    "#         batch_x, batch_y = variation(pic_s,ans_s)\n",
    "#         # Run optimization op (backprop)\n",
    "#         sess.run(train_op, feed_dict={X: batch_x, Y: batch_y, keep_prob: dropout})\n",
    "#         if step % display_step == 0 or step == 1:\n",
    "#             # Calculate batch loss and accuracy\n",
    "#             loss, acc = sess.run([loss_op, accuracy], feed_dict={X: batch_x,\n",
    "#                                                                  Y: batch_y,\n",
    "#                                                                  keep_prob: 1.0})\n",
    "#             print(\"Step \" + str(step) + \", Minibatch Loss= \" + \\\n",
    "#                   \"{:.4f}\".format(loss) + \", Training Accuracy= \" + \\\n",
    "#                   \"{:.3f}\".format(acc))\n",
    "        \n",
    "#     for step in range(1, num_steps+1):\n",
    "#         batch_x, batch_y = variation(pic_s,ans_s)\n",
    "#         # Run optimization op (backprop)\n",
    "#         sess.run(train_op, feed_dict={X: batch_x, Y: batch_y, keep_prob: dropout})\n",
    "#         if step % display_step == 0 or step == 1:\n",
    "#             # Calculate batch loss and accuracy\n",
    "#             loss, acc = sess.run([loss_op, accuracy], feed_dict={X: batch_x,\n",
    "#                                                                  Y: batch_y,\n",
    "#                                                                  keep_prob: 1.0})\n",
    "#             print(\"Step \" + str(step) + \", Minibatch Loss= \" + \\\n",
    "#                   \"{:.4f}\".format(loss) + \", Training Accuracy= \" + \\\n",
    "#                   \"{:.3f}\".format(acc))\n",
    "\n",
    "#     print(\"Optimization Finished!\")\n",
    "\n",
    "    #Calculate accuracy for 256 MNIST test images\n",
    "#     print(\"Testing Accuracy:\", \\\n",
    "#          sess.run(accuracy, feed_dict={X: test,\n",
    "#                                        Y: answer_test,\n",
    "#                                        keep_prob: 1.0}))\n",
    "\n",
    "\n"
   ]
  },
  {
   "cell_type": "code",
   "execution_count": 11,
   "metadata": {},
   "outputs": [
    {
     "data": {
      "image/png": "[encoded data removed]",
      "text/plain": [
       "<Figure size 432x288 with 16 Axes>"
      ]
     },
     "metadata": {
      "needs_background": "light"
     },
     "output_type": "display_data"
    }
   ],
   "source": [
    "test=np.load('test.npy')\n",
    "for i in range(0,16):\n",
    "    plt.subplot(4,4,i+1)\n",
    "    plt.imshow(test[i,:].reshape(28,28))"
   ]
  },
  {
   "cell_type": "code",
   "execution_count": 12,
   "metadata": {},
   "outputs": [],
   "source": [
    "ans_test=np.zeros((16,15))\n",
    "ans_test[0,:]=[0,0,0,0,0,0,1,0,0,0,1,0,0,0,0]\n",
    "ans_test[1,:]=[0,0,0,0,0,0,1,0,0,0,1,0,0,0,0]\n",
    "ans_test[2,:]=[0,0,0,0,0,0,1,0,0,1,0,1,0,0,0]\n",
    "ans_test[3,:]=[0,0,0,0,0,0,1,0,0,0,1,0,0,0,0]\n",
    "ans_test[4,:]=[0,0,0,0,0,0,1,0,0,0,1,0,0,0,0]\n",
    "ans_test[5,:]=[0,0,0,0,0,0,1,0,0,1,0,1,0,0,0]\n",
    "ans_test[6,:]=[0,0,0,0,0,0,1,0,0,1,0,1,0,0,0]\n",
    "ans_test[7,:]=[0,0,0,0,0,0,1,0,0,1,0,1,0,0,0]\n",
    "ans_test[8,:]=[0,0,0,0,0,0,1,0,0,1,0,1,0,0,0]\n",
    "ans_test[9,:]=[0,0,0,0,0,0,1,0,0,0,1,0,0,0,0]\n",
    "ans_test[10,:]=[0,0,0,0,0,0,1,0,0,1,0,0,0,1,0]\n",
    "ans_test[11,:]=[0,0,0,0,0,0,1,0,0,1,0,1,0,0,0]\n",
    "ans_test[12,:]=[0,0,0,0,0,0,1,0,0,1,0,1,0,0,0]\n",
    "ans_test[13,:]=[0,0,0,0,0,0,1,0,0,1,0,0,0,0,1]\n",
    "ans_test[14,:]=[0,0,0,0,0,0,1,0,0,1,0,0,0,1,0]\n",
    "ans_test[15,:]=[0,0,0,0,0,0,1,0,0,0,1,0,0,0,0]"
   ]
  },
  {
   "cell_type": "code",
   "execution_count": 42,
   "metadata": {},
   "outputs": [
    {
     "name": "stdout",
     "output_type": "stream",
     "text": [
      "Testing Accuracy: 0.0\n",
      "Testing Accuracy: 0.0\n"
     ]
    }
   ],
   "source": [
    "test=np.load('test.npy')\n",
    " #Calculate accuracy for 256 MNIST test images\n",
    "with tf.Session() as sess:\n",
    "\n",
    "    # Run the initializer\n",
    "    sess.run(init)\n",
    "    print(\"Testing Accuracy:\", \\\n",
    "        sess.run(accuracy, feed_dict={X: test[0:8,:],\n",
    "                                    Y: ans_test[0:8,:],\n",
    "                                    keep_prob: 1.0}))\n",
    "with tf.Session() as sess:\n",
    "\n",
    "    # Run the initializer\n",
    "    sess.run(init)\n",
    "    print(\"Testing Accuracy:\", \\\n",
    "        sess.run(accuracy, feed_dict={X: test[8:16,:],\n",
    "                                    Y: ans_test[8:16,:],\n",
    "                                    keep_prob: 1.0}))"
   ]
  },
  {
   "cell_type": "code",
   "execution_count": 43,
   "metadata": {},
   "outputs": [
    {
     "data": {
      "text/plain": [
       "[]"
      ]
     },
     "execution_count": 43,
     "metadata": {},
     "output_type": "execute_result"
    }
   ],
   "source": [
    "tf."
   ]
  },
  {
   "cell_type": "code",
   "execution_count": 44,
   "metadata": {},
   "outputs": [
    {
     "data": {
      "text/plain": [
       "(8, 784)"
      ]
     },
     "execution_count": 44,
     "metadata": {},
     "output_type": "execute_result"
    }
   ],
   "source": [
    "batch_x.shape"
   ]
  },
  {
   "cell_type": "code",
   "execution_count": null,
   "metadata": {},
   "outputs": [],
   "source": []
  }
 ],
 "metadata": {
  "kernelspec": {
   "display_name": "Python 3",
   "language": "python",
   "name": "python3"
  },
  "language_info": {
   "codemirror_mode": {
    "name": "ipython",
    "version": 3
   },
   "file_extension": ".py",
   "mimetype": "text/x-python",
   "name": "python",
   "nbconvert_exporter": "python",
   "pygments_lexer": "ipython3",
   "version": "3.6.8"
  }
 },
 "nbformat": 4,
 "nbformat_minor": 2
}
