{
 "cells": [
  {
   "cell_type": "code",
   "execution_count": 1,
   "metadata": {},
   "outputs": [],
   "source": [
    "from run_E1layer import runE"
   ]
  },
  {
   "cell_type": "code",
   "execution_count": 2,
   "metadata": {},
   "outputs": [
    {
     "name": "stderr",
     "output_type": "stream",
     "text": [
      "WARNING: Logging before flag parsing goes to stderr.\n",
      "W0706 16:51:37.798276 140398334506816 deprecation_wrapper.py:119] From /afs/inf.ed.ac.uk/user/s18/s1883226/Downloads/experiment/con1.py:21: The name tf.placeholder is deprecated. Please use tf.compat.v1.placeholder instead.\n",
      "\n",
      "W0706 16:51:37.817527 140398334506816 deprecation_wrapper.py:119] From /afs/inf.ed.ac.uk/user/s18/s1883226/Downloads/experiment/con1.py:27: The name tf.random_normal is deprecated. Please use tf.random.normal instead.\n",
      "\n",
      "W0706 16:51:37.870888 140398334506816 deprecation_wrapper.py:119] From /afs/inf.ed.ac.uk/user/s18/s1883226/Downloads/experiment/convo1.py:11: The name tf.nn.max_pool is deprecated. Please use tf.nn.max_pool2d instead.\n",
      "\n",
      "W0706 16:51:37.881032 140398334506816 deprecation.py:506] From /afs/inf.ed.ac.uk/user/s18/s1883226/Downloads/experiment/convo1.py:38: calling dropout (from tensorflow.python.ops.nn_ops) with keep_prob is deprecated and will be removed in a future version.\n",
      "Instructions for updating:\n",
      "Please use `rate` instead of `keep_prob`. Rate should be set to `rate = 1 - keep_prob`.\n",
      "W0706 16:51:37.895071 140398334506816 deprecation.py:323] From /afs/inf.ed.ac.uk/user/s18/s1883226/Downloads/experiment/con1.py:49: softmax_cross_entropy_with_logits (from tensorflow.python.ops.nn_ops) is deprecated and will be removed in a future version.\n",
      "Instructions for updating:\n",
      "\n",
      "Future major versions of TensorFlow will allow gradients to flow\n",
      "into the labels input on backprop by default.\n",
      "\n",
      "See `tf.nn.softmax_cross_entropy_with_logits_v2`.\n",
      "\n",
      "W0706 16:51:37.919657 140398334506816 deprecation_wrapper.py:119] From /afs/inf.ed.ac.uk/user/s18/s1883226/Downloads/experiment/con1.py:50: The name tf.train.AdamOptimizer is deprecated. Please use tf.compat.v1.train.AdamOptimizer instead.\n",
      "\n",
      "W0706 16:51:38.078494 140398334506816 deprecation_wrapper.py:119] From /afs/inf.ed.ac.uk/user/s18/s1883226/Downloads/experiment/con1.py:59: The name tf.global_variables_initializer is deprecated. Please use tf.compat.v1.global_variables_initializer instead.\n",
      "\n",
      "W0706 16:51:38.080115 140398334506816 deprecation_wrapper.py:119] From /afs/inf.ed.ac.uk/user/s18/s1883226/Downloads/experiment/con1.py:69: The name tf.Session is deprecated. Please use tf.compat.v1.Session instead.\n",
      "\n"
     ]
    },
    {
     "name": "stdout",
     "output_type": "stream",
     "text": [
      "Step 1, Minibatch Loss= 68193.3047, Train Accuracy= 0.000\n",
      "Step 2, Minibatch Loss= 2275.1055, Train Accuracy= 0.000\n",
      "Step 3, Minibatch Loss= 290952.6875, Train Accuracy= 0.000\n",
      "Step 4, Minibatch Loss= 68246.1328, Train Accuracy= 0.000\n",
      "Step 5, Minibatch Loss= 80367.0312, Train Accuracy= 0.000\n",
      "Step 6, Minibatch Loss= 0.0000, Train Accuracy= 1.000\n",
      "Step 1, Minibatch Loss= 0.0000, Train Accuracy= 1.000\n",
      "Step 2, Minibatch Loss= 0.0000, Train Accuracy= 1.000\n",
      "Step 3, Minibatch Loss= 58785.9609, Train Accuracy= 0.000\n",
      "Step 4, Minibatch Loss= 89155.2422, Train Accuracy= 0.000\n",
      "Step 5, Minibatch Loss= 113795.1875, Train Accuracy= 0.000\n",
      "Step 6, Minibatch Loss= 10087.9141, Train Accuracy= 0.000\n",
      "Step 7, Minibatch Loss= 1593.0432, Train Accuracy= 0.000\n",
      "Step 8, Minibatch Loss= 98831.9922, Train Accuracy= 0.000\n",
      "Step 9, Minibatch Loss= 5732.6572, Train Accuracy= 0.000\n",
      "Step 10, Minibatch Loss= 57126.5391, Train Accuracy= 0.000\n",
      "Step 11, Minibatch Loss= 47104.4844, Train Accuracy= 0.000\n",
      "Step 12, Minibatch Loss= 68763.3438, Train Accuracy= 0.000\n",
      "Step 13, Minibatch Loss= 4898.1963, Train Accuracy= 0.000\n",
      "Step 14, Minibatch Loss= 54667.1250, Train Accuracy= 0.000\n",
      "Step 15, Minibatch Loss= 2711.3945, Train Accuracy= 0.000\n",
      "Step 16, Minibatch Loss= 8160.0996, Train Accuracy= 0.000\n",
      "Step 17, Minibatch Loss= 131.2305, Train Accuracy= 0.000\n",
      "Step 18, Minibatch Loss= 0.0000, Train Accuracy= 1.000\n",
      "Step 1, Minibatch Loss= 0.0000, Train Accuracy= 1.000\n",
      "Step 2, Minibatch Loss= 38527.6406, Train Accuracy= 0.000\n",
      "Step 3, Minibatch Loss= 0.0000, Train Accuracy= 1.000\n",
      "Step 4, Minibatch Loss= 44852.5820, Train Accuracy= 0.000\n",
      "Step 5, Minibatch Loss= 0.0000, Train Accuracy= 1.000\n",
      "Step 6, Minibatch Loss= 1365.9507, Train Accuracy= 0.000\n",
      "Step 7, Minibatch Loss= 2575.6189, Train Accuracy= 0.000\n",
      "Step 8, Minibatch Loss= 34460.0039, Train Accuracy= 0.000\n",
      "Step 9, Minibatch Loss= 0.0000, Train Accuracy= 1.000\n",
      "Step 1, Minibatch Loss= 11100.3164, Train Accuracy= 0.000\n",
      "Step 2, Minibatch Loss= 107899.0391, Train Accuracy= 0.000\n",
      "Step 3, Minibatch Loss= 10980.2148, Train Accuracy= 0.000\n",
      "Step 4, Minibatch Loss= 11102.6113, Train Accuracy= 0.000\n",
      "Step 5, Minibatch Loss= 88364.0000, Train Accuracy= 0.000\n",
      "Step 6, Minibatch Loss= 11748.2500, Train Accuracy= 0.000\n",
      "Step 7, Minibatch Loss= 5643.1738, Train Accuracy= 0.000\n",
      "Step 8, Minibatch Loss= 66430.7109, Train Accuracy= 0.000\n",
      "Step 9, Minibatch Loss= 8654.9277, Train Accuracy= 0.000\n",
      "Step 10, Minibatch Loss= 51076.6914, Train Accuracy= 0.000\n",
      "Step 11, Minibatch Loss= 44090.1562, Train Accuracy= 0.000\n",
      "Step 12, Minibatch Loss= 0.0000, Train Accuracy= 1.000\n",
      "Step 1, Minibatch Loss= 32503.8477, Train Accuracy= 0.000\n",
      "Step 2, Minibatch Loss= 17572.2246, Train Accuracy= 0.000\n",
      "Step 3, Minibatch Loss= 11502.6211, Train Accuracy= 0.000\n",
      "Step 4, Minibatch Loss= 16991.6484, Train Accuracy= 0.000\n",
      "Step 5, Minibatch Loss= 11430.7275, Train Accuracy= 0.000\n",
      "Step 6, Minibatch Loss= 0.0000, Train Accuracy= 1.000\n",
      "Step 1, Minibatch Loss= 214445.5781, Train Accuracy= 0.000\n",
      "Step 2, Minibatch Loss= 162366.0000, Train Accuracy= 0.000\n",
      "Step 3, Minibatch Loss= 16599.6875, Train Accuracy= 0.000\n",
      "Step 4, Minibatch Loss= 60235.6836, Train Accuracy= 0.000\n",
      "Step 5, Minibatch Loss= 44077.4375, Train Accuracy= 0.000\n",
      "Step 6, Minibatch Loss= 53594.3516, Train Accuracy= 0.000\n",
      "Step 7, Minibatch Loss= 127761.1953, Train Accuracy= 0.000\n",
      "Step 8, Minibatch Loss= 45293.3086, Train Accuracy= 0.000\n",
      "Step 9, Minibatch Loss= 87910.7188, Train Accuracy= 0.000\n",
      "Step 10, Minibatch Loss= 36825.9023, Train Accuracy= 0.000\n",
      "Step 11, Minibatch Loss= 28766.6133, Train Accuracy= 0.000\n",
      "Step 12, Minibatch Loss= 66338.6484, Train Accuracy= 0.000\n",
      "Step 13, Minibatch Loss= 57047.2461, Train Accuracy= 0.000\n",
      "Step 14, Minibatch Loss= 0.0000, Train Accuracy= 1.000\n",
      "Step 1, Minibatch Loss= 29284.4648, Train Accuracy= 0.000\n",
      "Step 2, Minibatch Loss= 42277.9062, Train Accuracy= 0.000\n",
      "Step 3, Minibatch Loss= 0.0000, Train Accuracy= 1.000\n",
      "Step 4, Minibatch Loss= 0.0000, Train Accuracy= 1.000\n",
      "Step 5, Minibatch Loss= 57466.2500, Train Accuracy= 0.000\n",
      "Step 6, Minibatch Loss= 75073.4609, Train Accuracy= 0.000\n",
      "Step 7, Minibatch Loss= 0.0000, Train Accuracy= 1.000\n",
      "Step 1, Minibatch Loss= 68730.4062, Train Accuracy= 0.000\n",
      "Step 2, Minibatch Loss= 0.0000, Train Accuracy= 1.000\n",
      "Step 3, Minibatch Loss= 0.0000, Train Accuracy= 1.000\n",
      "Step 4, Minibatch Loss= 86213.4531, Train Accuracy= 0.000\n",
      "Step 5, Minibatch Loss= 74562.0703, Train Accuracy= 0.000\n",
      "Step 6, Minibatch Loss= 60888.2344, Train Accuracy= 0.000\n",
      "Step 7, Minibatch Loss= 46070.8750, Train Accuracy= 0.000\n",
      "Step 8, Minibatch Loss= 22503.5059, Train Accuracy= 0.000\n",
      "Step 9, Minibatch Loss= 35390.4492, Train Accuracy= 0.000\n",
      "Step 10, Minibatch Loss= 14757.6914, Train Accuracy= 0.000\n",
      "Step 11, Minibatch Loss= 11344.6475, Train Accuracy= 0.000\n",
      "Step 12, Minibatch Loss= 34082.0039, Train Accuracy= 0.000\n",
      "Step 13, Minibatch Loss= 30171.1641, Train Accuracy= 0.000\n",
      "Step 14, Minibatch Loss= 24698.3086, Train Accuracy= 0.000\n",
      "Step 15, Minibatch Loss= 51585.2461, Train Accuracy= 0.000\n",
      "Step 16, Minibatch Loss= 0.0000, Train Accuracy= 1.000\n"
     ]
    },
    {
     "ename": "KeyboardInterrupt",
     "evalue": "",
     "output_type": "error",
     "traceback": [
      "\u001b[0;31m---------------------------------------------------------------------------\u001b[0m",
      "\u001b[0;31mKeyboardInterrupt\u001b[0m                         Traceback (most recent call last)",
      "\u001b[0;32m<ipython-input-2-96b8e96de6bb>\u001b[0m in \u001b[0;36m<module>\u001b[0;34m\u001b[0m\n\u001b[0;32m----> 1\u001b[0;31m \u001b[0mrunE\u001b[0m\u001b[0;34m(\u001b[0m\u001b[0;34m'27'\u001b[0m\u001b[0;34m,\u001b[0m\u001b[0;36m5\u001b[0m\u001b[0;34m)\u001b[0m\u001b[0;34m\u001b[0m\u001b[0;34m\u001b[0m\u001b[0m\n\u001b[0m",
      "\u001b[0;32m~/Downloads/experiment/run_E1layer.py\u001b[0m in \u001b[0;36mrunE\u001b[0;34m(N, ans)\u001b[0m\n\u001b[1;32m     15\u001b[0m     \u001b[0mE2\u001b[0m\u001b[0;34m=\u001b[0m\u001b[0mnp\u001b[0m\u001b[0;34m.\u001b[0m\u001b[0mzeros\u001b[0m\u001b[0;34m(\u001b[0m\u001b[0;34m(\u001b[0m\u001b[0;36m50\u001b[0m\u001b[0;34m,\u001b[0m\u001b[0;36m6\u001b[0m\u001b[0;34m)\u001b[0m\u001b[0;34m)\u001b[0m\u001b[0;34m\u001b[0m\u001b[0;34m\u001b[0m\u001b[0m\n\u001b[1;32m     16\u001b[0m     \u001b[0;32mwhile\u001b[0m \u001b[0mi\u001b[0m\u001b[0;34m<\u001b[0m\u001b[0;36m50\u001b[0m\u001b[0;34m:\u001b[0m\u001b[0;34m\u001b[0m\u001b[0;34m\u001b[0m\u001b[0m\n\u001b[0;32m---> 17\u001b[0;31m         \u001b[0mw1\u001b[0m\u001b[0;34m,\u001b[0m\u001b[0mw2\u001b[0m\u001b[0;34m,\u001b[0m\u001b[0mNum\u001b[0m\u001b[0;34m=\u001b[0m\u001b[0mtrain_cov\u001b[0m\u001b[0;34m(\u001b[0m\u001b[0mpic\u001b[0m\u001b[0;34m[\u001b[0m\u001b[0;34m:\u001b[0m\u001b[0;34m,\u001b[0m\u001b[0;34m:\u001b[0m\u001b[0;34m,\u001b[0m\u001b[0;34m:\u001b[0m\u001b[0;34m]\u001b[0m\u001b[0;34m)\u001b[0m\u001b[0;34m\u001b[0m\u001b[0;34m\u001b[0m\u001b[0m\n\u001b[0m\u001b[1;32m     18\u001b[0m         \u001b[0;32mif\u001b[0m \u001b[0mNum\u001b[0m\u001b[0;34m==\u001b[0m\u001b[0;36m1\u001b[0m\u001b[0;34m:\u001b[0m\u001b[0;34m\u001b[0m\u001b[0;34m\u001b[0m\u001b[0m\n\u001b[1;32m     19\u001b[0m             \u001b[0mW1\u001b[0m\u001b[0;34m[\u001b[0m\u001b[0;34m:\u001b[0m\u001b[0;34m,\u001b[0m\u001b[0;34m:\u001b[0m\u001b[0;34m,\u001b[0m\u001b[0;34m:\u001b[0m\u001b[0;34m,\u001b[0m\u001b[0;34m:\u001b[0m\u001b[0;34m,\u001b[0m\u001b[0mi\u001b[0m\u001b[0;34m]\u001b[0m\u001b[0;34m=\u001b[0m\u001b[0mw1\u001b[0m\u001b[0;34m\u001b[0m\u001b[0;34m\u001b[0m\u001b[0m\n",
      "\u001b[0;32m~/Downloads/experiment/con1.py\u001b[0m in \u001b[0;36mtrain_cov\u001b[0;34m(A)\u001b[0m\n\u001b[1;32m     49\u001b[0m         logits=logits, labels=Y))\n\u001b[1;32m     50\u001b[0m     \u001b[0moptimizer\u001b[0m \u001b[0;34m=\u001b[0m \u001b[0mtf\u001b[0m\u001b[0;34m.\u001b[0m\u001b[0mtrain\u001b[0m\u001b[0;34m.\u001b[0m\u001b[0mAdamOptimizer\u001b[0m\u001b[0;34m(\u001b[0m\u001b[0mlearning_rate\u001b[0m\u001b[0;34m=\u001b[0m\u001b[0mlearning_rate\u001b[0m\u001b[0;34m)\u001b[0m\u001b[0;34m\u001b[0m\u001b[0;34m\u001b[0m\u001b[0m\n\u001b[0;32m---> 51\u001b[0;31m     \u001b[0mtrain_op\u001b[0m \u001b[0;34m=\u001b[0m \u001b[0moptimizer\u001b[0m\u001b[0;34m.\u001b[0m\u001b[0mminimize\u001b[0m\u001b[0;34m(\u001b[0m\u001b[0mloss_op\u001b[0m\u001b[0;34m)\u001b[0m\u001b[0;34m\u001b[0m\u001b[0;34m\u001b[0m\u001b[0m\n\u001b[0m\u001b[1;32m     52\u001b[0m \u001b[0;34m\u001b[0m\u001b[0m\n\u001b[1;32m     53\u001b[0m \u001b[0;34m\u001b[0m\u001b[0m\n",
      "\u001b[0;32m~/miniconda3/envs/mlp/lib/python3.6/site-packages/tensorflow/python/training/optimizer.py\u001b[0m in \u001b[0;36mminimize\u001b[0;34m(self, loss, global_step, var_list, gate_gradients, aggregation_method, colocate_gradients_with_ops, name, grad_loss)\u001b[0m\n\u001b[1;32m    411\u001b[0m \u001b[0;34m\u001b[0m\u001b[0m\n\u001b[1;32m    412\u001b[0m     return self.apply_gradients(grads_and_vars, global_step=global_step,\n\u001b[0;32m--> 413\u001b[0;31m                                 name=name)\n\u001b[0m\u001b[1;32m    414\u001b[0m \u001b[0;34m\u001b[0m\u001b[0m\n\u001b[1;32m    415\u001b[0m   def compute_gradients(self, loss, var_list=None,\n",
      "\u001b[0;32m~/miniconda3/envs/mlp/lib/python3.6/site-packages/tensorflow/python/training/optimizer.py\u001b[0m in \u001b[0;36mapply_gradients\u001b[0;34m(self, grads_and_vars, global_step, name)\u001b[0m\n\u001b[1;32m    595\u001b[0m                        ([str(v) for _, v, _ in converted_grads_and_vars],))\n\u001b[1;32m    596\u001b[0m     \u001b[0;32mwith\u001b[0m \u001b[0mops\u001b[0m\u001b[0;34m.\u001b[0m\u001b[0minit_scope\u001b[0m\u001b[0;34m(\u001b[0m\u001b[0;34m)\u001b[0m\u001b[0;34m:\u001b[0m\u001b[0;34m\u001b[0m\u001b[0;34m\u001b[0m\u001b[0m\n\u001b[0;32m--> 597\u001b[0;31m       \u001b[0mself\u001b[0m\u001b[0;34m.\u001b[0m\u001b[0m_create_slots\u001b[0m\u001b[0;34m(\u001b[0m\u001b[0mvar_list\u001b[0m\u001b[0;34m)\u001b[0m\u001b[0;34m\u001b[0m\u001b[0;34m\u001b[0m\u001b[0m\n\u001b[0m\u001b[1;32m    598\u001b[0m     \u001b[0mupdate_ops\u001b[0m \u001b[0;34m=\u001b[0m \u001b[0;34m[\u001b[0m\u001b[0;34m]\u001b[0m\u001b[0;34m\u001b[0m\u001b[0;34m\u001b[0m\u001b[0m\n\u001b[1;32m    599\u001b[0m     \u001b[0;32mwith\u001b[0m \u001b[0mops\u001b[0m\u001b[0;34m.\u001b[0m\u001b[0mname_scope\u001b[0m\u001b[0;34m(\u001b[0m\u001b[0mname\u001b[0m\u001b[0;34m,\u001b[0m \u001b[0mself\u001b[0m\u001b[0;34m.\u001b[0m\u001b[0m_name\u001b[0m\u001b[0;34m)\u001b[0m \u001b[0;32mas\u001b[0m \u001b[0mname\u001b[0m\u001b[0;34m:\u001b[0m\u001b[0;34m\u001b[0m\u001b[0;34m\u001b[0m\u001b[0m\n",
      "\u001b[0;32m~/miniconda3/envs/mlp/lib/python3.6/site-packages/tensorflow/python/training/adam.py\u001b[0m in \u001b[0;36m_create_slots\u001b[0;34m(self, var_list)\u001b[0m\n\u001b[1;32m    130\u001b[0m     \u001b[0;32mfor\u001b[0m \u001b[0mv\u001b[0m \u001b[0;32min\u001b[0m \u001b[0mvar_list\u001b[0m\u001b[0;34m:\u001b[0m\u001b[0;34m\u001b[0m\u001b[0;34m\u001b[0m\u001b[0m\n\u001b[1;32m    131\u001b[0m       \u001b[0mself\u001b[0m\u001b[0;34m.\u001b[0m\u001b[0m_zeros_slot\u001b[0m\u001b[0;34m(\u001b[0m\u001b[0mv\u001b[0m\u001b[0;34m,\u001b[0m \u001b[0;34m\"m\"\u001b[0m\u001b[0;34m,\u001b[0m \u001b[0mself\u001b[0m\u001b[0;34m.\u001b[0m\u001b[0m_name\u001b[0m\u001b[0;34m)\u001b[0m\u001b[0;34m\u001b[0m\u001b[0;34m\u001b[0m\u001b[0m\n\u001b[0;32m--> 132\u001b[0;31m       \u001b[0mself\u001b[0m\u001b[0;34m.\u001b[0m\u001b[0m_zeros_slot\u001b[0m\u001b[0;34m(\u001b[0m\u001b[0mv\u001b[0m\u001b[0;34m,\u001b[0m \u001b[0;34m\"v\"\u001b[0m\u001b[0;34m,\u001b[0m \u001b[0mself\u001b[0m\u001b[0;34m.\u001b[0m\u001b[0m_name\u001b[0m\u001b[0;34m)\u001b[0m\u001b[0;34m\u001b[0m\u001b[0;34m\u001b[0m\u001b[0m\n\u001b[0m\u001b[1;32m    133\u001b[0m \u001b[0;34m\u001b[0m\u001b[0m\n\u001b[1;32m    134\u001b[0m   \u001b[0;32mdef\u001b[0m \u001b[0m_prepare\u001b[0m\u001b[0;34m(\u001b[0m\u001b[0mself\u001b[0m\u001b[0;34m)\u001b[0m\u001b[0;34m:\u001b[0m\u001b[0;34m\u001b[0m\u001b[0;34m\u001b[0m\u001b[0m\n",
      "\u001b[0;32m~/miniconda3/envs/mlp/lib/python3.6/site-packages/tensorflow/python/training/optimizer.py\u001b[0m in \u001b[0;36m_zeros_slot\u001b[0;34m(self, var, slot_name, op_name)\u001b[0m\n\u001b[1;32m   1153\u001b[0m     \u001b[0mnamed_slots\u001b[0m \u001b[0;34m=\u001b[0m \u001b[0mself\u001b[0m\u001b[0;34m.\u001b[0m\u001b[0m_slot_dict\u001b[0m\u001b[0;34m(\u001b[0m\u001b[0mslot_name\u001b[0m\u001b[0;34m)\u001b[0m\u001b[0;34m\u001b[0m\u001b[0;34m\u001b[0m\u001b[0m\n\u001b[1;32m   1154\u001b[0m     \u001b[0;32mif\u001b[0m \u001b[0m_var_key\u001b[0m\u001b[0;34m(\u001b[0m\u001b[0mvar\u001b[0m\u001b[0;34m)\u001b[0m \u001b[0;32mnot\u001b[0m \u001b[0;32min\u001b[0m \u001b[0mnamed_slots\u001b[0m\u001b[0;34m:\u001b[0m\u001b[0;34m\u001b[0m\u001b[0;34m\u001b[0m\u001b[0m\n\u001b[0;32m-> 1155\u001b[0;31m       \u001b[0mnew_slot_variable\u001b[0m \u001b[0;34m=\u001b[0m \u001b[0mslot_creator\u001b[0m\u001b[0;34m.\u001b[0m\u001b[0mcreate_zeros_slot\u001b[0m\u001b[0;34m(\u001b[0m\u001b[0mvar\u001b[0m\u001b[0;34m,\u001b[0m \u001b[0mop_name\u001b[0m\u001b[0;34m)\u001b[0m\u001b[0;34m\u001b[0m\u001b[0;34m\u001b[0m\u001b[0m\n\u001b[0m\u001b[1;32m   1156\u001b[0m       self._restore_slot_variable(\n\u001b[1;32m   1157\u001b[0m           \u001b[0mslot_name\u001b[0m\u001b[0;34m=\u001b[0m\u001b[0mslot_name\u001b[0m\u001b[0;34m,\u001b[0m \u001b[0mvariable\u001b[0m\u001b[0;34m=\u001b[0m\u001b[0mvar\u001b[0m\u001b[0;34m,\u001b[0m\u001b[0;34m\u001b[0m\u001b[0;34m\u001b[0m\u001b[0m\n",
      "\u001b[0;32m~/miniconda3/envs/mlp/lib/python3.6/site-packages/tensorflow/python/training/slot_creator.py\u001b[0m in \u001b[0;36mcreate_zeros_slot\u001b[0;34m(primary, name, dtype, colocate_with_primary)\u001b[0m\n\u001b[1;32m    188\u001b[0m     return create_slot_with_initializer(\n\u001b[1;32m    189\u001b[0m         \u001b[0mprimary\u001b[0m\u001b[0;34m,\u001b[0m \u001b[0minitializer\u001b[0m\u001b[0;34m,\u001b[0m \u001b[0mslot_shape\u001b[0m\u001b[0;34m,\u001b[0m \u001b[0mdtype\u001b[0m\u001b[0;34m,\u001b[0m \u001b[0mname\u001b[0m\u001b[0;34m,\u001b[0m\u001b[0;34m\u001b[0m\u001b[0;34m\u001b[0m\u001b[0m\n\u001b[0;32m--> 190\u001b[0;31m         colocate_with_primary=colocate_with_primary)\n\u001b[0m\u001b[1;32m    191\u001b[0m   \u001b[0;32melse\u001b[0m\u001b[0;34m:\u001b[0m\u001b[0;34m\u001b[0m\u001b[0;34m\u001b[0m\u001b[0m\n\u001b[1;32m    192\u001b[0m     \u001b[0;32mif\u001b[0m \u001b[0misinstance\u001b[0m\u001b[0;34m(\u001b[0m\u001b[0mprimary\u001b[0m\u001b[0;34m,\u001b[0m \u001b[0mvariables\u001b[0m\u001b[0;34m.\u001b[0m\u001b[0mVariable\u001b[0m\u001b[0;34m)\u001b[0m\u001b[0;34m:\u001b[0m\u001b[0;34m\u001b[0m\u001b[0;34m\u001b[0m\u001b[0m\n",
      "\u001b[0;32m~/miniconda3/envs/mlp/lib/python3.6/site-packages/tensorflow/python/training/slot_creator.py\u001b[0m in \u001b[0;36mcreate_slot_with_initializer\u001b[0;34m(primary, initializer, shape, dtype, name, colocate_with_primary)\u001b[0m\n\u001b[1;32m    162\u001b[0m       \u001b[0;32mwith\u001b[0m \u001b[0mdistribution_strategy\u001b[0m\u001b[0;34m.\u001b[0m\u001b[0mextended\u001b[0m\u001b[0;34m.\u001b[0m\u001b[0mcolocate_vars_with\u001b[0m\u001b[0;34m(\u001b[0m\u001b[0mprimary\u001b[0m\u001b[0;34m)\u001b[0m\u001b[0;34m:\u001b[0m\u001b[0;34m\u001b[0m\u001b[0;34m\u001b[0m\u001b[0m\n\u001b[1;32m    163\u001b[0m         return _create_slot_var(primary, initializer, \"\", validate_shape, shape,\n\u001b[0;32m--> 164\u001b[0;31m                                 dtype)\n\u001b[0m\u001b[1;32m    165\u001b[0m     \u001b[0;32melse\u001b[0m\u001b[0;34m:\u001b[0m\u001b[0;34m\u001b[0m\u001b[0;34m\u001b[0m\u001b[0m\n\u001b[1;32m    166\u001b[0m       return _create_slot_var(primary, initializer, \"\", validate_shape, shape,\n",
      "\u001b[0;32m~/miniconda3/envs/mlp/lib/python3.6/site-packages/tensorflow/python/training/slot_creator.py\u001b[0m in \u001b[0;36m_create_slot_var\u001b[0;34m(primary, val, scope, validate_shape, shape, dtype)\u001b[0m\n\u001b[1;32m     72\u001b[0m       \u001b[0mshape\u001b[0m\u001b[0;34m=\u001b[0m\u001b[0mshape\u001b[0m\u001b[0;34m,\u001b[0m\u001b[0;34m\u001b[0m\u001b[0;34m\u001b[0m\u001b[0m\n\u001b[1;32m     73\u001b[0m       \u001b[0mdtype\u001b[0m\u001b[0;34m=\u001b[0m\u001b[0mdtype\u001b[0m\u001b[0;34m,\u001b[0m\u001b[0;34m\u001b[0m\u001b[0;34m\u001b[0m\u001b[0m\n\u001b[0;32m---> 74\u001b[0;31m       validate_shape=validate_shape)\n\u001b[0m\u001b[1;32m     75\u001b[0m   \u001b[0mvariable_scope\u001b[0m\u001b[0;34m.\u001b[0m\u001b[0mget_variable_scope\u001b[0m\u001b[0;34m(\u001b[0m\u001b[0;34m)\u001b[0m\u001b[0;34m.\u001b[0m\u001b[0mset_partitioner\u001b[0m\u001b[0;34m(\u001b[0m\u001b[0mcurrent_partitioner\u001b[0m\u001b[0;34m)\u001b[0m\u001b[0;34m\u001b[0m\u001b[0;34m\u001b[0m\u001b[0m\n\u001b[1;32m     76\u001b[0m \u001b[0;34m\u001b[0m\u001b[0m\n",
      "\u001b[0;32m~/miniconda3/envs/mlp/lib/python3.6/site-packages/tensorflow/python/ops/variable_scope.py\u001b[0m in \u001b[0;36mget_variable\u001b[0;34m(name, shape, dtype, initializer, regularizer, trainable, collections, caching_device, partitioner, validate_shape, use_resource, custom_getter, constraint, synchronization, aggregation)\u001b[0m\n\u001b[1;32m   1494\u001b[0m       \u001b[0mconstraint\u001b[0m\u001b[0;34m=\u001b[0m\u001b[0mconstraint\u001b[0m\u001b[0;34m,\u001b[0m\u001b[0;34m\u001b[0m\u001b[0;34m\u001b[0m\u001b[0m\n\u001b[1;32m   1495\u001b[0m       \u001b[0msynchronization\u001b[0m\u001b[0;34m=\u001b[0m\u001b[0msynchronization\u001b[0m\u001b[0;34m,\u001b[0m\u001b[0;34m\u001b[0m\u001b[0;34m\u001b[0m\u001b[0m\n\u001b[0;32m-> 1496\u001b[0;31m       aggregation=aggregation)\n\u001b[0m\u001b[1;32m   1497\u001b[0m \u001b[0;34m\u001b[0m\u001b[0m\n\u001b[1;32m   1498\u001b[0m \u001b[0;34m\u001b[0m\u001b[0m\n",
      "\u001b[0;32m~/miniconda3/envs/mlp/lib/python3.6/site-packages/tensorflow/python/ops/variable_scope.py\u001b[0m in \u001b[0;36mget_variable\u001b[0;34m(self, var_store, name, shape, dtype, initializer, regularizer, reuse, trainable, collections, caching_device, partitioner, validate_shape, use_resource, custom_getter, constraint, synchronization, aggregation)\u001b[0m\n\u001b[1;32m   1237\u001b[0m           \u001b[0mconstraint\u001b[0m\u001b[0;34m=\u001b[0m\u001b[0mconstraint\u001b[0m\u001b[0;34m,\u001b[0m\u001b[0;34m\u001b[0m\u001b[0;34m\u001b[0m\u001b[0m\n\u001b[1;32m   1238\u001b[0m           \u001b[0msynchronization\u001b[0m\u001b[0;34m=\u001b[0m\u001b[0msynchronization\u001b[0m\u001b[0;34m,\u001b[0m\u001b[0;34m\u001b[0m\u001b[0;34m\u001b[0m\u001b[0m\n\u001b[0;32m-> 1239\u001b[0;31m           aggregation=aggregation)\n\u001b[0m\u001b[1;32m   1240\u001b[0m \u001b[0;34m\u001b[0m\u001b[0m\n\u001b[1;32m   1241\u001b[0m   def _get_partitioned_variable(self,\n",
      "\u001b[0;32m~/miniconda3/envs/mlp/lib/python3.6/site-packages/tensorflow/python/ops/variable_scope.py\u001b[0m in \u001b[0;36mget_variable\u001b[0;34m(self, name, shape, dtype, initializer, regularizer, reuse, trainable, collections, caching_device, partitioner, validate_shape, use_resource, custom_getter, constraint, synchronization, aggregation)\u001b[0m\n\u001b[1;32m    560\u001b[0m           \u001b[0mconstraint\u001b[0m\u001b[0;34m=\u001b[0m\u001b[0mconstraint\u001b[0m\u001b[0;34m,\u001b[0m\u001b[0;34m\u001b[0m\u001b[0;34m\u001b[0m\u001b[0m\n\u001b[1;32m    561\u001b[0m           \u001b[0msynchronization\u001b[0m\u001b[0;34m=\u001b[0m\u001b[0msynchronization\u001b[0m\u001b[0;34m,\u001b[0m\u001b[0;34m\u001b[0m\u001b[0;34m\u001b[0m\u001b[0m\n\u001b[0;32m--> 562\u001b[0;31m           aggregation=aggregation)\n\u001b[0m\u001b[1;32m    563\u001b[0m \u001b[0;34m\u001b[0m\u001b[0m\n\u001b[1;32m    564\u001b[0m   def _get_partitioned_variable(self,\n",
      "\u001b[0;32m~/miniconda3/envs/mlp/lib/python3.6/site-packages/tensorflow/python/ops/variable_scope.py\u001b[0m in \u001b[0;36m_true_getter\u001b[0;34m(name, shape, dtype, initializer, regularizer, reuse, trainable, collections, caching_device, partitioner, validate_shape, use_resource, constraint, synchronization, aggregation)\u001b[0m\n\u001b[1;32m    512\u001b[0m           \u001b[0mconstraint\u001b[0m\u001b[0;34m=\u001b[0m\u001b[0mconstraint\u001b[0m\u001b[0;34m,\u001b[0m\u001b[0;34m\u001b[0m\u001b[0;34m\u001b[0m\u001b[0m\n\u001b[1;32m    513\u001b[0m           \u001b[0msynchronization\u001b[0m\u001b[0;34m=\u001b[0m\u001b[0msynchronization\u001b[0m\u001b[0;34m,\u001b[0m\u001b[0;34m\u001b[0m\u001b[0;34m\u001b[0m\u001b[0m\n\u001b[0;32m--> 514\u001b[0;31m           aggregation=aggregation)\n\u001b[0m\u001b[1;32m    515\u001b[0m \u001b[0;34m\u001b[0m\u001b[0m\n\u001b[1;32m    516\u001b[0m     synchronization, aggregation, trainable = (\n",
      "\u001b[0;32m~/miniconda3/envs/mlp/lib/python3.6/site-packages/tensorflow/python/ops/variable_scope.py\u001b[0m in \u001b[0;36m_get_single_variable\u001b[0;34m(self, name, shape, dtype, initializer, regularizer, partition_info, reuse, trainable, collections, caching_device, validate_shape, use_resource, constraint, synchronization, aggregation)\u001b[0m\n\u001b[1;32m    927\u001b[0m         \u001b[0muse_resource\u001b[0m\u001b[0;34m=\u001b[0m\u001b[0muse_resource\u001b[0m\u001b[0;34m,\u001b[0m\u001b[0;34m\u001b[0m\u001b[0;34m\u001b[0m\u001b[0m\n\u001b[1;32m    928\u001b[0m         \u001b[0msynchronization\u001b[0m\u001b[0;34m=\u001b[0m\u001b[0msynchronization\u001b[0m\u001b[0;34m,\u001b[0m\u001b[0;34m\u001b[0m\u001b[0;34m\u001b[0m\u001b[0m\n\u001b[0;32m--> 929\u001b[0;31m         aggregation=aggregation)\n\u001b[0m\u001b[1;32m    930\u001b[0m     \u001b[0;32mif\u001b[0m \u001b[0mcontext\u001b[0m\u001b[0;34m.\u001b[0m\u001b[0mexecuting_eagerly\u001b[0m\u001b[0;34m(\u001b[0m\u001b[0;34m)\u001b[0m \u001b[0;32mand\u001b[0m \u001b[0mself\u001b[0m\u001b[0;34m.\u001b[0m\u001b[0m_store_eager_variables\u001b[0m\u001b[0;34m:\u001b[0m\u001b[0;34m\u001b[0m\u001b[0;34m\u001b[0m\u001b[0m\n\u001b[1;32m    931\u001b[0m       \u001b[0;32mif\u001b[0m \u001b[0mcollections\u001b[0m\u001b[0;34m:\u001b[0m\u001b[0;34m\u001b[0m\u001b[0;34m\u001b[0m\u001b[0m\n",
      "\u001b[0;32m~/miniconda3/envs/mlp/lib/python3.6/site-packages/tensorflow/python/ops/variables.py\u001b[0m in \u001b[0;36m__call__\u001b[0;34m(cls, *args, **kwargs)\u001b[0m\n\u001b[1;32m    257\u001b[0m   \u001b[0;32mdef\u001b[0m \u001b[0m__call__\u001b[0m\u001b[0;34m(\u001b[0m\u001b[0mcls\u001b[0m\u001b[0;34m,\u001b[0m \u001b[0;34m*\u001b[0m\u001b[0margs\u001b[0m\u001b[0;34m,\u001b[0m \u001b[0;34m**\u001b[0m\u001b[0mkwargs\u001b[0m\u001b[0;34m)\u001b[0m\u001b[0;34m:\u001b[0m\u001b[0;34m\u001b[0m\u001b[0;34m\u001b[0m\u001b[0m\n\u001b[1;32m    258\u001b[0m     \u001b[0;32mif\u001b[0m \u001b[0mcls\u001b[0m \u001b[0;32mis\u001b[0m \u001b[0mVariableV1\u001b[0m\u001b[0;34m:\u001b[0m\u001b[0;34m\u001b[0m\u001b[0;34m\u001b[0m\u001b[0m\n\u001b[0;32m--> 259\u001b[0;31m       \u001b[0;32mreturn\u001b[0m \u001b[0mcls\u001b[0m\u001b[0;34m.\u001b[0m\u001b[0m_variable_v1_call\u001b[0m\u001b[0;34m(\u001b[0m\u001b[0;34m*\u001b[0m\u001b[0margs\u001b[0m\u001b[0;34m,\u001b[0m \u001b[0;34m**\u001b[0m\u001b[0mkwargs\u001b[0m\u001b[0;34m)\u001b[0m\u001b[0;34m\u001b[0m\u001b[0;34m\u001b[0m\u001b[0m\n\u001b[0m\u001b[1;32m    260\u001b[0m     \u001b[0;32melif\u001b[0m \u001b[0mcls\u001b[0m \u001b[0;32mis\u001b[0m \u001b[0mVariable\u001b[0m\u001b[0;34m:\u001b[0m\u001b[0;34m\u001b[0m\u001b[0;34m\u001b[0m\u001b[0m\n\u001b[1;32m    261\u001b[0m       \u001b[0;32mreturn\u001b[0m \u001b[0mcls\u001b[0m\u001b[0;34m.\u001b[0m\u001b[0m_variable_v2_call\u001b[0m\u001b[0;34m(\u001b[0m\u001b[0;34m*\u001b[0m\u001b[0margs\u001b[0m\u001b[0;34m,\u001b[0m \u001b[0;34m**\u001b[0m\u001b[0mkwargs\u001b[0m\u001b[0;34m)\u001b[0m\u001b[0;34m\u001b[0m\u001b[0;34m\u001b[0m\u001b[0m\n",
      "\u001b[0;32m~/miniconda3/envs/mlp/lib/python3.6/site-packages/tensorflow/python/ops/variables.py\u001b[0m in \u001b[0;36m_variable_v1_call\u001b[0;34m(cls, initial_value, trainable, collections, validate_shape, caching_device, name, variable_def, dtype, expected_shape, import_scope, constraint, use_resource, synchronization, aggregation, shape)\u001b[0m\n\u001b[1;32m    218\u001b[0m         \u001b[0msynchronization\u001b[0m\u001b[0;34m=\u001b[0m\u001b[0msynchronization\u001b[0m\u001b[0;34m,\u001b[0m\u001b[0;34m\u001b[0m\u001b[0;34m\u001b[0m\u001b[0m\n\u001b[1;32m    219\u001b[0m         \u001b[0maggregation\u001b[0m\u001b[0;34m=\u001b[0m\u001b[0maggregation\u001b[0m\u001b[0;34m,\u001b[0m\u001b[0;34m\u001b[0m\u001b[0;34m\u001b[0m\u001b[0m\n\u001b[0;32m--> 220\u001b[0;31m         shape=shape)\n\u001b[0m\u001b[1;32m    221\u001b[0m \u001b[0;34m\u001b[0m\u001b[0m\n\u001b[1;32m    222\u001b[0m   def _variable_v2_call(cls,\n",
      "\u001b[0;32m~/miniconda3/envs/mlp/lib/python3.6/site-packages/tensorflow/python/ops/variables.py\u001b[0m in \u001b[0;36m<lambda>\u001b[0;34m(**kwargs)\u001b[0m\n\u001b[1;32m    196\u001b[0m                         shape=None):\n\u001b[1;32m    197\u001b[0m     \u001b[0;34m\"\"\"Call on Variable class. Useful to force the signature.\"\"\"\u001b[0m\u001b[0;34m\u001b[0m\u001b[0;34m\u001b[0m\u001b[0m\n\u001b[0;32m--> 198\u001b[0;31m     \u001b[0mprevious_getter\u001b[0m \u001b[0;34m=\u001b[0m \u001b[0;32mlambda\u001b[0m \u001b[0;34m**\u001b[0m\u001b[0mkwargs\u001b[0m\u001b[0;34m:\u001b[0m \u001b[0mdefault_variable_creator\u001b[0m\u001b[0;34m(\u001b[0m\u001b[0;32mNone\u001b[0m\u001b[0;34m,\u001b[0m \u001b[0;34m**\u001b[0m\u001b[0mkwargs\u001b[0m\u001b[0;34m)\u001b[0m\u001b[0;34m\u001b[0m\u001b[0;34m\u001b[0m\u001b[0m\n\u001b[0m\u001b[1;32m    199\u001b[0m     \u001b[0;32mfor\u001b[0m \u001b[0m_\u001b[0m\u001b[0;34m,\u001b[0m \u001b[0mgetter\u001b[0m \u001b[0;32min\u001b[0m \u001b[0mops\u001b[0m\u001b[0;34m.\u001b[0m\u001b[0mget_default_graph\u001b[0m\u001b[0;34m(\u001b[0m\u001b[0;34m)\u001b[0m\u001b[0;34m.\u001b[0m\u001b[0m_variable_creator_stack\u001b[0m\u001b[0;34m:\u001b[0m  \u001b[0;31m# pylint: disable=protected-access\u001b[0m\u001b[0;34m\u001b[0m\u001b[0;34m\u001b[0m\u001b[0m\n\u001b[1;32m    200\u001b[0m       \u001b[0mprevious_getter\u001b[0m \u001b[0;34m=\u001b[0m \u001b[0m_make_getter\u001b[0m\u001b[0;34m(\u001b[0m\u001b[0mgetter\u001b[0m\u001b[0;34m,\u001b[0m \u001b[0mprevious_getter\u001b[0m\u001b[0;34m)\u001b[0m\u001b[0;34m\u001b[0m\u001b[0;34m\u001b[0m\u001b[0m\n",
      "\u001b[0;32m~/miniconda3/envs/mlp/lib/python3.6/site-packages/tensorflow/python/ops/variable_scope.py\u001b[0m in \u001b[0;36mdefault_variable_creator\u001b[0;34m(next_creator, **kwargs)\u001b[0m\n\u001b[1;32m   2509\u001b[0m         \u001b[0msynchronization\u001b[0m\u001b[0;34m=\u001b[0m\u001b[0msynchronization\u001b[0m\u001b[0;34m,\u001b[0m\u001b[0;34m\u001b[0m\u001b[0;34m\u001b[0m\u001b[0m\n\u001b[1;32m   2510\u001b[0m         \u001b[0maggregation\u001b[0m\u001b[0;34m=\u001b[0m\u001b[0maggregation\u001b[0m\u001b[0;34m,\u001b[0m\u001b[0;34m\u001b[0m\u001b[0;34m\u001b[0m\u001b[0m\n\u001b[0;32m-> 2511\u001b[0;31m         shape=shape)\n\u001b[0m\u001b[1;32m   2512\u001b[0m \u001b[0;34m\u001b[0m\u001b[0m\n\u001b[1;32m   2513\u001b[0m \u001b[0;34m\u001b[0m\u001b[0m\n",
      "\u001b[0;32m~/miniconda3/envs/mlp/lib/python3.6/site-packages/tensorflow/python/ops/variables.py\u001b[0m in \u001b[0;36m__call__\u001b[0;34m(cls, *args, **kwargs)\u001b[0m\n\u001b[1;32m    261\u001b[0m       \u001b[0;32mreturn\u001b[0m \u001b[0mcls\u001b[0m\u001b[0;34m.\u001b[0m\u001b[0m_variable_v2_call\u001b[0m\u001b[0;34m(\u001b[0m\u001b[0;34m*\u001b[0m\u001b[0margs\u001b[0m\u001b[0;34m,\u001b[0m \u001b[0;34m**\u001b[0m\u001b[0mkwargs\u001b[0m\u001b[0;34m)\u001b[0m\u001b[0;34m\u001b[0m\u001b[0;34m\u001b[0m\u001b[0m\n\u001b[1;32m    262\u001b[0m     \u001b[0;32melse\u001b[0m\u001b[0;34m:\u001b[0m\u001b[0;34m\u001b[0m\u001b[0;34m\u001b[0m\u001b[0m\n\u001b[0;32m--> 263\u001b[0;31m       \u001b[0;32mreturn\u001b[0m \u001b[0msuper\u001b[0m\u001b[0;34m(\u001b[0m\u001b[0mVariableMetaclass\u001b[0m\u001b[0;34m,\u001b[0m \u001b[0mcls\u001b[0m\u001b[0;34m)\u001b[0m\u001b[0;34m.\u001b[0m\u001b[0m__call__\u001b[0m\u001b[0;34m(\u001b[0m\u001b[0;34m*\u001b[0m\u001b[0margs\u001b[0m\u001b[0;34m,\u001b[0m \u001b[0;34m**\u001b[0m\u001b[0mkwargs\u001b[0m\u001b[0;34m)\u001b[0m\u001b[0;34m\u001b[0m\u001b[0;34m\u001b[0m\u001b[0m\n\u001b[0m\u001b[1;32m    264\u001b[0m \u001b[0;34m\u001b[0m\u001b[0m\n\u001b[1;32m    265\u001b[0m \u001b[0;34m\u001b[0m\u001b[0m\n",
      "\u001b[0;32m~/miniconda3/envs/mlp/lib/python3.6/site-packages/tensorflow/python/ops/variables.py\u001b[0m in \u001b[0;36m__init__\u001b[0;34m(self, initial_value, trainable, collections, validate_shape, caching_device, name, variable_def, dtype, expected_shape, import_scope, constraint, synchronization, aggregation, shape)\u001b[0m\n\u001b[1;32m   1566\u001b[0m           \u001b[0msynchronization\u001b[0m\u001b[0;34m=\u001b[0m\u001b[0msynchronization\u001b[0m\u001b[0;34m,\u001b[0m\u001b[0;34m\u001b[0m\u001b[0;34m\u001b[0m\u001b[0m\n\u001b[1;32m   1567\u001b[0m           \u001b[0maggregation\u001b[0m\u001b[0;34m=\u001b[0m\u001b[0maggregation\u001b[0m\u001b[0;34m,\u001b[0m\u001b[0;34m\u001b[0m\u001b[0;34m\u001b[0m\u001b[0m\n\u001b[0;32m-> 1568\u001b[0;31m           shape=shape)\n\u001b[0m\u001b[1;32m   1569\u001b[0m \u001b[0;34m\u001b[0m\u001b[0m\n\u001b[1;32m   1570\u001b[0m   \u001b[0;32mdef\u001b[0m \u001b[0m__repr__\u001b[0m\u001b[0;34m(\u001b[0m\u001b[0mself\u001b[0m\u001b[0;34m)\u001b[0m\u001b[0;34m:\u001b[0m\u001b[0;34m\u001b[0m\u001b[0;34m\u001b[0m\u001b[0m\n",
      "\u001b[0;32m~/miniconda3/envs/mlp/lib/python3.6/site-packages/tensorflow/python/ops/variables.py\u001b[0m in \u001b[0;36m_init_from_args\u001b[0;34m(self, initial_value, trainable, collections, validate_shape, caching_device, name, dtype, expected_shape, constraint, synchronization, aggregation, shape)\u001b[0m\n\u001b[1;32m   1742\u001b[0m             _try_guard_against_uninitialized_dependencies(\n\u001b[1;32m   1743\u001b[0m                 \u001b[0mname\u001b[0m\u001b[0;34m,\u001b[0m\u001b[0;34m\u001b[0m\u001b[0;34m\u001b[0m\u001b[0m\n\u001b[0;32m-> 1744\u001b[0;31m                 self._initial_value),\n\u001b[0m\u001b[1;32m   1745\u001b[0m             validate_shape=validate_shape).op\n\u001b[1;32m   1746\u001b[0m \u001b[0;34m\u001b[0m\u001b[0m\n",
      "\u001b[0;32m~/miniconda3/envs/mlp/lib/python3.6/site-packages/tensorflow/python/ops/variables.py\u001b[0m in \u001b[0;36m_try_guard_against_uninitialized_dependencies\u001b[0;34m(name, initial_value)\u001b[0m\n\u001b[1;32m   2511\u001b[0m   \u001b[0;32mif\u001b[0m \u001b[0m_has_cycle\u001b[0m\u001b[0;34m(\u001b[0m\u001b[0minitial_value\u001b[0m\u001b[0;34m.\u001b[0m\u001b[0mop\u001b[0m\u001b[0;34m,\u001b[0m \u001b[0mpath\u001b[0m\u001b[0;34m=\u001b[0m\u001b[0mset\u001b[0m\u001b[0;34m(\u001b[0m\u001b[0;34m)\u001b[0m\u001b[0;34m)\u001b[0m\u001b[0;34m:\u001b[0m\u001b[0;34m\u001b[0m\u001b[0;34m\u001b[0m\u001b[0m\n\u001b[1;32m   2512\u001b[0m     \u001b[0;32mreturn\u001b[0m \u001b[0minitial_value\u001b[0m\u001b[0;34m\u001b[0m\u001b[0;34m\u001b[0m\u001b[0m\n\u001b[0;32m-> 2513\u001b[0;31m   \u001b[0;32mreturn\u001b[0m \u001b[0m_safe_initial_value_from_tensor\u001b[0m\u001b[0;34m(\u001b[0m\u001b[0mname\u001b[0m\u001b[0;34m,\u001b[0m \u001b[0minitial_value\u001b[0m\u001b[0;34m,\u001b[0m \u001b[0mop_cache\u001b[0m\u001b[0;34m=\u001b[0m\u001b[0;34m{\u001b[0m\u001b[0;34m}\u001b[0m\u001b[0;34m)\u001b[0m\u001b[0;34m\u001b[0m\u001b[0;34m\u001b[0m\u001b[0m\n\u001b[0m\u001b[1;32m   2514\u001b[0m \u001b[0;34m\u001b[0m\u001b[0m\n\u001b[1;32m   2515\u001b[0m \u001b[0;34m\u001b[0m\u001b[0m\n",
      "\u001b[0;32m~/miniconda3/envs/mlp/lib/python3.6/site-packages/tensorflow/python/ops/variables.py\u001b[0m in \u001b[0;36m_safe_initial_value_from_tensor\u001b[0;34m(name, tensor, op_cache)\u001b[0m\n\u001b[1;32m   2548\u001b[0m     \u001b[0mnew_op\u001b[0m \u001b[0;34m=\u001b[0m \u001b[0m_safe_initial_value_from_op\u001b[0m\u001b[0;34m(\u001b[0m\u001b[0mname\u001b[0m\u001b[0;34m,\u001b[0m \u001b[0mop\u001b[0m\u001b[0;34m,\u001b[0m \u001b[0mop_cache\u001b[0m\u001b[0;34m)\u001b[0m\u001b[0;34m\u001b[0m\u001b[0;34m\u001b[0m\u001b[0m\n\u001b[1;32m   2549\u001b[0m     \u001b[0mop_cache\u001b[0m\u001b[0;34m[\u001b[0m\u001b[0mop\u001b[0m\u001b[0;34m.\u001b[0m\u001b[0mname\u001b[0m\u001b[0;34m]\u001b[0m \u001b[0;34m=\u001b[0m \u001b[0mnew_op\u001b[0m\u001b[0;34m\u001b[0m\u001b[0;34m\u001b[0m\u001b[0m\n\u001b[0;32m-> 2550\u001b[0;31m   \u001b[0;32mreturn\u001b[0m \u001b[0mnew_op\u001b[0m\u001b[0;34m.\u001b[0m\u001b[0moutputs\u001b[0m\u001b[0;34m[\u001b[0m\u001b[0mtensor\u001b[0m\u001b[0;34m.\u001b[0m\u001b[0mvalue_index\u001b[0m\u001b[0;34m]\u001b[0m\u001b[0;34m\u001b[0m\u001b[0;34m\u001b[0m\u001b[0m\n\u001b[0m\u001b[1;32m   2551\u001b[0m \u001b[0;34m\u001b[0m\u001b[0m\n\u001b[1;32m   2552\u001b[0m \u001b[0;34m\u001b[0m\u001b[0m\n",
      "\u001b[0;32m~/miniconda3/envs/mlp/lib/python3.6/site-packages/tensorflow/python/framework/ops.py\u001b[0m in \u001b[0;36moutputs\u001b[0;34m(self)\u001b[0m\n\u001b[1;32m   2382\u001b[0m     \u001b[0;32mreturn\u001b[0m \u001b[0;34m\"<tf.Operation '%s' type=%s>\"\u001b[0m \u001b[0;34m%\u001b[0m \u001b[0;34m(\u001b[0m\u001b[0mself\u001b[0m\u001b[0;34m.\u001b[0m\u001b[0mname\u001b[0m\u001b[0;34m,\u001b[0m \u001b[0mself\u001b[0m\u001b[0;34m.\u001b[0m\u001b[0mtype\u001b[0m\u001b[0;34m)\u001b[0m\u001b[0;34m\u001b[0m\u001b[0;34m\u001b[0m\u001b[0m\n\u001b[1;32m   2383\u001b[0m \u001b[0;34m\u001b[0m\u001b[0m\n\u001b[0;32m-> 2384\u001b[0;31m   \u001b[0;34m@\u001b[0m\u001b[0mproperty\u001b[0m\u001b[0;34m\u001b[0m\u001b[0;34m\u001b[0m\u001b[0m\n\u001b[0m\u001b[1;32m   2385\u001b[0m   \u001b[0;32mdef\u001b[0m \u001b[0moutputs\u001b[0m\u001b[0;34m(\u001b[0m\u001b[0mself\u001b[0m\u001b[0;34m)\u001b[0m\u001b[0;34m:\u001b[0m\u001b[0;34m\u001b[0m\u001b[0;34m\u001b[0m\u001b[0m\n\u001b[1;32m   2386\u001b[0m     \u001b[0;34m\"\"\"The list of `Tensor` objects representing the outputs of this op.\"\"\"\u001b[0m\u001b[0;34m\u001b[0m\u001b[0;34m\u001b[0m\u001b[0m\n",
      "\u001b[0;31mKeyboardInterrupt\u001b[0m: "
     ]
    }
   ],
   "source": [
    "runE('27',5)"
   ]
  },
  {
   "cell_type": "code",
   "execution_count": 12,
   "metadata": {},
   "outputs": [],
   "source": [
    "import numpy as np\n",
    "N='51'\n",
    "E1=np.load('Data/'+N+str('E1_all')+'.npy')\n",
    "E2=np.load('Data/'+N+str('E2_all')+'.npy')"
   ]
  },
  {
   "cell_type": "code",
   "execution_count": 16,
   "metadata": {},
   "outputs": [
    {
     "name": "stdout",
     "output_type": "stream",
     "text": [
      "20\n",
      "9\n",
      "10\n",
      "[0.58525602 0.55774515 0.49503133 0.69379556 0.53716648 0.53609892]\n",
      "[2 5 4 1 0 3]\n",
      "[7.97503467 7.27922531 7.70562679 8.43929214 7.47034393 7.25082042]\n",
      "[2 5 4 1 0 3]\n",
      "[8.56029069 7.83697046 8.20065812 9.1330877  8.00751041 7.78691934]\n",
      "[5 1 4 2 0 3]\n",
      "0.8722779669041041\n",
      "1.0024591634033704\n",
      "0.9935086286827828\n"
     ]
    }
   ],
   "source": [
    "ans=2\n",
    "E_min_n=np.zeros((50))\n",
    "E1_min_n=np.zeros((50))\n",
    "E_n=np.zeros((50))\n",
    "for i in range (0,50):\n",
    "    E_min_n[i]=np.argmin(E1[i])\n",
    "    E1_min_n[i]=np.argmin(E2[i])\n",
    "    E_n[i]=np.argmin(E2[i]+E1[i])\n",
    "print(E_min_n[E_min_n==ans].size)\n",
    "print(E1_min_n[E1_min_n==ans].size)\n",
    "print(E_n[E_n==ans].size)\n",
    "print(np.average(E1,axis=0))\n",
    "print(np.argsort(np.average(E1,axis=0)))\n",
    "print(np.average(E2,axis=0))\n",
    "print(np.argsort(np.average(E1,axis=0)))\n",
    "print(np.average(E1+E2,axis=0))\n",
    "print(np.argsort(np.average(E1+E2,axis=0)))\n",
    "print(np.average(E1,axis=0)[ans]/E1.mean())\n",
    "print(np.average(E2,axis=0)[ans]/np.abs(E2).mean())\n",
    "print(np.average(E1+E2,axis=0)[ans]/np.abs(E2+E1).mean())"
   ]
  },
  {
   "cell_type": "code",
   "execution_count": 17,
   "metadata": {},
   "outputs": [
    {
     "name": "stdout",
     "output_type": "stream",
     "text": [
      "0\n",
      "8\n",
      "7\n",
      "[0.60788474 0.41058258 0.76535723 0.5217277  0.71235048 0.54059575]\n",
      "[1 3 5 0 4 2]\n",
      "[7.53564655 6.87592188 8.98601162 8.03815747 8.63395458 7.18877832]\n",
      "[1 3 5 0 4 2]\n",
      "[8.14353129 7.28650446 9.75136885 8.55988517 9.34630506 7.72937408]\n",
      "[1 5 0 3 4 2]\n",
      "0.9115008847189991\n",
      "0.912697121809184\n",
      "0.9126133543598889\n"
     ]
    }
   ],
   "source": [
    "import numpy as np\n",
    "N='59'\n",
    "E1=np.load('Data/'+N+str('E1_all')+'.npy')\n",
    "E2=np.load('Data/'+N+str('E2_all')+'.npy')\n",
    "ans=5\n",
    "E_min_n=np.zeros((50))\n",
    "E1_min_n=np.zeros((50))\n",
    "E_n=np.zeros((50))\n",
    "for i in range (0,50):\n",
    "    E_min_n[i]=np.argmin(E1[i])\n",
    "    E1_min_n[i]=np.argmin(E2[i])\n",
    "    E_n[i]=np.argmin(E2[i]+E1[i])\n",
    "print(E_min_n[E_min_n==ans].size)\n",
    "print(E1_min_n[E1_min_n==ans].size)\n",
    "print(E_n[E_n==ans].size)\n",
    "print(np.average(E1,axis=0))\n",
    "print(np.argsort(np.average(E1,axis=0)))\n",
    "print(np.average(E2,axis=0))\n",
    "print(np.argsort(np.average(E1,axis=0)))\n",
    "print(np.average(E1+E2,axis=0))\n",
    "print(np.argsort(np.average(E1+E2,axis=0)))\n",
    "print(np.average(E1,axis=0)[ans]/E1.mean())\n",
    "print(np.average(E2,axis=0)[ans]/np.abs(E2).mean())\n",
    "print(np.average(E1+E2,axis=0)[ans]/np.abs(E2+E1).mean())"
   ]
  },
  {
   "cell_type": "code",
   "execution_count": 18,
   "metadata": {},
   "outputs": [
    {
     "name": "stdout",
     "output_type": "stream",
     "text": [
      "16\n",
      "6\n",
      "6\n",
      "[0.62256743 0.32179676 0.69706792 0.34932803 0.607815   0.36104111]\n",
      "[1 3 5 4 0 2]\n",
      "[7.56935902 5.64121847 8.49205351 6.61645672 7.52954703 6.90997582]\n",
      "[1 3 5 4 0 2]\n",
      "[8.19192645 5.96301524 9.18912144 6.96578475 8.13736203 7.27101693]\n",
      "[1 3 5 4 0 2]\n",
      "0.7081891622069261\n",
      "0.9284385015184595\n",
      "0.9141804348715045\n"
     ]
    }
   ],
   "source": [
    "import numpy as np\n",
    "N='11'\n",
    "E1=np.load('Data/'+N+str('E1_all')+'.npy')\n",
    "E2=np.load('Data/'+N+str('E2_all')+'.npy')\n",
    "ans=3\n",
    "E_min_n=np.zeros((50))\n",
    "E1_min_n=np.zeros((50))\n",
    "E_n=np.zeros((50))\n",
    "for i in range (0,50):\n",
    "    E_min_n[i]=np.argmin(E1[i])\n",
    "    E1_min_n[i]=np.argmin(E2[i])\n",
    "    E_n[i]=np.argmin(E2[i]+E1[i])\n",
    "print(E_min_n[E_min_n==ans].size)\n",
    "print(E1_min_n[E1_min_n==ans].size)\n",
    "print(E_n[E_n==ans].size)\n",
    "print(np.average(E1,axis=0))\n",
    "print(np.argsort(np.average(E1,axis=0)))\n",
    "print(np.average(E2,axis=0))\n",
    "print(np.argsort(np.average(E1,axis=0)))\n",
    "print(np.average(E1+E2,axis=0))\n",
    "print(np.argsort(np.average(E1+E2,axis=0)))\n",
    "print(np.average(E1,axis=0)[ans]/E1.mean())\n",
    "print(np.average(E2,axis=0)[ans]/np.abs(E2).mean())\n",
    "print(np.average(E1+E2,axis=0)[ans]/np.abs(E2+E1).mean())"
   ]
  },
  {
   "cell_type": "code",
   "execution_count": 22,
   "metadata": {},
   "outputs": [
    {
     "name": "stdout",
     "output_type": "stream",
     "text": [
      "26\n",
      "31\n",
      "29\n",
      "[0.33465955 0.54417672 0.32855064 0.54404964 0.54417672 0.54417672]\n",
      "[2 0 3 1 4 5]\n",
      "[4.09526557 5.58518752 4.17215224 5.58310166 5.58518752 5.58518752]\n",
      "[2 0 3 1 4 5]\n",
      "[4.42992512 6.12936425 4.50070288 6.1271513  6.12936425 6.12936425]\n",
      "[0 2 3 1 4 5]\n",
      "0.7070795113237093\n",
      "0.8028336773105436\n",
      "0.7947034745002972\n"
     ]
    }
   ],
   "source": [
    "import numpy as np\n",
    "N='27'\n",
    "E1=np.load('Data/'+N+str('E1_all')+'.npy')\n",
    "E2=np.load('Data/'+N+str('E2_all')+'.npy')\n",
    "ans=0\n",
    "E_min_n=np.zeros((50))\n",
    "E1_min_n=np.zeros((50))\n",
    "E_n=np.zeros((50))\n",
    "for i in range (0,50):\n",
    "    E_min_n[i]=np.argmin(abs(E1[i]))\n",
    "    E1_min_n[i]=np.argmin(abs(E2[i]))\n",
    "    E_n[i]=np.argmin(abs(E2[i])+abs(E1[i]))\n",
    "print(E_min_n[E_min_n==ans].size)\n",
    "print(E1_min_n[E1_min_n==ans].size)\n",
    "print(E_n[E_n==ans].size)\n",
    "print(np.average(E1,axis=0))\n",
    "print(np.argsort(np.average(E1,axis=0)))\n",
    "print(np.average(abs(E2,axis=0))\n",
    "print(np.argsort(np.average(E1,axis=0)))\n",
    "print(np.average(E1+E2,axis=0))\n",
    "print(np.argsort(np.average(E1+E2,axis=0)))\n",
    "print(np.average(E1,axis=0)[ans]/E1.mean())\n",
    "print(np.average(E2,axis=0)[ans]/np.abs(E2).mean())\n",
    "print(np.average(E1+E2,axis=0)[ans]/np.abs(E2+E1).mean())"
   ]
  },
  {
   "cell_type": "code",
   "execution_count": 24,
   "metadata": {},
   "outputs": [
    {
     "name": "stdout",
     "output_type": "stream",
     "text": [
      "16\n",
      "6\n",
      "6\n",
      "[0.62256743 0.32179676 0.69706792 0.34932803 0.607815   0.36104111]\n",
      "[1 3 5 4 0 2]\n",
      "[7.56935902 5.64121847 8.49205351 6.61645672 7.52954703 6.90997582]\n",
      "[1 3 5 4 0 2]\n",
      "[8.19192645 5.96301524 9.18912144 6.96578475 8.13736203 7.27101693]\n",
      "[1 3 5 4 0 2]\n",
      "0.7081891622069261\n",
      "0.9284385015184595\n",
      "0.9141804348715045\n"
     ]
    }
   ],
   "source": [
    "import numpy as np\n",
    "N='11'\n",
    "E1=np.load('Data/'+N+str('E1_all')+'.npy')\n",
    "E2=np.load('Data/'+N+str('E2_all')+'.npy')\n",
    "ans=3\n",
    "E_min_n=np.zeros((50))\n",
    "E1_min_n=np.zeros((50))\n",
    "E_n=np.zeros((50))\n",
    "for i in range (0,50):\n",
    "    E_min_n[i]=np.argmin(abs(E1[i]))\n",
    "    E1_min_n[i]=np.argmin(abs(E2[i]))\n",
    "    E_n[i]=np.argmin(abs(E2[i])+abs(E1[i]))\n",
    "print(E_min_n[E_min_n==ans].size)\n",
    "print(E1_min_n[E1_min_n==ans].size)\n",
    "print(E_n[E_n==ans].size)\n",
    "print(np.average(E1,axis=0))\n",
    "print(np.argsort(np.average(E1,axis=0)))\n",
    "print(np.average(E2,axis=0))\n",
    "print(np.argsort(np.average(E1,axis=0)))\n",
    "print(np.average(E1+E2,axis=0))\n",
    "print(np.argsort(np.average(E1+E2,axis=0)))\n",
    "print(np.average(E1,axis=0)[ans]/E1.mean())\n",
    "print(np.average(E2,axis=0)[ans]/np.abs(E2).mean())\n",
    "print(np.average(E1+E2,axis=0)[ans]/np.abs(E2+E1).mean())"
   ]
  },
  {
   "cell_type": "code",
   "execution_count": 23,
   "metadata": {},
   "outputs": [
    {
     "name": "stdout",
     "output_type": "stream",
     "text": [
      "22\n",
      "5\n",
      "5\n",
      "[0.31427068 0.30845972 0.32577273 0.30863282 0.36290318 0.63462359]\n",
      "[1 3 0 2 4 5]\n",
      "[3.53697741 4.16525185 3.22489075 3.22929359 3.61916405 5.86544676]\n",
      "[1 3 0 2 4 5]\n",
      "[3.85124809 4.47371157 3.55066348 3.53792641 3.98206723 6.50007035]\n",
      "[3 2 0 4 1 5]\n",
      "0.8208581844979472\n",
      "1.0571247102379342\n",
      "1.0365536659487624\n"
     ]
    }
   ],
   "source": [
    "import numpy as np\n",
    "N='35'\n",
    "E1=np.load('Data/'+N+str('E1_all')+'.npy')\n",
    "E2=np.load('Data/'+N+str('E2_all')+'.npy')\n",
    "ans=1\n",
    "E_min_n=np.zeros((50))\n",
    "E1_min_n=np.zeros((50))\n",
    "E_n=np.zeros((50))\n",
    "for i in range (0,50):\n",
    "    E_min_n[i]=np.argmin(abs(E1[i]))\n",
    "    E1_min_n[i]=np.argmin(abs(E2[i]))\n",
    "    E_n[i]=np.argmin(abs(E2[i])+abs(E1[i]))\n",
    "print(E_min_n[E_min_n==ans].size)\n",
    "print(E1_min_n[E1_min_n==ans].size)\n",
    "print(E_n[E_n==ans].size)\n",
    "print(np.average(E1,axis=0))\n",
    "print(np.argsort(np.average(E1,axis=0)))\n",
    "print(np.average(E2,axis=0))\n",
    "print(np.argsort(np.average(E1,axis=0)))\n",
    "print(np.average(E1+E2,axis=0))\n",
    "print(np.argsort(np.average(E1+E2,axis=0)))\n",
    "print(np.average(E1,axis=0)[ans]/E1.mean())\n",
    "print(np.average(E2,axis=0)[ans]/np.abs(E2).mean())\n",
    "print(np.average(E1+E2,axis=0)[ans]/np.abs(E2+E1).mean())"
   ]
  },
  {
   "cell_type": "code",
   "execution_count": 25,
   "metadata": {},
   "outputs": [
    {
     "name": "stdout",
     "output_type": "stream",
     "text": [
      "34\n",
      "20\n",
      "21\n",
      "[0.23109547 0.30686485 0.23464813 0.26014818 0.2294651  0.21526167]\n",
      "[5 4 0 2 3 1]\n",
      "[3.42655951 4.02686397 3.3659896  3.33450832 3.36955541 3.3210007 ]\n",
      "[5 4 0 2 3 1]\n",
      "[3.65765498 4.33372882 3.60063773 3.5946565  3.5990205  3.53626237]\n",
      "[5 3 4 2 0 1]\n",
      "0.8741688835777738\n",
      "0.9559368520285053\n",
      "0.9505246565318219\n"
     ]
    }
   ],
   "source": [
    "import numpy as np\n",
    "N='43'\n",
    "E1=np.load('Data/'+N+str('E1_all')+'.npy')\n",
    "E2=np.load('Data/'+N+str('E2_all')+'.npy')\n",
    "ans=5\n",
    "E_min_n=np.zeros((50))\n",
    "E1_min_n=np.zeros((50))\n",
    "E_n=np.zeros((50))\n",
    "for i in range (0,50):\n",
    "    E_min_n[i]=np.argmin(E1[i])\n",
    "    E1_min_n[i]=np.argmin(E2[i])\n",
    "    E_n[i]=np.argmin(E2[i]+E1[i])\n",
    "print(E_min_n[E_min_n==ans].size)\n",
    "print(E1_min_n[E1_min_n==ans].size)\n",
    "print(E_n[E_n==ans].size)\n",
    "print(np.average(E1,axis=0))\n",
    "print(np.argsort(np.average(E1,axis=0)))\n",
    "print(np.average(E2,axis=0))\n",
    "print(np.argsort(np.average(E1,axis=0)))\n",
    "print(np.average(E1+E2,axis=0))\n",
    "print(np.argsort(np.average(E1+E2,axis=0)))\n",
    "print(np.average(E1,axis=0)[ans]/E1.mean())\n",
    "print(np.average(E2,axis=0)[ans]/np.abs(E2).mean())\n",
    "print(np.average(E1+E2,axis=0)[ans]/np.abs(E2+E1).mean())"
   ]
  },
  {
   "cell_type": "code",
   "execution_count": 3,
   "metadata": {},
   "outputs": [],
   "source": [
    "import numpy as np\n",
    "N='11'\n",
    "pic=np.load('Data/'+N+'pic.npy')"
   ]
  },
  {
   "cell_type": "code",
   "execution_count": 6,
   "metadata": {},
   "outputs": [
    {
     "data": {
      "image/png": "[encoded data removed]",
      "text/plain": [
       "<Figure size 432x288 with 6 Axes>"
      ]
     },
     "metadata": {
      "needs_background": "light"
     },
     "output_type": "display_data"
    }
   ],
   "source": [
    "import matplotlib.pyplot as plt\n",
    "for i in range (0,6):\n",
    "    plt.subplot(2,3,i+1)\n",
    "    plt.imshow(pic[:,:,i])"
   ]
  },
  {
   "cell_type": "code",
   "execution_count": 22,
   "metadata": {},
   "outputs": [],
   "source": [
    "def mix_m(n,pic):\n",
    "    b=pic[:,:,n].copy()\n",
    "    pic1=np.zeros((50,60,6))\n",
    "    for i in range (0,6):\n",
    "        if i!=n:\n",
    "            b=pic[:,:,n].copy()\n",
    "            b[0:25,:]=pic[:,:,i][0:25,:]\n",
    "            pic1[:,:,i]=b\n",
    "    pic1[:,:,n]=pic[:,:,n]\n",
    "    return pic1"
   ]
  },
  {
   "cell_type": "code",
   "execution_count": 23,
   "metadata": {},
   "outputs": [
    {
     "data": {
      "image/png": "[encoded data removed]",
      "text/plain": [
       "<Figure size 432x288 with 6 Axes>"
      ]
     },
     "metadata": {
      "needs_background": "light"
     },
     "output_type": "display_data"
    }
   ],
   "source": [
    "pic1=mix_m(3,pic)\n",
    "for i in range (0,6):\n",
    "    plt.subplot(2,3,i+1)\n",
    "    plt.imshow(pic1[:,:,i])"
   ]
  },
  {
   "cell_type": "code",
   "execution_count": 17,
   "metadata": {},
   "outputs": [
    {
     "data": {
      "image/png": "[encoded data removed]",
      "text/plain": [
       "<Figure size 432x288 with 6 Axes>"
      ]
     },
     "metadata": {
      "needs_background": "light"
     },
     "output_type": "display_data"
    }
   ],
   "source": [
    "pic1=mix_m(3,pic)\n",
    "for i in range (0,6):\n",
    "    plt.subplot(2,3,i+1)\n",
    "    plt.imshow(pic1[:,:,i])"
   ]
  },
  {
   "cell_type": "code",
   "execution_count": 25,
   "metadata": {},
   "outputs": [
    {
     "data": {
      "text/plain": [
       "<matplotlib.image.AxesImage at 0x7f007f3dd4a8>"
      ]
     },
     "execution_count": 25,
     "metadata": {},
     "output_type": "execute_result"
    },
    {
     "data": {
      "image/png": "[encoded data removed]",
      "text/plain": [
       "<Figure size 432x288 with 1 Axes>"
      ]
     },
     "metadata": {
      "needs_background": "light"
     },
     "output_type": "display_data"
    }
   ],
   "source": [
    "from p_gen import p_gn\n",
    "plt.imshow(p_gn('11'))"
   ]
  },
  {
   "cell_type": "code",
   "execution_count": 1,
   "metadata": {},
   "outputs": [],
   "source": [
    "from run_E_fcon import runE"
   ]
  },
  {
   "cell_type": "code",
   "execution_count": 2,
   "metadata": {},
   "outputs": [
    {
     "name": "stderr",
     "output_type": "stream",
     "text": [
      "WARNING: Logging before flag parsing goes to stderr.\n",
      "W0712 18:22:34.254289 139742149302080 deprecation_wrapper.py:119] From /afs/inf.ed.ac.uk/user/s18/s1883226/Downloads/experiment/con1.py:21: The name tf.placeholder is deprecated. Please use tf.compat.v1.placeholder instead.\n",
      "\n",
      "W0712 18:22:34.274056 139742149302080 deprecation_wrapper.py:119] From /afs/inf.ed.ac.uk/user/s18/s1883226/Downloads/experiment/con1.py:27: The name tf.random_normal is deprecated. Please use tf.random.normal instead.\n",
      "\n",
      "W0712 18:22:34.326796 139742149302080 deprecation_wrapper.py:119] From /afs/inf.ed.ac.uk/user/s18/s1883226/Downloads/experiment/convo1.py:11: The name tf.nn.max_pool is deprecated. Please use tf.nn.max_pool2d instead.\n",
      "\n",
      "W0712 18:22:34.335167 139742149302080 deprecation.py:506] From /afs/inf.ed.ac.uk/user/s18/s1883226/Downloads/experiment/convo1.py:38: calling dropout (from tensorflow.python.ops.nn_ops) with keep_prob is deprecated and will be removed in a future version.\n",
      "Instructions for updating:\n",
      "Please use `rate` instead of `keep_prob`. Rate should be set to `rate = 1 - keep_prob`.\n",
      "W0712 18:22:34.347766 139742149302080 deprecation.py:323] From /afs/inf.ed.ac.uk/user/s18/s1883226/Downloads/experiment/con1.py:49: softmax_cross_entropy_with_logits (from tensorflow.python.ops.nn_ops) is deprecated and will be removed in a future version.\n",
      "Instructions for updating:\n",
      "\n",
      "Future major versions of TensorFlow will allow gradients to flow\n",
      "into the labels input on backprop by default.\n",
      "\n",
      "See `tf.nn.softmax_cross_entropy_with_logits_v2`.\n",
      "\n",
      "W0712 18:22:34.372767 139742149302080 deprecation_wrapper.py:119] From /afs/inf.ed.ac.uk/user/s18/s1883226/Downloads/experiment/con1.py:50: The name tf.train.AdamOptimizer is deprecated. Please use tf.compat.v1.train.AdamOptimizer instead.\n",
      "\n",
      "W0712 18:22:34.526210 139742149302080 deprecation_wrapper.py:119] From /afs/inf.ed.ac.uk/user/s18/s1883226/Downloads/experiment/con1.py:59: The name tf.global_variables_initializer is deprecated. Please use tf.compat.v1.global_variables_initializer instead.\n",
      "\n",
      "W0712 18:22:34.529469 139742149302080 deprecation_wrapper.py:119] From /afs/inf.ed.ac.uk/user/s18/s1883226/Downloads/experiment/con1.py:69: The name tf.Session is deprecated. Please use tf.compat.v1.Session instead.\n",
      "\n"
     ]
    },
    {
     "name": "stdout",
     "output_type": "stream",
     "text": [
      "Step 1, Minibatch Loss= 10378.4297, Train Accuracy= 0.000\n",
      "Step 2, Minibatch Loss= 22992.4883, Train Accuracy= 0.000\n",
      "Step 3, Minibatch Loss= 4057.4297, Train Accuracy= 0.000\n",
      "Step 4, Minibatch Loss= 6359.1641, Train Accuracy= 0.000\n",
      "Step 5, Minibatch Loss= 5031.7925, Train Accuracy= 0.000\n",
      "Step 6, Minibatch Loss= 15185.0137, Train Accuracy= 0.000\n",
      "Step 7, Minibatch Loss= 1183.5649, Train Accuracy= 0.000\n",
      "Step 8, Minibatch Loss= 1082.0679, Train Accuracy= 0.000\n",
      "Step 9, Minibatch Loss= 629.8477, Train Accuracy= 0.000\n",
      "Step 10, Minibatch Loss= 0.0000, Train Accuracy= 1.000\n",
      "0\n",
      "Step 1, Minibatch Loss= 1669.2905, Train Accuracy= 0.333\n",
      "Step 2, Minibatch Loss= 1381.6105, Train Accuracy= 0.333\n",
      "Step 3, Minibatch Loss= 147.2686, Train Accuracy= 0.833\n",
      "Step 4, Minibatch Loss= 314.7887, Train Accuracy= 0.833\n",
      "Step 5, Minibatch Loss= 824.8378, Train Accuracy= 0.667\n",
      "Step 6, Minibatch Loss= 328.9300, Train Accuracy= 0.667\n",
      "Step 7, Minibatch Loss= 564.8362, Train Accuracy= 0.667\n",
      "Step 8, Minibatch Loss= 229.5483, Train Accuracy= 0.833\n",
      "0\n",
      "[0.31531403 0.20181255 0.63921001 0.24783435 0.6825981  0.28135181]\n",
      "[1 3 5 0 2 4]\n",
      "0.6279266033933621\n"
     ]
    }
   ],
   "source": [
    "runE('11',3)"
   ]
  },
  {
   "cell_type": "code",
   "execution_count": 1,
   "metadata": {},
   "outputs": [],
   "source": [
    "from p_gen import p_gn"
   ]
  },
  {
   "cell_type": "code",
   "execution_count": 2,
   "metadata": {},
   "outputs": [],
   "source": [
    "from fcon2 import train_fcon"
   ]
  },
  {
   "cell_type": "code",
   "execution_count": 4,
   "metadata": {},
   "outputs": [
    {
     "name": "stdout",
     "output_type": "stream",
     "text": [
      "Step 1, Minibatch Loss= 41816.2500, Train Accuracy= 0.000\n",
      "Step 2, Minibatch Loss= 220411.7500, Train Accuracy= 0.000\n",
      "Step 3, Minibatch Loss= 0.0000, Train Accuracy= 1.000\n",
      "Step 4, Minibatch Loss= 0.0000, Train Accuracy= 1.000\n",
      "Step 5, Minibatch Loss= 43004.8906, Train Accuracy= 0.000\n",
      "Step 6, Minibatch Loss= 200267.5625, Train Accuracy= 0.000\n",
      "Step 7, Minibatch Loss= 18275.4688, Train Accuracy= 0.000\n",
      "Step 8, Minibatch Loss= 74591.9609, Train Accuracy= 0.000\n",
      "Step 9, Minibatch Loss= 0.0000, Train Accuracy= 1.000\n",
      "0\n",
      "Step 1, Minibatch Loss= 20628.6172, Train Accuracy= 0.667\n",
      "Step 2, Minibatch Loss= 27891.1250, Train Accuracy= 0.500\n",
      "Step 3, Minibatch Loss= 23425.3965, Train Accuracy= 0.500\n",
      "Step 4, Minibatch Loss= 22162.3574, Train Accuracy= 0.500\n",
      "Step 5, Minibatch Loss= 19237.7168, Train Accuracy= 0.500\n",
      "Step 6, Minibatch Loss= 19486.0254, Train Accuracy= 0.333\n",
      "Step 7, Minibatch Loss= 12252.2148, Train Accuracy= 0.500\n",
      "Step 8, Minibatch Loss= 2786.9668, Train Accuracy= 0.833\n"
     ]
    },
    {
     "data": {
      "text/plain": [
       "(array([[[-0.30692929],\n",
       "         [-0.82486886],\n",
       "         [ 0.26633385],\n",
       "         ...,\n",
       "         [ 1.09528816],\n",
       "         [ 2.09455323],\n",
       "         [-1.22868001]],\n",
       " \n",
       "        [[ 2.38619065],\n",
       "         [ 0.15123549],\n",
       "         [ 0.00298876],\n",
       "         ...,\n",
       "         [-0.1154105 ],\n",
       "         [ 0.59807324],\n",
       "         [-0.62786549]],\n",
       " \n",
       "        [[-0.93986362],\n",
       "         [ 0.373882  ],\n",
       "         [-0.78650844],\n",
       "         ...,\n",
       "         [-0.8477627 ],\n",
       "         [-0.97285604],\n",
       "         [-0.53637791]],\n",
       " \n",
       "        ...,\n",
       " \n",
       "        [[ 2.69629407],\n",
       "         [-0.07012613],\n",
       "         [ 1.47699153],\n",
       "         ...,\n",
       "         [ 2.06203032],\n",
       "         [-0.57960016],\n",
       "         [ 1.48210418]],\n",
       " \n",
       "        [[ 1.25478196],\n",
       "         [ 0.0075455 ],\n",
       "         [ 0.01598867],\n",
       "         ...,\n",
       "         [-0.7553972 ],\n",
       "         [-0.07017422],\n",
       "         [ 0.83347738]],\n",
       " \n",
       "        [[ 1.02932453],\n",
       "         [-0.40449265],\n",
       "         [ 0.08659868],\n",
       "         ...,\n",
       "         [ 1.44335735],\n",
       "         [-1.45027435],\n",
       "         [ 0.99337989]]]), array([[-0.67864734],\n",
       "        [ 1.06131923],\n",
       "        [-0.54963064],\n",
       "        ...,\n",
       "        [-0.70489389],\n",
       "        [ 0.07167573],\n",
       "        [-2.01274204]]), 1)"
      ]
     },
     "execution_count": 4,
     "metadata": {},
     "output_type": "execute_result"
    }
   ],
   "source": [
    "runE('11',3)"
   ]
  },
  {
   "cell_type": "code",
   "execution_count": 6,
   "metadata": {},
   "outputs": [],
   "source": [
    "from data_gen import g_error"
   ]
  },
  {
   "cell_type": "code",
   "execution_count": null,
   "metadata": {},
   "outputs": [],
   "source": [
    "import numpy as np\n",
    "N='43'\n",
    "ans=5\n",
    "E1=np.load('Data/'+N+str('E1_f')+'.npy')\n",
    "E2=np.load('Data/'+N+str('E2_f')+'.npy')\n",
    "E_min_n=np.zeros((50))\n",
    "E1_min_n=np.zeros((50))\n",
    "E_n=np.zeros((50))\n",
    "for i in range (0,50):\n",
    "    E_min_n[i]=np.argmin(E1[i])\n",
    "    E1_min_n[i]=np.argmin(E2[i])\n",
    "    E_n[i]=np.argmin(E2[i]+E1[i])\n",
    "print(E_min_n[E_min_n==ans].size)\n",
    "print(E1_min_n[E1_min_n==ans].size)\n",
    "print(E_n[E_n==ans].size)\n",
    "print(np.average(E1,axis=0))\n",
    "print(np.argsort(np.average(E1,axis=0)))\n",
    "print(np.average(E2,axis=0))\n",
    "print(np.argsort(np.average(E1,axis=0)))\n",
    "print(np.average(E1+E2,axis=0))\n",
    "print(np.argsort(np.average(E1+E2,axis=0)))\n",
    "print(np.average(E1,axis=0)[ans]/E1.mean())\n",
    "print(np.average(E2,axis=0)[ans]/np.abs(E2).mean())\n",
    "print(np.average(E1+E2,axis=0)[ans]/np.abs(E2+E1).mean())"
   ]
  },
  {
   "cell_type": "code",
   "execution_count": 2,
   "metadata": {},
   "outputs": [
    {
     "name": "stdout",
     "output_type": "stream",
     "text": [
      "15\n",
      "[0.24600259 0.18116838 0.30233171 0.1770039  0.2642557  0.17367745]\n",
      "[5 3 1 0 4 2]\n",
      "0.7899375309751644\n"
     ]
    }
   ],
   "source": [
    "import numpy as np\n",
    "N='11'\n",
    "ans=3\n",
    "tr=50\n",
    "E1=np.load('Data/'+N+str('E1_f')+'.npy')\n",
    "E_min_n=np.zeros((tr))\n",
    "for i in range (0,tr):\n",
    "    E_min_n[i]=np.argmin(E1[i])\n",
    "print(E_min_n[E_min_n==ans].size)\n",
    "#print(E1_min_n[E1_min_n==ans].size)\n",
    "print(np.average(E1,axis=0))\n",
    "#print(np.average(E2,axis=0))\n",
    "print(np.argsort(np.average(E1,axis=0)))\n",
    "print(np.average(E1,axis=0)[ans]/E1.mean())"
   ]
  },
  {
   "cell_type": "code",
   "execution_count": 3,
   "metadata": {},
   "outputs": [
    {
     "name": "stdout",
     "output_type": "stream",
     "text": [
      "30\n",
      "[0.22109841 0.40070225 0.23247098 0.40059871 0.40070225 0.40070225]\n",
      "[0 2 3 1 4 5]\n",
      "0.6451425858074701\n"
     ]
    }
   ],
   "source": [
    "import numpy as np\n",
    "N='27'\n",
    "ans=0\n",
    "tr=50\n",
    "E1=np.load('Data/'+N+str('E1_f')+'.npy')\n",
    "E_min_n=np.zeros((tr))\n",
    "for i in range (0,tr):\n",
    "    E_min_n[i]=np.argmin(E1[i])\n",
    "print(E_min_n[E_min_n==ans].size)\n",
    "#print(E1_min_n[E1_min_n==ans].size)\n",
    "print(np.average(E1,axis=0))\n",
    "#print(np.average(E2,axis=0))\n",
    "print(np.argsort(np.average(E1,axis=0)))\n",
    "print(np.average(E1,axis=0)[ans]/E1.mean())"
   ]
  },
  {
   "cell_type": "code",
   "execution_count": 6,
   "metadata": {},
   "outputs": [
    {
     "name": "stdout",
     "output_type": "stream",
     "text": [
      "29\n",
      "[0.3419681  0.32212977 0.25043967 0.40994095 0.3008389  0.31585574]\n",
      "[2 4 5 1 0 3]\n",
      "0.7740875793050624\n"
     ]
    }
   ],
   "source": [
    "import numpy as np\n",
    "N='51'\n",
    "ans=2\n",
    "tr=50\n",
    "E1=np.load('Data/'+N+str('E1_f')+'.npy')\n",
    "E_min_n=np.zeros((tr))\n",
    "for i in range (0,tr):\n",
    "    E_min_n[i]=np.argmin(E1[i])\n",
    "print(E_min_n[E_min_n==ans].size)\n",
    "#print(E1_min_n[E1_min_n==ans].size)\n",
    "print(np.average(E1,axis=0))\n",
    "#print(np.average(E2,axis=0))\n",
    "print(np.argsort(np.average(E1,axis=0)))\n",
    "print(np.average(E1,axis=0)[ans]/E1.mean())"
   ]
  },
  {
   "cell_type": "code",
   "execution_count": 7,
   "metadata": {},
   "outputs": [
    {
     "name": "stdout",
     "output_type": "stream",
     "text": [
      "3\n",
      "[0.32996775 0.26632646 0.40888672 0.31334018 0.40463248 0.31014502]\n",
      "[1 5 3 0 4 2]\n",
      "0.9151976544824252\n"
     ]
    }
   ],
   "source": [
    "import numpy as np\n",
    "N='59'\n",
    "ans=5\n",
    "tr=50\n",
    "E1=np.load('Data/'+N+str('E1_f')+'.npy')\n",
    "E_min_n=np.zeros((tr))\n",
    "for i in range (0,tr):\n",
    "    E_min_n[i]=np.argmin(E1[i])\n",
    "print(E_min_n[E_min_n==ans].size)\n",
    "#print(E1_min_n[E1_min_n==ans].size)\n",
    "print(np.average(E1,axis=0))\n",
    "#print(np.average(E2,axis=0))\n",
    "print(np.argsort(np.average(E1,axis=0)))\n",
    "print(np.average(E1,axis=0)[ans]/E1.mean())"
   ]
  },
  {
   "cell_type": "code",
   "execution_count": 44,
   "metadata": {},
   "outputs": [
    {
     "data": {
      "image/png": "[encoded data removed]",
      "text/plain": [
       "<Figure size 432x288 with 6 Axes>"
      ]
     },
     "metadata": {
      "needs_background": "light"
     },
     "output_type": "display_data"
    }
   ],
   "source": [
    "import matplotlib.pyplot as plt\n",
    "from PIL import Image\n",
    "import os\n",
    "import sys\n",
    "import random\n",
    "import math\n",
    "import re\n",
    "import time\n",
    "import numpy as np\n",
    "def ans_cut(N):\n",
    "    a=Image.open('/afs/inf.ed.ac.uk/user/s18/s1883226/Downloads/experiment/ilovepdf_images-extracted/img'+N+'.jpg')\n",
    "    pic=np.zeros((50,60,6))\n",
    "    n=14\n",
    "    n2=12\n",
    "    m=-1\n",
    "    m0=0\n",
    "    m1=2\n",
    "    m2=-3\n",
    "    m3=1\n",
    "    m11=1\n",
    "    pic[:,:,0]=np.array(a)[225+m0:275+m0,15+n:75+n,0]\n",
    "    pic[:,:,3]=np.array(a)[298+m1:348+m1,15+n:75+n,0]\n",
    "    pic[:,:,1]=np.array(a)[225+m:275+m,125+n:185+n,0]\n",
    "    pic[:,:,4]=np.array(a)[298+m11:348+m11,125+n:185+n,0]\n",
    "    pic[:,:,2]=np.array(a)[225+m2:275+m2,235+n2:295+n2,0]\n",
    "    pic[:,:,5]=np.array(a)[298+m3:348+m3,235+n2:295+n2,0]\n",
    "    p=np.array(a)[100:150,110:170,0]\n",
    "    for i in range (0,6):\n",
    "        plt.subplot(2,3,i+1)\n",
    "        plt.imshow(pic[:,:,i])\n",
    "    return p,pic,a\n",
    "N='67'\n",
    "p,pic,a=ans_cut(N)\n",
    "np.save('Data/'+N+'p.npy',p)\n",
    "np.save('Data/'+N+'pic.npy',pic)\n",
    "np.save('Data/'+N+'a.npy',a)"
   ]
  },
  {
   "cell_type": "code",
   "execution_count": 40,
   "metadata": {},
   "outputs": [
    {
     "ename": "IndexError",
     "evalue": "too many indices for array",
     "output_type": "error",
     "traceback": [
      "\u001b[0;31m---------------------------------------------------------------------------\u001b[0m",
      "\u001b[0;31mIndexError\u001b[0m                                Traceback (most recent call last)",
      "\u001b[0;32m<ipython-input-40-3ebaa209a051>\u001b[0m in \u001b[0;36m<module>\u001b[0;34m\u001b[0m\n\u001b[1;32m     30\u001b[0m     \u001b[0;32mreturn\u001b[0m \u001b[0mp\u001b[0m\u001b[0;34m,\u001b[0m\u001b[0mpic\u001b[0m\u001b[0;34m,\u001b[0m\u001b[0ma\u001b[0m\u001b[0;34m\u001b[0m\u001b[0;34m\u001b[0m\u001b[0m\n\u001b[1;32m     31\u001b[0m \u001b[0mN\u001b[0m\u001b[0;34m=\u001b[0m\u001b[0;34m'75'\u001b[0m\u001b[0;34m\u001b[0m\u001b[0;34m\u001b[0m\u001b[0m\n\u001b[0;32m---> 32\u001b[0;31m \u001b[0mp\u001b[0m\u001b[0;34m,\u001b[0m\u001b[0mpic\u001b[0m\u001b[0;34m,\u001b[0m\u001b[0ma\u001b[0m\u001b[0;34m=\u001b[0m\u001b[0mans_cut\u001b[0m\u001b[0;34m(\u001b[0m\u001b[0mN\u001b[0m\u001b[0;34m)\u001b[0m\u001b[0;34m\u001b[0m\u001b[0;34m\u001b[0m\u001b[0m\n\u001b[0m\u001b[1;32m     33\u001b[0m \u001b[0mnp\u001b[0m\u001b[0;34m.\u001b[0m\u001b[0msave\u001b[0m\u001b[0;34m(\u001b[0m\u001b[0;34m'Data/'\u001b[0m\u001b[0;34m+\u001b[0m\u001b[0mN\u001b[0m\u001b[0;34m+\u001b[0m\u001b[0;34m'p.npy'\u001b[0m\u001b[0;34m,\u001b[0m\u001b[0mp\u001b[0m\u001b[0;34m)\u001b[0m\u001b[0;34m\u001b[0m\u001b[0;34m\u001b[0m\u001b[0m\n\u001b[1;32m     34\u001b[0m \u001b[0mnp\u001b[0m\u001b[0;34m.\u001b[0m\u001b[0msave\u001b[0m\u001b[0;34m(\u001b[0m\u001b[0;34m'Data/'\u001b[0m\u001b[0;34m+\u001b[0m\u001b[0mN\u001b[0m\u001b[0;34m+\u001b[0m\u001b[0;34m'pic.npy'\u001b[0m\u001b[0;34m,\u001b[0m\u001b[0mpic\u001b[0m\u001b[0;34m)\u001b[0m\u001b[0;34m\u001b[0m\u001b[0;34m\u001b[0m\u001b[0m\n",
      "\u001b[0;32m<ipython-input-40-3ebaa209a051>\u001b[0m in \u001b[0;36mans_cut\u001b[0;34m(N)\u001b[0m\n\u001b[1;32m     18\u001b[0m     \u001b[0mm2\u001b[0m\u001b[0;34m=\u001b[0m\u001b[0;34m-\u001b[0m\u001b[0;36m3\u001b[0m\u001b[0;34m\u001b[0m\u001b[0;34m\u001b[0m\u001b[0m\n\u001b[1;32m     19\u001b[0m     \u001b[0mm3\u001b[0m\u001b[0;34m=\u001b[0m\u001b[0;36m1\u001b[0m\u001b[0;34m\u001b[0m\u001b[0;34m\u001b[0m\u001b[0m\n\u001b[0;32m---> 20\u001b[0;31m     \u001b[0mpic\u001b[0m\u001b[0;34m[\u001b[0m\u001b[0;34m:\u001b[0m\u001b[0;34m,\u001b[0m\u001b[0;34m:\u001b[0m\u001b[0;34m,\u001b[0m\u001b[0;36m0\u001b[0m\u001b[0;34m]\u001b[0m\u001b[0;34m=\u001b[0m\u001b[0mnp\u001b[0m\u001b[0;34m.\u001b[0m\u001b[0marray\u001b[0m\u001b[0;34m(\u001b[0m\u001b[0ma\u001b[0m\u001b[0;34m)\u001b[0m\u001b[0;34m[\u001b[0m\u001b[0;36m225\u001b[0m\u001b[0;34m+\u001b[0m\u001b[0mm0\u001b[0m\u001b[0;34m:\u001b[0m\u001b[0;36m275\u001b[0m\u001b[0;34m+\u001b[0m\u001b[0mm0\u001b[0m\u001b[0;34m,\u001b[0m\u001b[0;36m15\u001b[0m\u001b[0;34m+\u001b[0m\u001b[0mn\u001b[0m\u001b[0;34m:\u001b[0m\u001b[0;36m75\u001b[0m\u001b[0;34m+\u001b[0m\u001b[0mn\u001b[0m\u001b[0;34m,\u001b[0m\u001b[0;36m0\u001b[0m\u001b[0;34m]\u001b[0m\u001b[0;34m\u001b[0m\u001b[0;34m\u001b[0m\u001b[0m\n\u001b[0m\u001b[1;32m     21\u001b[0m     \u001b[0mpic\u001b[0m\u001b[0;34m[\u001b[0m\u001b[0;34m:\u001b[0m\u001b[0;34m,\u001b[0m\u001b[0;34m:\u001b[0m\u001b[0;34m,\u001b[0m\u001b[0;36m3\u001b[0m\u001b[0;34m]\u001b[0m\u001b[0;34m=\u001b[0m\u001b[0mnp\u001b[0m\u001b[0;34m.\u001b[0m\u001b[0marray\u001b[0m\u001b[0;34m(\u001b[0m\u001b[0ma\u001b[0m\u001b[0;34m)\u001b[0m\u001b[0;34m[\u001b[0m\u001b[0;36m298\u001b[0m\u001b[0;34m+\u001b[0m\u001b[0mm1\u001b[0m\u001b[0;34m:\u001b[0m\u001b[0;36m348\u001b[0m\u001b[0;34m+\u001b[0m\u001b[0mm1\u001b[0m\u001b[0;34m,\u001b[0m\u001b[0;36m15\u001b[0m\u001b[0;34m+\u001b[0m\u001b[0mn\u001b[0m\u001b[0;34m:\u001b[0m\u001b[0;36m75\u001b[0m\u001b[0;34m+\u001b[0m\u001b[0mn\u001b[0m\u001b[0;34m,\u001b[0m\u001b[0;36m0\u001b[0m\u001b[0;34m]\u001b[0m\u001b[0;34m\u001b[0m\u001b[0;34m\u001b[0m\u001b[0m\n\u001b[1;32m     22\u001b[0m     \u001b[0mpic\u001b[0m\u001b[0;34m[\u001b[0m\u001b[0;34m:\u001b[0m\u001b[0;34m,\u001b[0m\u001b[0;34m:\u001b[0m\u001b[0;34m,\u001b[0m\u001b[0;36m1\u001b[0m\u001b[0;34m]\u001b[0m\u001b[0;34m=\u001b[0m\u001b[0mnp\u001b[0m\u001b[0;34m.\u001b[0m\u001b[0marray\u001b[0m\u001b[0;34m(\u001b[0m\u001b[0ma\u001b[0m\u001b[0;34m)\u001b[0m\u001b[0;34m[\u001b[0m\u001b[0;36m225\u001b[0m\u001b[0;34m+\u001b[0m\u001b[0mm\u001b[0m\u001b[0;34m:\u001b[0m\u001b[0;36m275\u001b[0m\u001b[0;34m+\u001b[0m\u001b[0mm\u001b[0m\u001b[0;34m,\u001b[0m\u001b[0;36m125\u001b[0m\u001b[0;34m+\u001b[0m\u001b[0mn\u001b[0m\u001b[0;34m:\u001b[0m\u001b[0;36m185\u001b[0m\u001b[0;34m+\u001b[0m\u001b[0mn\u001b[0m\u001b[0;34m,\u001b[0m\u001b[0;36m0\u001b[0m\u001b[0;34m]\u001b[0m\u001b[0;34m\u001b[0m\u001b[0;34m\u001b[0m\u001b[0m\n",
      "\u001b[0;31mIndexError\u001b[0m: too many indices for array"
     ]
    }
   ],
   "source": [
    "import matplotlib.pyplot as plt\n",
    "from PIL import Image\n",
    "import os\n",
    "import sys\n",
    "import random\n",
    "import math\n",
    "import re\n",
    "import time\n",
    "import numpy as np\n",
    "def ans_cut(N):\n",
    "    a=Image.open('/afs/inf.ed.ac.uk/user/s18/s1883226/Downloads/experiment/ilovepdf_images-extracted/img'+N+'.jpg')\n",
    "    pic=np.zeros((50,60,6))\n",
    "    n=14\n",
    "    n2=12\n",
    "    m=-1\n",
    "    m0=0\n",
    "    m1=2\n",
    "    m2=-3\n",
    "    m3=1\n",
    "    pic[:,:,0]=np.array(a)[225+m0:275+m0,15+n:75+n,0]\n",
    "    pic[:,:,3]=np.array(a)[298+m1:348+m1,15+n:75+n,0]\n",
    "    pic[:,:,1]=np.array(a)[225+m:275+m,125+n:185+n,0]\n",
    "    pic[:,:,4]=np.array(a)[298+m1:348+m1,125+n:185+n,0]\n",
    "    pic[:,:,2]=np.array(a)[225+m2:275+m2,235+n2:295+n2,0]\n",
    "    pic[:,:,5]=np.array(a)[298+m3:348+m3,235+n2:295+n2,0]\n",
    "    p=np.array(a)[100:150,110:170,0]\n",
    "    for i in range (0,6):\n",
    "        plt.subplot(2,3,i+1)\n",
    "        plt.imshow(pic[:,:,i])\n",
    "    return p,pic,a\n",
    "N='75'\n",
    "p,pic,a=ans_cut(N)\n",
    "np.save('Data/'+N+'p.npy',p)\n",
    "np.save('Data/'+N+'pic.npy',pic)\n",
    "np.save('Data/'+N+'a.npy',a)"
   ]
  },
  {
   "cell_type": "code",
   "execution_count": 56,
   "metadata": {},
   "outputs": [
    {
     "data": {
      "image/png": "[encoded data removed]",
      "text/plain": [
       "<Figure size 432x288 with 6 Axes>"
      ]
     },
     "metadata": {
      "needs_background": "light"
     },
     "output_type": "display_data"
    }
   ],
   "source": [
    "import matplotlib.pyplot as plt\n",
    "from PIL import Image\n",
    "import os\n",
    "import sys\n",
    "import random\n",
    "import math\n",
    "import re\n",
    "import time\n",
    "import numpy as np\n",
    "def ans_cut(N):\n",
    "    a=Image.open('/afs/inf.ed.ac.uk/user/s18/s1883226/Downloads/experiment/ilovepdf_images-extracted/img'+N+'.jpg')\n",
    "    pic=np.zeros((50,60,6))\n",
    "    n=3\n",
    "    m=-4\n",
    "    m1=0\n",
    "    pic[:,:,0]=np.array(a)[225+m:275+m,15+n:75+n]\n",
    "    pic[:,:,3]=np.array(a)[298+m1:348+m1,15+n:75+n]\n",
    "    pic[:,:,1]=np.array(a)[225+m:275+m,125+n:185+n]\n",
    "    pic[:,:,4]=np.array(a)[298+m1:348+m1,125+n:185+n]\n",
    "    pic[:,:,2]=np.array(a)[225+m:275+m,235+n:295+n]\n",
    "    pic[:,:,5]=np.array(a)[298+m1:348+m1,235+n:295+n]\n",
    "    p=np.array(a)[100:150,110:170]\n",
    "    for i in range (0,6):\n",
    "        plt.subplot(2,3,i+1)\n",
    "        plt.imshow(pic[:,:,i])\n",
    "    return p,pic,a\n",
    "N='75'\n",
    "p,pic,a=ans_cut(N)\n",
    "np.save('Data/'+N+'p.npy',p)\n",
    "np.save('Data/'+N+'pic.npy',pic)\n",
    "np.save('Data/'+N+'a.npy',a)"
   ]
  },
  {
   "cell_type": "code",
   "execution_count": 66,
   "metadata": {},
   "outputs": [
    {
     "data": {
      "image/png": "[encoded data removed]",
      "text/plain": [
       "<Figure size 432x288 with 6 Axes>"
      ]
     },
     "metadata": {
      "needs_background": "light"
     },
     "output_type": "display_data"
    }
   ],
   "source": [
    "import matplotlib.pyplot as plt\n",
    "from PIL import Image\n",
    "import os\n",
    "import sys\n",
    "import random\n",
    "import math\n",
    "import re\n",
    "import time\n",
    "import numpy as np\n",
    "def ans_cut(N):\n",
    "    a=Image.open('/afs/inf.ed.ac.uk/user/s18/s1883226/Downloads/experiment/ilovepdf_images-extracted/img'+N+'.jpg')\n",
    "    pic=np.zeros((50,60,6))\n",
    "    n=3\n",
    "    m=-6\n",
    "    m1=-2\n",
    "    pic[:,:,0]=np.array(a)[225+m:275+m,15+n:75+n,0]\n",
    "    pic[:,:,3]=np.array(a)[298+m1:348+m1,15+n:75+n,0]\n",
    "    pic[:,:,1]=np.array(a)[225+m:275+m,125+n:185+n,0]\n",
    "    pic[:,:,4]=np.array(a)[298+m1:348+m1,125+n:185+n,0]\n",
    "    pic[:,:,2]=np.array(a)[225+m:275+m,235+n:295+n,0]\n",
    "    pic[:,:,5]=np.array(a)[298+m1:348+m1,235+n:295+n,0]\n",
    "    p=np.array(a)[100:150,110:170,0]\n",
    "    for i in range (0,6):\n",
    "        plt.subplot(2,3,i+1)\n",
    "        plt.imshow(pic[:,:,i])\n",
    "    return p,pic,a\n",
    "N='82'\n",
    "p,pic,a=ans_cut(N)\n",
    "np.save('Data/'+N+'p.npy',p)\n",
    "np.save('Data/'+N+'pic.npy',pic)\n",
    "np.save('Data/'+N+'a.npy',a)"
   ]
  },
  {
   "cell_type": "code",
   "execution_count": 76,
   "metadata": {},
   "outputs": [
    {
     "data": {
      "image/png": "[encoded data removed]",
      "text/plain": [
       "<Figure size 432x288 with 6 Axes>"
      ]
     },
     "metadata": {
      "needs_background": "light"
     },
     "output_type": "display_data"
    }
   ],
   "source": [
    "import matplotlib.pyplot as plt\n",
    "from PIL import Image\n",
    "import os\n",
    "import sys\n",
    "import random\n",
    "import math\n",
    "import re\n",
    "import time\n",
    "import numpy as np\n",
    "def ans_cut(N):\n",
    "    a=Image.open('/afs/inf.ed.ac.uk/user/s18/s1883226/Downloads/experiment/ilovepdf_images-extracted/img'+N+'.jpg')\n",
    "    pic=np.zeros((50,60,6))\n",
    "    n=5\n",
    "    n2=8\n",
    "    n3=3\n",
    "    m=-1\n",
    "    m1=1\n",
    "    pic[:,:,0]=np.array(a)[225+m:275+m,15+n:75+n,0]\n",
    "    pic[:,:,3]=np.array(a)[298+m1:348+m1,15+n2:75+n2,0]\n",
    "    pic[:,:,1]=np.array(a)[225+m:275+m,125+n:185+n,0]\n",
    "    pic[:,:,4]=np.array(a)[298+m1:348+m1,125+n:185+n,0]\n",
    "    pic[:,:,2]=np.array(a)[225+m:275+m,235+n:295+n,0]\n",
    "    pic[:,:,5]=np.array(a)[298+m1:348+m1,235+n3:295+n3,0]\n",
    "    p=np.array(a)[100:150,110:170,0]\n",
    "    for i in range (0,6):\n",
    "        plt.subplot(2,3,i+1)\n",
    "        plt.imshow(pic[:,:,i])\n",
    "    return p,pic,a\n",
    "N='90'\n",
    "p,pic,a=ans_cut(N)\n",
    "np.save('Data/'+N+'p.npy',p)\n",
    "np.save('Data/'+N+'pic.npy',pic)\n",
    "np.save('Data/'+N+'a.npy',a)"
   ]
  },
  {
   "cell_type": "code",
   "execution_count": 93,
   "metadata": {},
   "outputs": [
    {
     "data": {
      "image/png": "[encoded data removed]",
      "text/plain": [
       "<Figure size 432x288 with 6 Axes>"
      ]
     },
     "metadata": {
      "needs_background": "light"
     },
     "output_type": "display_data"
    }
   ],
   "source": [
    "import matplotlib.pyplot as plt\n",
    "from PIL import Image\n",
    "import os\n",
    "import sys\n",
    "import random\n",
    "import math\n",
    "import re\n",
    "import time\n",
    "import numpy as np\n",
    "def ans_cut(N):\n",
    "    a=Image.open('/afs/inf.ed.ac.uk/user/s18/s1883226/Downloads/experiment/ilovepdf_images-extracted/img'+N+'.jpg')\n",
    "    pic=np.zeros((50,60,6))\n",
    "    n=5\n",
    "    n1=-2\n",
    "    n2=-2\n",
    "    m2=-9\n",
    "    m=-10\n",
    "    m4=1\n",
    "    m1=2\n",
    "    m3=3\n",
    "    pic[:,:,0]=np.array(a)[225+m2:275+m2,15+n2:75+n2,0]\n",
    "    pic[:,:,3]=np.array(a)[298+m3:348+m3,15+n1:75+n1,0]\n",
    "    pic[:,:,1]=np.array(a)[225+m:275+m,125+n:185+n,0]\n",
    "    pic[:,:,4]=np.array(a)[298+m1:348+m1,125+n:185+n,0]\n",
    "    pic[:,:,2]=np.array(a)[225+m:275+m,235+n1:295+n1,0]\n",
    "    pic[:,:,5]=np.array(a)[298+m4:348+m4,235+n1:295+n1,0]\n",
    "    p=np.array(a)[100:150,110:170,0]\n",
    "    for i in range (0,6):\n",
    "        plt.subplot(2,3,i+1)\n",
    "        plt.imshow(pic[:,:,i])\n",
    "    return p,pic,a\n",
    "N='98'\n",
    "p,pic,a=ans_cut(N)\n",
    "np.save('Data/'+N+'p.npy',p)\n",
    "np.save('Data/'+N+'pic.npy',pic)\n",
    "np.save('Data/'+N+'a.npy',a)"
   ]
  },
  {
   "cell_type": "code",
   "execution_count": 3,
   "metadata": {},
   "outputs": [
    {
     "name": "stdout",
     "output_type": "stream",
     "text": [
      "10\n",
      "[0.20823902 0.20894149 0.19975094 0.22554735 0.24483428 0.20299662]\n",
      "[2 5 0 1 3 4]\n",
      "0.9715876333920961\n"
     ]
    }
   ],
   "source": [
    "import numpy as np\n",
    "N='67'\n",
    "E1=np.load('Data/'+N+str('E1_all')+'.npy')\n",
    "ans=1\n",
    "E_min_n=np.zeros((50))\n",
    "#E1_min_n=np.zeros((50))\n",
    "for i in range (0,50):\n",
    "    E_min_n[i]=np.argmin(E1[i])\n",
    "    #E1_min_n[i]=np.argmin(np.abs(E2[i]))\n",
    "print(E_min_n[E_min_n==ans].size)\n",
    "#print(E1_min_n[E1_min_n==ans].size)\n",
    "print(np.average(E1,axis=0))\n",
    "print(np.argsort(np.average(E1,axis=0)))\n",
    "#print(np.average(E2,axis=0))\n",
    "print(np.average(E1,axis=0)[ans]/E1.mean())"
   ]
  },
  {
   "cell_type": "code",
   "execution_count": 4,
   "metadata": {},
   "outputs": [
    {
     "name": "stdout",
     "output_type": "stream",
     "text": [
      "11\n",
      "[0.29484511 0.30796486 0.26972051 0.36016729 0.28446054 0.35355027]\n",
      "[2 4 0 1 5 3]\n",
      "0.9456687541778926\n"
     ]
    }
   ],
   "source": [
    "import numpy as np\n",
    "N='75'\n",
    "E1=np.load('Data/'+N+str('E1_all')+'.npy')\n",
    "ans=0\n",
    "E_min_n=np.zeros((50))\n",
    "#E1_min_n=np.zeros((50))\n",
    "for i in range (0,50):\n",
    "    E_min_n[i]=np.argmin(E1[i])\n",
    "    #E1_min_n[i]=np.argmin(np.abs(E2[i]))\n",
    "print(E_min_n[E_min_n==ans].size)\n",
    "#print(E1_min_n[E1_min_n==ans].size)\n",
    "print(np.average(E1,axis=0))\n",
    "print(np.argsort(np.average(E1,axis=0)))\n",
    "#print(np.average(E2,axis=0))\n",
    "print(np.average(E1,axis=0)[ans]/E1.mean())"
   ]
  },
  {
   "cell_type": "code",
   "execution_count": 5,
   "metadata": {},
   "outputs": [
    {
     "name": "stdout",
     "output_type": "stream",
     "text": [
      "2\n",
      "[0.17738978 0.29606052 0.24766134 0.25960144 0.28464165 0.29637625]\n",
      "[0 2 3 4 1 5]\n",
      "0.9514878542528762\n"
     ]
    }
   ],
   "source": [
    "import numpy as np\n",
    "N='82'\n",
    "E1=np.load('Data/'+N+str('E1_all')+'.npy')\n",
    "ans=2\n",
    "E_min_n=np.zeros((50))\n",
    "#E1_min_n=np.zeros((50))\n",
    "for i in range (0,50):\n",
    "    E_min_n[i]=np.argmin(E1[i])\n",
    "    #E1_min_n[i]=np.argmin(np.abs(E2[i]))\n",
    "print(E_min_n[E_min_n==ans].size)\n",
    "#print(E1_min_n[E1_min_n==ans].size)\n",
    "print(np.average(E1,axis=0))\n",
    "print(np.argsort(np.average(E1,axis=0)))\n",
    "#print(np.average(E2,axis=0))\n",
    "print(np.average(E1,axis=0)[ans]/E1.mean())"
   ]
  },
  {
   "cell_type": "code",
   "execution_count": 6,
   "metadata": {},
   "outputs": [
    {
     "name": "stdout",
     "output_type": "stream",
     "text": [
      "0\n",
      "[0.19046846 0.19939592 0.26628069 0.21284877 0.2754711  0.22890754]\n",
      "[0 1 3 5 2 4]\n",
      "1.2034802165302356\n"
     ]
    }
   ],
   "source": [
    "import numpy as np\n",
    "N='90'\n",
    "E1=np.load('Data/'+N+str('E1_all')+'.npy')\n",
    "ans=4\n",
    "E_min_n=np.zeros((50))\n",
    "#E1_min_n=np.zeros((50))\n",
    "for i in range (0,50):\n",
    "    E_min_n[i]=np.argmin(E1[i])\n",
    "    #E1_min_n[i]=np.argmin(np.abs(E2[i]))\n",
    "print(E_min_n[E_min_n==ans].size)\n",
    "#print(E1_min_n[E1_min_n==ans].size)\n",
    "print(np.average(E1,axis=0))\n",
    "print(np.argsort(np.average(E1,axis=0)))\n",
    "#print(np.average(E2,axis=0))\n",
    "print(np.average(E1,axis=0)[ans]/E1.mean())"
   ]
  },
  {
   "cell_type": "code",
   "execution_count": 7,
   "metadata": {},
   "outputs": [
    {
     "name": "stdout",
     "output_type": "stream",
     "text": [
      "6\n",
      "[0.2488523  0.30100944 0.21555823 0.26054087 0.27380449 0.29016713]\n",
      "[2 0 3 4 5 1]\n",
      "0.983214862916306\n"
     ]
    }
   ],
   "source": [
    "import numpy as np\n",
    "N='98'\n",
    "E1=np.load('Data/'+N+str('E1_all')+'.npy')\n",
    "ans=3\n",
    "E_min_n=np.zeros((50))\n",
    "#E1_min_n=np.zeros((50))\n",
    "for i in range (0,50):\n",
    "    E_min_n[i]=np.argmin(E1[i])\n",
    "    #E1_min_n[i]=np.argmin(np.abs(E2[i]))\n",
    "print(E_min_n[E_min_n==ans].size)\n",
    "#print(E1_min_n[E1_min_n==ans].size)\n",
    "print(np.average(E1,axis=0))\n",
    "print(np.argsort(np.average(E1,axis=0)))\n",
    "#print(np.average(E2,axis=0))\n",
    "print(np.average(E1,axis=0)[ans]/E1.mean())"
   ]
  },
  {
   "cell_type": "code",
   "execution_count": 8,
   "metadata": {},
   "outputs": [
    {
     "name": "stdout",
     "output_type": "stream",
     "text": [
      "9\n",
      "[0.24313422 0.22549656 0.23749009 0.25811929 0.27512198 0.22394938]\n",
      "[5 1 2 0 3 4]\n",
      "0.9246010506028604\n"
     ]
    }
   ],
   "source": [
    "import numpy as np\n",
    "N='67'\n",
    "E1=np.load('Data/'+N+str('E1_f')+'.npy')\n",
    "ans=1\n",
    "E_min_n=np.zeros((50))\n",
    "#E1_min_n=np.zeros((50))\n",
    "for i in range (0,50):\n",
    "    E_min_n[i]=np.argmin(E1[i])\n",
    "    #E1_min_n[i]=np.argmin(np.abs(E2[i]))\n",
    "print(E_min_n[E_min_n==ans].size)\n",
    "#print(E1_min_n[E1_min_n==ans].size)\n",
    "print(np.average(E1,axis=0))\n",
    "print(np.argsort(np.average(E1,axis=0)))\n",
    "#print(np.average(E2,axis=0))\n",
    "print(np.average(E1,axis=0)[ans]/E1.mean())"
   ]
  },
  {
   "cell_type": "code",
   "execution_count": 14,
   "metadata": {},
   "outputs": [
    {
     "ename": "FileNotFoundError",
     "evalue": "[Errno 2] No such file or directory: 'Data/82E1_f.npy'",
     "output_type": "error",
     "traceback": [
      "\u001b[0;31m---------------------------------------------------------------------------\u001b[0m",
      "\u001b[0;31mFileNotFoundError\u001b[0m                         Traceback (most recent call last)",
      "\u001b[0;32m<ipython-input-14-9a2362b26a84>\u001b[0m in \u001b[0;36m<module>\u001b[0;34m\u001b[0m\n\u001b[1;32m      1\u001b[0m \u001b[0;32mimport\u001b[0m \u001b[0mnumpy\u001b[0m \u001b[0;32mas\u001b[0m \u001b[0mnp\u001b[0m\u001b[0;34m\u001b[0m\u001b[0;34m\u001b[0m\u001b[0m\n\u001b[1;32m      2\u001b[0m \u001b[0mN\u001b[0m\u001b[0;34m=\u001b[0m\u001b[0;34m'82'\u001b[0m\u001b[0;34m\u001b[0m\u001b[0;34m\u001b[0m\u001b[0m\n\u001b[0;32m----> 3\u001b[0;31m \u001b[0mE1\u001b[0m\u001b[0;34m=\u001b[0m\u001b[0mnp\u001b[0m\u001b[0;34m.\u001b[0m\u001b[0mload\u001b[0m\u001b[0;34m(\u001b[0m\u001b[0;34m'Data/'\u001b[0m\u001b[0;34m+\u001b[0m\u001b[0mN\u001b[0m\u001b[0;34m+\u001b[0m\u001b[0mstr\u001b[0m\u001b[0;34m(\u001b[0m\u001b[0;34m'E1_f'\u001b[0m\u001b[0;34m)\u001b[0m\u001b[0;34m+\u001b[0m\u001b[0;34m'.npy'\u001b[0m\u001b[0;34m)\u001b[0m\u001b[0;34m\u001b[0m\u001b[0;34m\u001b[0m\u001b[0m\n\u001b[0m\u001b[1;32m      4\u001b[0m \u001b[0mans\u001b[0m\u001b[0;34m=\u001b[0m\u001b[0;36m2\u001b[0m\u001b[0;34m\u001b[0m\u001b[0;34m\u001b[0m\u001b[0m\n\u001b[1;32m      5\u001b[0m \u001b[0mE_min_n\u001b[0m\u001b[0;34m=\u001b[0m\u001b[0mnp\u001b[0m\u001b[0;34m.\u001b[0m\u001b[0mzeros\u001b[0m\u001b[0;34m(\u001b[0m\u001b[0;34m(\u001b[0m\u001b[0;36m50\u001b[0m\u001b[0;34m)\u001b[0m\u001b[0;34m)\u001b[0m\u001b[0;34m\u001b[0m\u001b[0;34m\u001b[0m\u001b[0m\n",
      "\u001b[0;32m~/miniconda3/envs/mlp/lib/python3.6/site-packages/numpy/lib/npyio.py\u001b[0m in \u001b[0;36mload\u001b[0;34m(file, mmap_mode, allow_pickle, fix_imports, encoding)\u001b[0m\n\u001b[1;32m    382\u001b[0m     \u001b[0mown_fid\u001b[0m \u001b[0;34m=\u001b[0m \u001b[0;32mFalse\u001b[0m\u001b[0;34m\u001b[0m\u001b[0;34m\u001b[0m\u001b[0m\n\u001b[1;32m    383\u001b[0m     \u001b[0;32mif\u001b[0m \u001b[0misinstance\u001b[0m\u001b[0;34m(\u001b[0m\u001b[0mfile\u001b[0m\u001b[0;34m,\u001b[0m \u001b[0mbasestring\u001b[0m\u001b[0;34m)\u001b[0m\u001b[0;34m:\u001b[0m\u001b[0;34m\u001b[0m\u001b[0;34m\u001b[0m\u001b[0m\n\u001b[0;32m--> 384\u001b[0;31m         \u001b[0mfid\u001b[0m \u001b[0;34m=\u001b[0m \u001b[0mopen\u001b[0m\u001b[0;34m(\u001b[0m\u001b[0mfile\u001b[0m\u001b[0;34m,\u001b[0m \u001b[0;34m\"rb\"\u001b[0m\u001b[0;34m)\u001b[0m\u001b[0;34m\u001b[0m\u001b[0;34m\u001b[0m\u001b[0m\n\u001b[0m\u001b[1;32m    385\u001b[0m         \u001b[0mown_fid\u001b[0m \u001b[0;34m=\u001b[0m \u001b[0;32mTrue\u001b[0m\u001b[0;34m\u001b[0m\u001b[0;34m\u001b[0m\u001b[0m\n\u001b[1;32m    386\u001b[0m     \u001b[0;32melif\u001b[0m \u001b[0mis_pathlib_path\u001b[0m\u001b[0;34m(\u001b[0m\u001b[0mfile\u001b[0m\u001b[0;34m)\u001b[0m\u001b[0;34m:\u001b[0m\u001b[0;34m\u001b[0m\u001b[0;34m\u001b[0m\u001b[0m\n",
      "\u001b[0;31mFileNotFoundError\u001b[0m: [Errno 2] No such file or directory: 'Data/82E1_f.npy'"
     ]
    }
   ],
   "source": [
    "import numpy as np\n",
    "N='82'\n",
    "E1=np.load('Data/'+N+str('E1_f')+'.npy')\n",
    "ans=2\n",
    "E_min_n=np.zeros((50))\n",
    "#E1_min_n=np.zeros((50))\n",
    "for i in range (0,50):\n",
    "    E_min_n[i]=np.argmin(E1[i])\n",
    "    #E1_min_n[i]=np.argmin(np.abs(E2[i]))\n",
    "print(E_min_n[E_min_n==ans].size)\n",
    "#print(E1_min_n[E1_min_n==ans].size)\n",
    "print(np.average(E1,axis=0))\n",
    "print(np.argsort(np.average(E1,axis=0)))\n",
    "#print(np.average(E2,axis=0))\n",
    "print(np.average(E1,axis=0)[ans]/E1.mean())"
   ]
  },
  {
   "cell_type": "code",
   "execution_count": 10,
   "metadata": {},
   "outputs": [
    {
     "name": "stdout",
     "output_type": "stream",
     "text": [
      "0\n",
      "[0.60788474 0.41058258 0.76535723 0.5217277  0.71235048 0.54059575]\n",
      "[1 3 5 0 4 2]\n",
      "0.9115008847189991\n"
     ]
    }
   ],
   "source": [
    "import numpy as np\n",
    "N='59'\n",
    "E1=np.load('Data/'+N+str('E1_all')+'.npy')\n",
    "ans=5\n",
    "E_min_n=np.zeros((50))\n",
    "#E1_min_n=np.zeros((50))\n",
    "for i in range (0,50):\n",
    "    E_min_n[i]=np.argmin(E1[i])\n",
    "    #E1_min_n[i]=np.argmin(np.abs(E2[i]))\n",
    "print(E_min_n[E_min_n==ans].size)\n",
    "#print(E1_min_n[E1_min_n==ans].size)\n",
    "print(np.average(E1,axis=0))\n",
    "print(np.argsort(np.average(E1,axis=0)))\n",
    "#print(np.average(E2,axis=0))\n",
    "print(np.average(E1,axis=0)[ans]/E1.mean())"
   ]
  },
  {
   "cell_type": "code",
   "execution_count": 1,
   "metadata": {},
   "outputs": [
    {
     "name": "stdout",
     "output_type": "stream",
     "text": [
      "22\n",
      "[0.18133221 0.17908607 0.1890146  0.20005529 0.19770326 0.40541075]\n",
      "[1 0 2 4 3 5]\n",
      "0.7944068320994185\n"
     ]
    }
   ],
   "source": [
    "import numpy as np\n",
    "N='35'\n",
    "E1=np.load('Data/'+N+str('E1_f')+'.npy')\n",
    "ans=1\n",
    "E_min_n=np.zeros((50))\n",
    "#E1_min_n=np.zeros((50))\n",
    "for i in range (0,50):\n",
    "    E_min_n[i]=np.argmin(E1[i])\n",
    "    #E1_min_n[i]=np.argmin(np.abs(E2[i]))\n",
    "print(E_min_n[E_min_n==ans].size)\n",
    "#print(E1_min_n[E1_min_n==ans].size)\n",
    "print(np.average(E1,axis=0))\n",
    "print(np.argsort(np.average(E1,axis=0)))\n",
    "#print(np.average(E2,axis=0))\n",
    "print(np.average(E1,axis=0)[ans]/E1.mean())"
   ]
  },
  {
   "cell_type": "code",
   "execution_count": 2,
   "metadata": {
    "scrolled": true
   },
   "outputs": [
    {
     "name": "stdout",
     "output_type": "stream",
     "text": [
      "28\n",
      "[0.15376152 0.19245422 0.16040021 0.17202362 0.15656422 0.13812446]\n",
      "[5 0 4 2 3 1]\n",
      "0.8514566098822923\n"
     ]
    }
   ],
   "source": [
    "import numpy as np\n",
    "N='43'\n",
    "E1=np.load('Data/'+N+str('E1_f')+'.npy')\n",
    "ans=5\n",
    "E_min_n=np.zeros((50))\n",
    "#E1_min_n=np.zeros((50))\n",
    "for i in range (0,50):\n",
    "    E_min_n[i]=np.argmin(E1[i])\n",
    "    #E1_min_n[i]=np.argmin(np.abs(E2[i]))\n",
    "print(E_min_n[E_min_n==ans].size)\n",
    "#print(E1_min_n[E1_min_n==ans].size)\n",
    "print(np.average(E1,axis=0))\n",
    "print(np.argsort(np.average(E1,axis=0)))\n",
    "#print(np.average(E2,axis=0))\n",
    "print(np.average(E1,axis=0)[ans]/E1.mean())"
   ]
  },
  {
   "cell_type": "code",
   "execution_count": 4,
   "metadata": {},
   "outputs": [
    {
     "name": "stdout",
     "output_type": "stream",
     "text": [
      "2\n",
      "[0.20548372 0.38270507 0.27953602 0.31586838 0.34725169 0.37213114]\n",
      "[0 2 3 4 5 1]\n",
      "0.8813648313578502\n"
     ]
    }
   ],
   "source": [
    "import numpy as np\n",
    "N='82'\n",
    "E1=np.load('Data/'+N+str('E1_f')+'.npy')\n",
    "ans=2\n",
    "E_min_n=np.zeros((50))\n",
    "#E1_min_n=np.zeros((50))\n",
    "for i in range (0,50):\n",
    "    E_min_n[i]=np.argmin(E1[i])\n",
    "    #E1_min_n[i]=np.argmin(np.abs(E2[i]))\n",
    "print(E_min_n[E_min_n==ans].size)\n",
    "#print(E1_min_n[E1_min_n==ans].size)\n",
    "print(np.average(E1,axis=0))\n",
    "print(np.argsort(np.average(E1,axis=0)))\n",
    "#print(np.average(E2,axis=0))\n",
    "print(np.average(E1,axis=0)[ans]/E1.mean())"
   ]
  },
  {
   "cell_type": "code",
   "execution_count": 5,
   "metadata": {},
   "outputs": [
    {
     "name": "stdout",
     "output_type": "stream",
     "text": [
      "0\n",
      "[0.20388298 0.20292069 0.26622052 0.21785995 0.27494951 0.24385662]\n",
      "[1 0 3 5 2 4]\n",
      "1.1702549673738827\n"
     ]
    }
   ],
   "source": [
    "import numpy as np\n",
    "N='90'\n",
    "E1=np.load('Data/'+N+str('E1_f')+'.npy')\n",
    "ans=4\n",
    "E_min_n=np.zeros((50))\n",
    "#E1_min_n=np.zeros((50))\n",
    "for i in range (0,50):\n",
    "    E_min_n[i]=np.argmin(E1[i])\n",
    "    #E1_min_n[i]=np.argmin(np.abs(E2[i]))\n",
    "print(E_min_n[E_min_n==ans].size)\n",
    "#print(E1_min_n[E1_min_n==ans].size)\n",
    "print(np.average(E1,axis=0))\n",
    "print(np.argsort(np.average(E1,axis=0)))\n",
    "#print(np.average(E2,axis=0))\n",
    "print(np.average(E1,axis=0)[ans]/E1.mean())"
   ]
  },
  {
   "cell_type": "code",
   "execution_count": 6,
   "metadata": {},
   "outputs": [
    {
     "name": "stdout",
     "output_type": "stream",
     "text": [
      "4\n",
      "[0.29115776 0.31746509 0.24964364 0.29313925 0.30489749 0.30348819]\n",
      "[2 0 3 5 4 1]\n",
      "0.9994567924314258\n"
     ]
    }
   ],
   "source": [
    "import numpy as np\n",
    "N='98'\n",
    "E1=np.load('Data/'+N+str('E1_f')+'.npy')\n",
    "ans=3\n",
    "E_min_n=np.zeros((50))\n",
    "#E1_min_n=np.zeros((50))\n",
    "for i in range (0,50):\n",
    "    E_min_n[i]=np.argmin(E1[i])\n",
    "    #E1_min_n[i]=np.argmin(np.abs(E2[i]))\n",
    "print(E_min_n[E_min_n==ans].size)\n",
    "#print(E1_min_n[E1_min_n==ans].size)\n",
    "print(np.average(E1,axis=0))\n",
    "print(np.argsort(np.average(E1,axis=0)))\n",
    "#print(np.average(E2,axis=0))\n",
    "print(np.average(E1,axis=0)[ans]/E1.mean())"
   ]
  },
  {
   "cell_type": "code",
   "execution_count": 6,
   "metadata": {},
   "outputs": [
    {
     "name": "stdout",
     "output_type": "stream",
     "text": [
      "37\n",
      "[0.27269966 0.27267238 0.27268086 0.27269305 0.21950524 0.27269305]\n",
      "[4 1 2 3 5 0]\n",
      "0.8320137907197243\n"
     ]
    }
   ],
   "source": [
    "import numpy as np\n",
    "N='0'\n",
    "E1=np.load('Data/'+N+str('E1_c')+'.npy')\n",
    "ans=4\n",
    "E_min_n=np.zeros((50))\n",
    "#E1_min_n=np.zeros((50))\n",
    "for i in range (0,50):\n",
    "    E_min_n[i]=np.argmin(E1[i])\n",
    "    #E1_min_n[i]=np.argmin(np.abs(E2[i]))\n",
    "print(E_min_n[E_min_n==ans].size)\n",
    "#print(E1_min_n[E1_min_n==ans].size)\n",
    "print(np.average(E1,axis=0))\n",
    "print(np.argsort(np.average(E1,axis=0)))\n",
    "#print(np.average(E2,axis=0))\n",
    "print(np.average(E1,axis=0)[ans]/E1.mean())"
   ]
  },
  {
   "cell_type": "code",
   "execution_count": null,
   "metadata": {},
   "outputs": [],
   "source": []
  }
 ],
 "metadata": {
  "kernelspec": {
   "display_name": "Python 3",
   "language": "python",
   "name": "python3"
  },
  "language_info": {
   "codemirror_mode": {
    "name": "ipython",
    "version": 3
   },
   "file_extension": ".py",
   "mimetype": "text/x-python",
   "name": "python",
   "nbconvert_exporter": "python",
   "pygments_lexer": "ipython3",
   "version": "3.6.8"
  }
 },
 "nbformat": 4,
 "nbformat_minor": 2
}
