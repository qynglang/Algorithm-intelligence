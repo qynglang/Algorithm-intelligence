{
 "cells": [
  {
   "cell_type": "code",
   "execution_count": 94,
   "metadata": {},
   "outputs": [],
   "source": [
    "#provided\n",
    "import numpy as np\n",
    "M=np.ones(9)\n",
    "a1=[2,5,6,7,8]\n",
    "a2=[2,5,8,7]\n",
    "a3=[2,5,8]\n",
    "a4=[3,4,5,2]\n",
    "a5=[2,5,4]\n",
    "a6=[2,5]\n",
    "a7=[6,7,8]\n",
    "a8=[7,8]\n",
    "a=[a1,a2,a3,a4,a5,a6,a7,a8]\n",
    "Matrix=np.zeros((9,8))\n",
    "Activation=np.zeros((10,8))\n",
    "for i in range (0,8):\n",
    "    M=np.zeros(9)\n",
    "    M[a[i]]=1\n",
    "    N1=M[[0,1,3,4]]\n",
    "    N2=M[[1,2,4,5]]\n",
    "    N3=M[[3,4,6,7]]\n",
    "    N4=M[[4,5,7,8]]\n",
    "    N5=M[[0,3,6]]\n",
    "    N6=M[[1,4,7]]\n",
    "    N7=M[[2,5,8]]\n",
    "    N8=M[[0,1,2]]\n",
    "    N9=M[[3,4,5]]\n",
    "    N10=M[[6,7,8]]\n",
    "    N=[N1,N2,N3,N4,N5,N6,N7,N8,N9,N10]\n",
    "    Matrix[:,i]=M\n",
    "    for j in range (0,10):\n",
    "        Activation[j,i]=N[j].sum()\n",
    "        \n"
   ]
  },
  {
   "cell_type": "code",
   "execution_count": 105,
   "metadata": {},
   "outputs": [],
   "source": [
    "#choice\n",
    "import numpy as np\n",
    "c1=[6,7,8]\n",
    "c2=[2,5,6,8,7]\n",
    "c3=[2,5,8]\n",
    "c4=[8]\n",
    "c5=[5,8]\n",
    "c6=[4,5,7,8]\n",
    "c7=[3,4,5,1,7]\n",
    "c8=[5,7,8]\n",
    "c=[c1,c2,c3,c4,c5,c6,c7,c8]\n",
    "Choice=np.zeros((9,8))\n",
    "Activation_choice=np.zeros((10,8))\n",
    "for i in range (0,8):\n",
    "    C=np.zeros(9)\n",
    "    C[c[i]]=1\n",
    "    N1=C[[0,1,3,4]]\n",
    "    N2=C[[1,2,4,5]]\n",
    "    N3=C[[3,4,6,7]]\n",
    "    N4=C[[4,5,7,8]]\n",
    "    N5=C[[0,3,6]]\n",
    "    N6=C[[1,4,7]]\n",
    "    N7=C[[2,5,8]]\n",
    "    N8=C[[0,1,2]]\n",
    "    N9=C[[3,4,5]]\n",
    "    N10=C[[6,7,8]]\n",
    "    N=[N1,N2,N3,N4,N5,N6,N7,N8,N9,N10]\n",
    "    Choice[:,i]=C\n",
    "    for j in range (0,10):\n",
    "        Activation_choice[j,i]=N[j].sum()"
   ]
  },
  {
   "cell_type": "code",
   "execution_count": 96,
   "metadata": {},
   "outputs": [
    {
     "data": {
      "image/png": "[encoded data removed]",
      "text/plain": [
       "<Figure size 432x288 with 8 Axes>"
      ]
     },
     "metadata": {
      "needs_background": "light"
     },
     "output_type": "display_data"
    }
   ],
   "source": [
    "import matplotlib.pyplot as plt\n",
    "for i in range(0,8):\n",
    "    plt.subplot(3,3,i+1)\n",
    "    plt.imshow(Matrix[:,i].reshape(3,3))"
   ]
  },
  {
   "cell_type": "code",
   "execution_count": 97,
   "metadata": {},
   "outputs": [
    {
     "data": {
      "image/png": "[encoded data removed]",
      "text/plain": [
       "<Figure size 432x288 with 8 Axes>"
      ]
     },
     "metadata": {
      "needs_background": "light"
     },
     "output_type": "display_data"
    }
   ],
   "source": [
    "import matplotlib.pyplot as plt\n",
    "for i in range(0,8):\n",
    "    plt.subplot(2,4,i+1)\n",
    "    plt.imshow(Choice[:,i].reshape(3,3))"
   ]
  },
  {
   "cell_type": "code",
   "execution_count": 98,
   "metadata": {},
   "outputs": [
    {
     "data": {
      "text/plain": [
       "array([[0., 0., 0., 2., 1., 0., 0., 0.],\n",
       "       [2., 2., 2., 3., 3., 2., 0., 0.],\n",
       "       [2., 1., 0., 2., 1., 0., 2., 1.],\n",
       "       [3., 3., 2., 2., 2., 1., 2., 2.],\n",
       "       [1., 0., 0., 1., 0., 0., 1., 0.],\n",
       "       [1., 1., 0., 1., 1., 0., 1., 1.],\n",
       "       [3., 3., 3., 2., 2., 2., 1., 1.],\n",
       "       [1., 1., 1., 1., 1., 1., 0., 0.],\n",
       "       [1., 1., 1., 3., 2., 1., 0., 0.],\n",
       "       [3., 2., 1., 0., 0., 0., 3., 2.]])"
      ]
     },
     "execution_count": 98,
     "metadata": {},
     "output_type": "execute_result"
    }
   ],
   "source": [
    "Activation"
   ]
  },
  {
   "cell_type": "code",
   "execution_count": 106,
   "metadata": {},
   "outputs": [
    {
     "data": {
      "text/plain": [
       "array([[0., 0., 0., 0., 0., 1., 3., 0.],\n",
       "       [0., 2., 2., 0., 1., 2., 3., 1.],\n",
       "       [2., 2., 0., 0., 0., 2., 3., 1.],\n",
       "       [2., 3., 2., 1., 2., 4., 3., 3.],\n",
       "       [1., 1., 0., 0., 0., 0., 1., 0.],\n",
       "       [1., 1., 0., 0., 0., 2., 3., 1.],\n",
       "       [1., 3., 3., 1., 2., 2., 1., 2.],\n",
       "       [0., 1., 1., 0., 0., 0., 1., 0.],\n",
       "       [0., 1., 1., 0., 1., 2., 3., 1.],\n",
       "       [3., 3., 1., 1., 1., 2., 1., 2.]])"
      ]
     },
     "execution_count": 106,
     "metadata": {},
     "output_type": "execute_result"
    }
   ],
   "source": [
    "Activation_choice"
   ]
  },
  {
   "cell_type": "code",
   "execution_count": 99,
   "metadata": {},
   "outputs": [],
   "source": [
    "match=np.zeros((2,3,10))\n",
    "\n",
    "for j in range (0,10):\n",
    "    if Activation[j,0]==Activation[j,1]==Activation[j,2]:\n",
    "        match[0,0,j]=1\n",
    "    if Activation[j,3]==Activation[j,4]==Activation[j,5]:\n",
    "        match[0,1,j]=1\n",
    "\n",
    "    if Activation[j,0]==Activation[j,3]==Activation[j,6]:\n",
    "        match[1,0,j]=1\n",
    "    if Activation[j,1]==Activation[j,4]==Activation[j,7]:\n",
    "        match[1,1,j]=1\n"
   ]
  },
  {
   "cell_type": "code",
   "execution_count": 101,
   "metadata": {
    "scrolled": true
   },
   "outputs": [
    {
     "data": {
      "text/plain": [
       "array([[[1., 1., 0., 0., 0., 0., 1., 1., 1., 0.],\n",
       "        [0., 0., 0., 0., 0., 0., 1., 1., 0., 1.],\n",
       "        [0., 0., 0., 0., 0., 0., 0., 0., 0., 0.]],\n",
       "\n",
       "       [[0., 0., 1., 0., 1., 1., 0., 0., 0., 0.],\n",
       "        [0., 0., 1., 0., 1., 1., 0., 0., 0., 0.],\n",
       "        [0., 0., 0., 0., 0., 0., 0., 0., 0., 0.]]])"
      ]
     },
     "execution_count": 101,
     "metadata": {},
     "output_type": "execute_result"
    }
   ],
   "source": [
    "match"
   ]
  },
  {
   "cell_type": "code",
   "execution_count": 71,
   "metadata": {},
   "outputs": [
    {
     "data": {
      "text/plain": [
       "array([6, 7])"
      ]
     },
     "execution_count": 71,
     "metadata": {},
     "output_type": "execute_result"
    }
   ],
   "source": [
    "np.where(match[0,:,:].sum(axis=0)==3)[0]"
   ]
  },
  {
   "cell_type": "code",
   "execution_count": 74,
   "metadata": {},
   "outputs": [],
   "source": [
    "match[0,:,:].sum(axis=0)\n",
    "if np.where(match[0,:,:].sum(axis=0)==3)[0].any():\n",
    "    n=np.where(match[0,:,:].sum(axis=0)==3)[0]"
   ]
  },
  {
   "cell_type": "code",
   "execution_count": 56,
   "metadata": {},
   "outputs": [
    {
     "data": {
      "text/plain": [
       "(10, 8)"
      ]
     },
     "execution_count": 56,
     "metadata": {},
     "output_type": "execute_result"
    }
   ],
   "source": [
    "Activation_choice.shape"
   ]
  },
  {
   "cell_type": "code",
   "execution_count": 90,
   "metadata": {},
   "outputs": [],
   "source": [
    "m_count=match[k,:,:].sum(axis=0)"
   ]
  },
  {
   "cell_type": "code",
   "execution_count": 91,
   "metadata": {},
   "outputs": [
    {
     "data": {
      "text/plain": [
       "3.0"
      ]
     },
     "execution_count": 91,
     "metadata": {},
     "output_type": "execute_result"
    }
   ],
   "source": [
    "max(m_count)"
   ]
  },
  {
   "cell_type": "code",
   "execution_count": 110,
   "metadata": {
    "scrolled": true
   },
   "outputs": [
    {
     "name": "stdout",
     "output_type": "stream",
     "text": [
      "6 0 [6]\n",
      "7 0 [6 7]\n",
      "8 0 [6 7]\n",
      "9 0 [6 7]\n",
      "6 0 [6]\n",
      "7 0 [6 7]\n",
      "8 0 [6 7]\n",
      "9 0 [6 7]\n",
      "7 0 [7]\n",
      "8 0 [7]\n",
      "9 0 [7]\n",
      "7 0 [7]\n",
      "8 0 [7]\n",
      "9 0 [7]\n",
      "6 0 [6]\n",
      "7 0 [6]\n",
      "8 0 [6]\n",
      "9 0 [6]\n",
      "7 0 [7]\n",
      "8 0 [7]\n",
      "9 0 [7]\n"
     ]
    }
   ],
   "source": [
    "count=np.zeros(8)\n",
    "for i in range (0,8):\n",
    "    match[0,2,:]=0\n",
    "    match[1,2,:]=0\n",
    "    for j in range (0,10):\n",
    "        if Activation[j,6]==Activation[j,7]==Activation_choice[j,i]:\n",
    "             match[0,2,j]=1\n",
    "        if Activation[j,2]==Activation[j,5]==Activation_choice[j,i]:\n",
    "             match[1,2,j]=1\n",
    "        for k in range (0,1):\n",
    "            m_count=match[k,:,:].sum(axis=0)\n",
    "            if max(m_count)==3:\n",
    "                n=np.where(match[k,:,:].sum(axis=0)==3)[0]\n",
    "                print(j,k,n)\n",
    "                count[i]+=1"
   ]
  },
  {
   "cell_type": "code",
   "execution_count": 111,
   "metadata": {},
   "outputs": [
    {
     "data": {
      "text/plain": [
       "array([[[1., 1., 0., 0., 0., 0., 1., 1., 1., 0.],\n",
       "        [0., 0., 0., 0., 0., 0., 1., 1., 0., 1.],\n",
       "        [1., 0., 0., 0., 0., 1., 0., 1., 0., 0.]],\n",
       "\n",
       "       [[0., 0., 1., 0., 1., 1., 0., 0., 0., 0.],\n",
       "        [0., 0., 1., 0., 1., 1., 0., 0., 0., 0.],\n",
       "        [1., 0., 0., 0., 1., 0., 0., 0., 1., 0.]]])"
      ]
     },
     "execution_count": 111,
     "metadata": {},
     "output_type": "execute_result"
    }
   ],
   "source": [
    "match"
   ]
  },
  {
   "cell_type": "code",
   "execution_count": 112,
   "metadata": {},
   "outputs": [
    {
     "data": {
      "text/plain": [
       "array([4., 0., 0., 4., 3., 3., 4., 3.])"
      ]
     },
     "execution_count": 112,
     "metadata": {},
     "output_type": "execute_result"
    }
   ],
   "source": [
    "count"
   ]
  },
  {
   "cell_type": "code",
   "execution_count": 6,
   "metadata": {},
   "outputs": [],
   "source": [
    "N2=M[0:1,1:2]\n",
    "N1=M[0:1,0:1]\n",
    "N3=M[1:2,0:1]\n",
    "N4=M[1:2,1:2]\n",
    "N5=M[0:2,0]\n",
    "N6=M[0:2,1]\n",
    "N7=M[0:2,2]\n",
    "N8=M[0,0:2]\n",
    "N9=M[1,0:2]\n",
    "N10=M[2,0:2]"
   ]
  },
  {
   "cell_type": "code",
   "execution_count": null,
   "metadata": {},
   "outputs": [],
   "source": []
  }
 ],
 "metadata": {
  "kernelspec": {
   "display_name": "Python 3",
   "language": "python",
   "name": "python3"
  },
  "language_info": {
   "codemirror_mode": {
    "name": "ipython",
    "version": 3
   },
   "file_extension": ".py",
   "mimetype": "text/x-python",
   "name": "python",
   "nbconvert_exporter": "python",
   "pygments_lexer": "ipython3",
   "version": "3.6.8"
  }
 },
 "nbformat": 4,
 "nbformat_minor": 2
}
