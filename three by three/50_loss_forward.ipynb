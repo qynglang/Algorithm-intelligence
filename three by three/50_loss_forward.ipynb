{
 "cells": [
  {
   "cell_type": "code",
   "execution_count": 1,
   "metadata": {},
   "outputs": [],
   "source": [
    "import numpy as np\n",
    "import matplotlib.pyplot as plt\n",
    "data=np.load('data.npy')\n",
    "for i in range (0,16):\n",
    "    plt.subplot(4,4,i+1)\n",
    "    plt.imshow(data[:,:,i,2],cmap='gray')"
   ]
  },
  {
   "cell_type": "code",
   "execution_count": null,
   "metadata": {},
   "outputs": [],
   "source": [
    "n=0\n",
    "from con import train_cov\n",
    "import numpy as np\n",
    "import matplotlib.pyplot as plt\n",
    "data=np.load('data.npy')\n",
    "#from loadone1 import load_sample as load\n",
    "w1=np.zeros((5,5,1,3))\n",
    "w2=np.zeros((5,5,3,6))\n",
    "m=np.array([0,3,6])\n",
    "#M12,a12=load(data[:,:,m,12])\n",
    "w1[:,:,:,:],w2[:,:,:,:]=train_cov(data[:,:,0,2])"
   ]
  }
 ],
 "metadata": {
  "kernelspec": {
   "display_name": "Python 3",
   "language": "python",
   "name": "python3"
  },
  "language_info": {
   "codemirror_mode": {
    "name": "ipython",
    "version": 3
   },
   "file_extension": ".py",
   "mimetype": "text/x-python",
   "name": "python",
   "nbconvert_exporter": "python",
   "pygments_lexer": "ipython3",
   "version": "3.6.8"
  }
 },
 "nbformat": 4,
 "nbformat_minor": 2
}
