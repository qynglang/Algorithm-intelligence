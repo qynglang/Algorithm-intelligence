{
 "cells": [
  {
   "cell_type": "code",
   "execution_count": 1,
   "metadata": {},
   "outputs": [
    {
     "ename": "ImportError",
     "evalue": "No module named forw",
     "output_type": "error",
     "traceback": [
      "\u001b[0;31m---------------------------------------------------------------------------\u001b[0m",
      "\u001b[0;31mImportError\u001b[0m                               Traceback (most recent call last)",
      "\u001b[0;32m<ipython-input-1-efa06356c353>\u001b[0m in \u001b[0;36m<module>\u001b[0;34m()\u001b[0m\n\u001b[1;32m      1\u001b[0m \u001b[0;32mimport\u001b[0m \u001b[0mnumpy\u001b[0m \u001b[0;32mas\u001b[0m \u001b[0mnp\u001b[0m\u001b[0;34m\u001b[0m\u001b[0m\n\u001b[1;32m      2\u001b[0m \u001b[0;32mimport\u001b[0m \u001b[0mmatplotlib\u001b[0m\u001b[0;34m.\u001b[0m\u001b[0mpyplot\u001b[0m \u001b[0;32mas\u001b[0m \u001b[0mplt\u001b[0m\u001b[0;34m\u001b[0m\u001b[0m\n\u001b[0;32m----> 3\u001b[0;31m \u001b[0;32mfrom\u001b[0m \u001b[0mforw\u001b[0m \u001b[0;32mimport\u001b[0m \u001b[0mforward\u001b[0m\u001b[0;34m\u001b[0m\u001b[0m\n\u001b[0m\u001b[1;32m      4\u001b[0m \u001b[0mdata\u001b[0m\u001b[0;34m=\u001b[0m\u001b[0mnp\u001b[0m\u001b[0;34m.\u001b[0m\u001b[0mload\u001b[0m\u001b[0;34m(\u001b[0m\u001b[0;34m'data.npy'\u001b[0m\u001b[0;34m)\u001b[0m\u001b[0;34m\u001b[0m\u001b[0m\n\u001b[1;32m      5\u001b[0m \u001b[0;32mfor\u001b[0m \u001b[0mi\u001b[0m \u001b[0;32min\u001b[0m \u001b[0mrange\u001b[0m \u001b[0;34m(\u001b[0m\u001b[0;36m0\u001b[0m\u001b[0;34m,\u001b[0m\u001b[0;36m16\u001b[0m\u001b[0;34m)\u001b[0m\u001b[0;34m:\u001b[0m\u001b[0;34m\u001b[0m\u001b[0m\n",
      "\u001b[0;31mImportError\u001b[0m: No module named forw"
     ]
    }
   ],
   "source": [
    "import numpy as np\n",
    "import matplotlib.pyplot as plt\n",
    "from forw import forward\n",
    "data=np.load('data.npy')\n",
    "for i in range (0,16):\n",
    "    plt.subplot(4,4,i+1)\n",
    "    plt.imshow(data[:,:,i,0],cmap='gray')\n",
    "n=0\n",
    "from con1 import train_cov\n",
    "import numpy as np\n",
    "import matplotlib.pyplot as plt\n",
    "data=np.load('data.npy')\n",
    "#from loadone1 import load_sample as load\n",
    "w1=np.zeros((5,5,1,3))\n",
    "w2=np.zeros((5,5,3,6))\n",
    "m=np.array([0,3,6])\n",
    "#M12,a12=load(data[:,:,m,12])\n",
    "w1[:,:,:,:],w2[:,:,:,:]=train_cov(data[:,:,m,n],50,3,8)\n",
    "II=forward(data[:,:,:,0],w1,w2)\n",
    "error01=II[1,:]-II[0,:]\n",
    "error12=II[2,:]-II[1,:]\n",
    "error34=II[4,:]-II[3,:]\n",
    "error54=II[5,:]-II[4,:]\n",
    "error67=II[7,:]-II[6,:]\n",
    "error78=np.zeros((8,294))\n",
    "for i in range (0,8):\n",
    "    error78[i,:]=II[8+i,:]-II[7,:]\n",
    "E1=error01-error34\n",
    "E2=error34-error54\n",
    "E3=np.zeros((8,294))\n",
    "for i in range (0,8):\n",
    "    E3[i,:]=error67-error78[i,:]\n",
    "EE1=E2-E1\n",
    "EE2=np.zeros((8,294))\n",
    "for i in range (0,8):\n",
    "    EE2[i,:]=E3[i,:]-E2\n",
    "np.abs(EE2.sum(axis=1))"
   ]
  },
  {
   "cell_type": "code",
   "execution_count": null,
   "metadata": {},
   "outputs": [],
   "source": []
  }
 ],
 "metadata": {
  "kernelspec": {
   "display_name": "Python 3",
   "language": "python",
   "name": "python3"
  },
  "language_info": {
   "codemirror_mode": {
    "name": "ipython",
    "version": 3
   },
   "file_extension": ".py",
   "mimetype": "text/x-python",
   "name": "python",
   "nbconvert_exporter": "python",
   "pygments_lexer": "ipython3",
   "version": "3.6.8"
  }
 },
 "nbformat": 4,
 "nbformat_minor": 2
}
