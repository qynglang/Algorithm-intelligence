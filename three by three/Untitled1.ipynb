{
 "cells": [
  {
   "cell_type": "code",
   "execution_count": 36,
   "metadata": {},
   "outputs": [],
   "source": [
    "import numpy as np\n",
    "NN='9_23'\n",
    "EE=np.load('Data/'+str(NN)+'Error_no_rotation_rerun.npy')\n",
    "T=np.load('Data/'+str(NN)+'Termination_no_rotation_rerun.npy')"
   ]
  },
  {
   "cell_type": "code",
   "execution_count": 37,
   "metadata": {},
   "outputs": [
    {
     "name": "stdout",
     "output_type": "stream",
     "text": [
      "4\n",
      "[4 6 0 5 7 3 2 1]\n",
      "0.9902718522537177\n",
      "[4. 5. 7. 6. 7.]\n",
      "2\n"
     ]
    }
   ],
   "source": [
    "N=np.zeros(5)\n",
    "ans=5\n",
    "for i in range (0,5):\n",
    "    N[i]=np.argmin(EE[:,i])\n",
    "print(np.argmin(np.average(EE,axis=1)))\n",
    "print(np.argsort(np.average(EE,axis=1)))\n",
    "print(np.average(EE,axis=1)[ans]/np.average(EE,axis=1).mean())\n",
    "print(N)\n",
    "print(T)"
   ]
  },
  {
   "cell_type": "code",
   "execution_count": null,
   "metadata": {},
   "outputs": [],
   "source": []
  }
 ],
 "metadata": {
  "kernelspec": {
   "display_name": "Python 3",
   "language": "python",
   "name": "python3"
  },
  "language_info": {
   "codemirror_mode": {
    "name": "ipython",
    "version": 3
   },
   "file_extension": ".py",
   "mimetype": "text/x-python",
   "name": "python",
   "nbconvert_exporter": "python",
   "pygments_lexer": "ipython3",
   "version": "3.6.8"
  }
 },
 "nbformat": 4,
 "nbformat_minor": 2
}
