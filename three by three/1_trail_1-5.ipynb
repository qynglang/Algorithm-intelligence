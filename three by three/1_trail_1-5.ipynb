{
 "cells": [
  {
   "cell_type": "code",
   "execution_count": 19,
   "metadata": {},
   "outputs": [
    {
     "data": {
      "image/png": "[encoded data removed]",
      "text/plain": [
       "<Figure size 432x288 with 16 Axes>"
      ]
     },
     "metadata": {
      "needs_background": "light"
     },
     "output_type": "display_data"
    }
   ],
   "source": [
    "import numpy as np\n",
    "import matplotlib.pyplot as plt\n",
    "data=np.load('data.npy')\n",
    "for i in range (0,16):\n",
    "    plt.subplot(4,4,i+1)\n",
    "    plt.imshow(data[:,:,i,2],cmap='gray')"
   ]
  },
  {
   "cell_type": "code",
   "execution_count": 5,
   "metadata": {},
   "outputs": [
    {
     "name": "stdout",
     "output_type": "stream",
     "text": [
      "Step 1, Minibatch Loss= 2.2662, Train Accuracy= 0.375\n",
      "Step 2, Minibatch Loss= 9.7533, Train Accuracy= 0.500\n",
      "Step 3, Minibatch Loss= 2.6633, Train Accuracy= 0.125\n",
      "Step 4, Minibatch Loss= 1.6388, Train Accuracy= 0.375\n",
      "Step 5, Minibatch Loss= 1.0781, Train Accuracy= 0.500\n",
      "Step 6, Minibatch Loss= 1.4558, Train Accuracy= 0.125\n",
      "Step 7, Minibatch Loss= 0.7827, Train Accuracy= 0.375\n",
      "Step 8, Minibatch Loss= 0.6565, Train Accuracy= 0.250\n",
      "Step 9, Minibatch Loss= 0.4185, Train Accuracy= 1.000\n",
      "('Testing Accuracy:', 1.0)\n"
     ]
    }
   ],
   "source": [
    "n=0\n",
    "from con import train_cov\n",
    "import numpy as np\n",
    "import matplotlib.pyplot as plt\n",
    "data=np.load('data.npy')\n",
    "#from loadone1 import load_sample as load\n",
    "w1=np.zeros((5,5,1,3))\n",
    "w2=np.zeros((5,5,3,6))\n",
    "m=np.array([0,3,6])\n",
    "#M12,a12=load(data[:,:,m,12])\n",
    "w1[:,:,:,:],w2[:,:,:,:]=train_cov(data[:,:,0,2])"
   ]
  },
  {
   "cell_type": "code",
   "execution_count": 6,
   "metadata": {},
   "outputs": [
    {
     "name": "stdout",
     "output_type": "stream",
     "text": [
      "Step 1, Minibatch Loss= 150.2703, Train Accuracy= 0.000\n",
      "Step 2, Minibatch Loss= 468.8365, Train Accuracy= 0.000\n",
      "Step 3, Minibatch Loss= 290.7132, Train Accuracy= 0.000\n",
      "Step 4, Minibatch Loss= 230.7484, Train Accuracy= 0.000\n",
      "Step 5, Minibatch Loss= 78.7836, Train Accuracy= 0.000\n",
      "Step 6, Minibatch Loss= 68.9613, Train Accuracy= 0.000\n",
      "Step 7, Minibatch Loss= 118.8639, Train Accuracy= 0.000\n",
      "Step 8, Minibatch Loss= 21.1607, Train Accuracy= 0.125\n",
      "Step 9, Minibatch Loss= 0.0000, Train Accuracy= 0.375\n",
      "Step 10, Minibatch Loss= 0.0000, Train Accuracy= 0.375\n",
      "Step 11, Minibatch Loss= 0.0000, Train Accuracy= 0.625\n",
      "Step 12, Minibatch Loss= 0.0000, Train Accuracy= 0.375\n",
      "Step 13, Minibatch Loss= 0.0000, Train Accuracy= 0.500\n",
      "Step 14, Minibatch Loss= 0.0000, Train Accuracy= 0.375\n",
      "Step 15, Minibatch Loss= 0.0000, Train Accuracy= 0.250\n",
      "Step 16, Minibatch Loss= 0.0000, Train Accuracy= 0.375\n",
      "Step 17, Minibatch Loss= 0.0000, Train Accuracy= 0.625\n",
      "Step 18, Minibatch Loss= 0.0000, Train Accuracy= 0.500\n",
      "Step 19, Minibatch Loss= 0.0000, Train Accuracy= 0.375\n",
      "Step 20, Minibatch Loss= 0.0000, Train Accuracy= 0.625\n",
      "Step 21, Minibatch Loss= 0.0000, Train Accuracy= 0.750\n",
      "Step 22, Minibatch Loss= 0.0000, Train Accuracy= 0.375\n",
      "Step 23, Minibatch Loss= 0.0000, Train Accuracy= 0.750\n",
      "Step 24, Minibatch Loss= 0.0000, Train Accuracy= 0.750\n",
      "Step 25, Minibatch Loss= 0.0000, Train Accuracy= 0.375\n",
      "Step 26, Minibatch Loss= 0.0000, Train Accuracy= 0.375\n",
      "Step 27, Minibatch Loss= 0.0000, Train Accuracy= 0.625\n",
      "Step 28, Minibatch Loss= 0.0000, Train Accuracy= 0.625\n",
      "Step 29, Minibatch Loss= 0.0000, Train Accuracy= 0.250\n",
      "Step 30, Minibatch Loss= 0.0000, Train Accuracy= 0.250\n",
      "Step 31, Minibatch Loss= 0.0000, Train Accuracy= 0.500\n",
      "Step 32, Minibatch Loss= 0.0000, Train Accuracy= 0.375\n",
      "Step 33, Minibatch Loss= 0.0000, Train Accuracy= 0.625\n",
      "Step 34, Minibatch Loss= 0.0000, Train Accuracy= 0.750\n",
      "Step 35, Minibatch Loss= 0.0000, Train Accuracy= 0.500\n",
      "Step 36, Minibatch Loss= 0.0000, Train Accuracy= 0.375\n",
      "Step 37, Minibatch Loss= 0.0000, Train Accuracy= 0.500\n",
      "Step 38, Minibatch Loss= 0.0000, Train Accuracy= 0.875\n"
     ]
    }
   ],
   "source": [
    "from fcon_1 import train_fcon\n",
    "w,b=train_fcon(data[:,:,:,2],w1,w2,50,8)"
   ]
  },
  {
   "cell_type": "code",
   "execution_count": 7,
   "metadata": {},
   "outputs": [],
   "source": [
    "from data_gene import forward\n",
    "II=forward(data[:,:,:,2],w1,w2)\n",
    "error01=II[1,:]-II[0,:]\n",
    "error12=II[2,:]-II[1,:]\n",
    "error34=II[4,:]-II[3,:]\n",
    "error54=II[5,:]-II[4,:]\n",
    "error67=II[7,:]-II[6,:]\n",
    "error78=np.zeros((8,294))\n",
    "for i in range (0,8):\n",
    "    error78[i,:]=II[8+i,:]-II[7,:]"
   ]
  },
  {
   "cell_type": "code",
   "execution_count": 14,
   "metadata": {},
   "outputs": [
    {
     "data": {
      "text/plain": [
       "(1, 1024)"
      ]
     },
     "execution_count": 14,
     "metadata": {},
     "output_type": "execute_result"
    }
   ],
   "source": [
    "O1=np.dot(error67.reshape(1,294),w)+b"
   ]
  },
  {
   "cell_type": "code",
   "execution_count": 16,
   "metadata": {},
   "outputs": [],
   "source": [
    "O2=np.zeros((8,1024))\n",
    "for i in range (0,8):\n",
    "    O2[i,:]=np.dot(error78[i,:].reshape(1,294),w)+b"
   ]
  },
  {
   "cell_type": "code",
   "execution_count": 17,
   "metadata": {},
   "outputs": [],
   "source": [
    "E=np.zeros(8)\n",
    "for i in range (0,8):\n",
    "    E[i]=abs(O2[i,:]-O1).sum()"
   ]
  },
  {
   "cell_type": "code",
   "execution_count": 18,
   "metadata": {},
   "outputs": [
    {
     "data": {
      "text/plain": [
       "array([65811.62176157, 67031.35566285, 60400.01308999, 67406.40800426,\n",
       "       69719.92123708, 68055.2077015 , 60901.62753712, 72092.47684659])"
      ]
     },
     "execution_count": 18,
     "metadata": {},
     "output_type": "execute_result"
    }
   ],
   "source": [
    "E"
   ]
  },
  {
   "cell_type": "code",
   "execution_count": 20,
   "metadata": {},
   "outputs": [
    {
     "data": {
      "image/png": "[encoded data removed]",
      "text/plain": [
       "<Figure size 432x288 with 16 Axes>"
      ]
     },
     "metadata": {
      "needs_background": "light"
     },
     "output_type": "display_data"
    }
   ],
   "source": [
    "import numpy as np\n",
    "import matplotlib.pyplot as plt\n",
    "data=np.load('data.npy')\n",
    "for i in range (0,16):\n",
    "    plt.subplot(4,4,i+1)\n",
    "    plt.imshow(data[:,:,i,3],cmap='gray')"
   ]
  },
  {
   "cell_type": "code",
   "execution_count": 32,
   "metadata": {},
   "outputs": [
    {
     "data": {
      "image/png": "[encoded data removed]",
      "text/plain": [
       "<Figure size 432x288 with 1 Axes>"
      ]
     },
     "metadata": {
      "needs_background": "light"
     },
     "output_type": "display_data"
    }
   ],
   "source": [
    "d=data[:,:,0,3].copy()\n",
    "d[:,5:15]=255\n",
    "d[:,16:25]=255\n",
    "plt.imshow(d)\n",
    "d1=data[:,:,0,3].copy()\n",
    "d1[0:8,:]=255\n",
    "d1[10:20,:]=255\n",
    "plt.imshow(d1)\n",
    "dd=np.zeros((28,28,2))\n",
    "dd[:,:,0]=d\n",
    "dd[:,:,1]=d1"
   ]
  },
  {
   "cell_type": "code",
   "execution_count": 56,
   "metadata": {},
   "outputs": [
    {
     "name": "stdout",
     "output_type": "stream",
     "text": [
      "Step 1, Minibatch Loss= 0.0000, Train Accuracy= 1.000\n",
      "Step 2, Minibatch Loss= 0.0000, Train Accuracy= 1.000\n",
      "Step 3, Minibatch Loss= 7275.9209, Train Accuracy= 0.000\n",
      "Step 4, Minibatch Loss= 0.0000, Train Accuracy= 1.000\n",
      "Step 5, Minibatch Loss= 5406.2949, Train Accuracy= 0.000\n",
      "Step 6, Minibatch Loss= 3924.3909, Train Accuracy= 0.000\n",
      "Step 7, Minibatch Loss= 3218.4761, Train Accuracy= 0.000\n",
      "Step 8, Minibatch Loss= 200.2248, Train Accuracy= 0.875\n",
      "Step 9, Minibatch Loss= 0.0000, Train Accuracy= 1.000\n"
     ]
    }
   ],
   "source": [
    "n=0\n",
    "from con1 import train_cov\n",
    "import numpy as np\n",
    "import matplotlib.pyplot as plt\n",
    "data=np.load('data.npy')\n",
    "#from loadone1 import load_sample as load\n",
    "w1=np.zeros((5,5,1,3))\n",
    "w2=np.zeros((5,5,3,6))\n",
    "m=np.array([0,3,6])\n",
    "#M12,a12=load(data[:,:,m,12])\n",
    "w1[:,:,:,:],w2[:,:,:,:]=train_cov(dd,50,3,8)"
   ]
  },
  {
   "cell_type": "code",
   "execution_count": 57,
   "metadata": {},
   "outputs": [
    {
     "name": "stdout",
     "output_type": "stream",
     "text": [
      "Step 1, Minibatch Loss= 0.0000, Train Accuracy= 0.250\n",
      "Step 2, Minibatch Loss= 245.9923, Train Accuracy= 0.250\n",
      "Step 3, Minibatch Loss= 338.9768, Train Accuracy= 0.250\n",
      "Step 4, Minibatch Loss= 205.3577, Train Accuracy= 0.250\n",
      "Step 5, Minibatch Loss= 184.2673, Train Accuracy= 0.125\n",
      "Step 6, Minibatch Loss= 81.9625, Train Accuracy= 0.250\n",
      "Step 7, Minibatch Loss= 72.0379, Train Accuracy= 0.125\n",
      "Step 8, Minibatch Loss= 307.6432, Train Accuracy= 0.250\n",
      "Step 9, Minibatch Loss= 101.9147, Train Accuracy= 0.250\n",
      "Step 10, Minibatch Loss= 80.5805, Train Accuracy= 0.125\n",
      "Step 11, Minibatch Loss= 0.0000, Train Accuracy= 0.375\n",
      "Step 12, Minibatch Loss= 42.2756, Train Accuracy= 0.125\n",
      "Step 13, Minibatch Loss= 22.5481, Train Accuracy= 0.250\n",
      "Step 14, Minibatch Loss= 2.4980, Train Accuracy= 0.500\n",
      "Step 15, Minibatch Loss= 0.0000, Train Accuracy= 0.125\n",
      "Step 16, Minibatch Loss= 0.0000, Train Accuracy= 0.625\n",
      "Step 17, Minibatch Loss= 0.0000, Train Accuracy= 0.250\n",
      "Step 18, Minibatch Loss= 0.0000, Train Accuracy= 0.375\n",
      "Step 19, Minibatch Loss= 0.0000, Train Accuracy= 0.375\n",
      "Step 20, Minibatch Loss= 0.0000, Train Accuracy= 0.625\n",
      "Step 21, Minibatch Loss= 0.0000, Train Accuracy= 0.375\n",
      "Step 22, Minibatch Loss= 0.0000, Train Accuracy= 0.250\n",
      "Step 23, Minibatch Loss= 0.0000, Train Accuracy= 0.375\n",
      "Step 24, Minibatch Loss= 0.0000, Train Accuracy= 0.250\n",
      "Step 25, Minibatch Loss= 0.0000, Train Accuracy= 0.250\n",
      "Step 26, Minibatch Loss= 0.0000, Train Accuracy= 0.375\n",
      "Step 27, Minibatch Loss= 0.0000, Train Accuracy= 0.375\n",
      "Step 28, Minibatch Loss= 0.0000, Train Accuracy= 0.250\n",
      "Step 29, Minibatch Loss= 0.0000, Train Accuracy= 0.375\n",
      "Step 30, Minibatch Loss= 0.0000, Train Accuracy= 0.625\n",
      "Step 31, Minibatch Loss= 0.0000, Train Accuracy= 0.125\n",
      "Step 32, Minibatch Loss= 0.0000, Train Accuracy= 0.375\n",
      "Step 33, Minibatch Loss= 0.0000, Train Accuracy= 0.250\n",
      "Step 34, Minibatch Loss= 0.0000, Train Accuracy= 0.375\n",
      "Step 35, Minibatch Loss= 0.0000, Train Accuracy= 0.125\n",
      "Step 36, Minibatch Loss= 0.0000, Train Accuracy= 0.500\n",
      "Step 37, Minibatch Loss= 0.0000, Train Accuracy= 1.000\n"
     ]
    }
   ],
   "source": [
    "from fcon_1 import train_fcon\n",
    "w,b=train_fcon(data[:,:,:,3],w1,w2,50,15)"
   ]
  },
  {
   "cell_type": "code",
   "execution_count": 60,
   "metadata": {},
   "outputs": [],
   "source": [
    "from data_gene import forward\n",
    "II=forward(data[:,:,:,3],w1,w2)\n",
    "error01=II[1,:]-II[0,:]\n",
    "error12=II[2,:]-II[1,:]\n",
    "error34=II[4,:]-II[3,:]\n",
    "error54=II[5,:]-II[4,:]\n",
    "error67=II[7,:]-II[6,:]\n",
    "error78=np.zeros((8,294))\n",
    "for i in range (0,8):\n",
    "    error78[i,:]=II[8+i,:]-II[7,:]\n",
    "O1=np.dot(error67.reshape(1,294),w)+b\n",
    "O2=np.zeros((8,1024))\n",
    "for i in range (0,8):\n",
    "    O2[i,:]=np.dot(error78[i,:].reshape(1,294),w)+b\n",
    "E=np.zeros(8)\n",
    "for i in range (0,8):\n",
    "    E[i]=abs(O2[i,:]-O1).sum()"
   ]
  },
  {
   "cell_type": "code",
   "execution_count": 61,
   "metadata": {},
   "outputs": [
    {
     "data": {
      "text/plain": [
       "array([34468.62899742, 38419.14745221, 36389.72712483, 35015.01794255,\n",
       "       37471.66947919, 39196.66804632, 34473.22014873, 40186.98204115])"
      ]
     },
     "execution_count": 61,
     "metadata": {},
     "output_type": "execute_result"
    }
   ],
   "source": [
    "E"
   ]
  },
  {
   "cell_type": "code",
   "execution_count": 38,
   "metadata": {},
   "outputs": [
    {
     "data": {
      "image/png": "[encoded data removed]",
      "text/plain": [
       "<Figure size 432x288 with 16 Axes>"
      ]
     },
     "metadata": {
      "needs_background": "light"
     },
     "output_type": "display_data"
    }
   ],
   "source": [
    "import numpy as np\n",
    "import matplotlib.pyplot as plt\n",
    "data=np.load('data.npy')\n",
    "for i in range (0,16):\n",
    "    plt.subplot(4,4,i+1)\n",
    "    plt.imshow(data[:,:,i,4],cmap='gray')"
   ]
  },
  {
   "cell_type": "code",
   "execution_count": 52,
   "metadata": {},
   "outputs": [
    {
     "name": "stdout",
     "output_type": "stream",
     "text": [
      "Step 1, Minibatch Loss= 4407.2241, Train Accuracy= 0.500\n",
      "Step 2, Minibatch Loss= 3206.8809, Train Accuracy= 0.625\n",
      "Step 3, Minibatch Loss= 3362.5586, Train Accuracy= 0.625\n",
      "Step 4, Minibatch Loss= 2508.2839, Train Accuracy= 0.750\n",
      "Step 5, Minibatch Loss= 1441.1240, Train Accuracy= 0.750\n",
      "Step 6, Minibatch Loss= 0.0000, Train Accuracy= 1.000\n",
      "('Testing Accuracy:', 1.0)\n"
     ]
    }
   ],
   "source": [
    "n=0\n",
    "from con import train_cov\n",
    "import numpy as np\n",
    "import matplotlib.pyplot as plt\n",
    "data=np.load('data.npy')\n",
    "#from loadone1 import load_sample as load\n",
    "w1=np.zeros((5,5,1,3))\n",
    "w2=np.zeros((5,5,3,6))\n",
    "m=np.array([0,3,6])\n",
    "#M12,a12=load(data[:,:,m,12])\n",
    "w1[:,:,:,:],w2[:,:,:,:]=train_cov(data[:,:,0,4])"
   ]
  },
  {
   "cell_type": "code",
   "execution_count": 53,
   "metadata": {},
   "outputs": [
    {
     "name": "stdout",
     "output_type": "stream",
     "text": [
      "Step 1, Minibatch Loss= 0.0000, Train Accuracy= 0.375\n",
      "Step 2, Minibatch Loss= 285.5853, Train Accuracy= 0.125\n",
      "Step 3, Minibatch Loss= 325.1927, Train Accuracy= 0.250\n",
      "Step 4, Minibatch Loss= 226.3631, Train Accuracy= 0.250\n",
      "Step 5, Minibatch Loss= 86.3696, Train Accuracy= 0.250\n",
      "Step 6, Minibatch Loss= 22.7885, Train Accuracy= 0.250\n",
      "Step 7, Minibatch Loss= 0.0000, Train Accuracy= 0.250\n",
      "Step 8, Minibatch Loss= 0.0000, Train Accuracy= 0.250\n",
      "Step 9, Minibatch Loss= 0.0000, Train Accuracy= 0.125\n",
      "Step 10, Minibatch Loss= 0.0000, Train Accuracy= 0.375\n",
      "Step 11, Minibatch Loss= 0.0000, Train Accuracy= 0.250\n",
      "Step 12, Minibatch Loss= 0.0000, Train Accuracy= 0.625\n",
      "Step 13, Minibatch Loss= 0.0000, Train Accuracy= 0.500\n",
      "Step 14, Minibatch Loss= 0.0000, Train Accuracy= 0.375\n",
      "Step 15, Minibatch Loss= 0.0000, Train Accuracy= 0.375\n",
      "Step 16, Minibatch Loss= 0.0000, Train Accuracy= 0.375\n",
      "Step 17, Minibatch Loss= 0.0000, Train Accuracy= 0.500\n",
      "Step 18, Minibatch Loss= 0.0000, Train Accuracy= 0.500\n",
      "Step 19, Minibatch Loss= 0.0000, Train Accuracy= 0.250\n",
      "Step 20, Minibatch Loss= 0.0000, Train Accuracy= 0.375\n",
      "Step 21, Minibatch Loss= 0.0000, Train Accuracy= 0.500\n",
      "Step 22, Minibatch Loss= 0.0000, Train Accuracy= 0.375\n",
      "Step 23, Minibatch Loss= 0.0000, Train Accuracy= 0.375\n",
      "Step 24, Minibatch Loss= 0.0000, Train Accuracy= 0.500\n",
      "Step 25, Minibatch Loss= 0.0000, Train Accuracy= 0.125\n",
      "Step 26, Minibatch Loss= 0.0000, Train Accuracy= 0.250\n",
      "Step 27, Minibatch Loss= 0.0000, Train Accuracy= 0.125\n",
      "Step 28, Minibatch Loss= 0.0000, Train Accuracy= 0.250\n",
      "Step 29, Minibatch Loss= 0.0000, Train Accuracy= 0.625\n",
      "Step 30, Minibatch Loss= 0.0000, Train Accuracy= 0.500\n",
      "Step 31, Minibatch Loss= 0.0000, Train Accuracy= 0.625\n",
      "Step 32, Minibatch Loss= 0.0000, Train Accuracy= 0.500\n",
      "Step 33, Minibatch Loss= 0.0000, Train Accuracy= 0.500\n",
      "Step 34, Minibatch Loss= 0.0000, Train Accuracy= 0.500\n",
      "Step 35, Minibatch Loss= 0.0000, Train Accuracy= 0.500\n",
      "Step 36, Minibatch Loss= 0.0000, Train Accuracy= 0.500\n",
      "Step 37, Minibatch Loss= 0.0000, Train Accuracy= 0.125\n",
      "Step 38, Minibatch Loss= 0.0000, Train Accuracy= 0.375\n",
      "Step 39, Minibatch Loss= 0.0000, Train Accuracy= 0.625\n",
      "Step 40, Minibatch Loss= 0.0000, Train Accuracy= 0.500\n",
      "Step 41, Minibatch Loss= 0.0000, Train Accuracy= 0.625\n",
      "Step 42, Minibatch Loss= 0.0000, Train Accuracy= 0.625\n",
      "Step 43, Minibatch Loss= 0.0000, Train Accuracy= 0.250\n",
      "Step 44, Minibatch Loss= 0.0000, Train Accuracy= 0.125\n",
      "Step 45, Minibatch Loss= 0.0000, Train Accuracy= 1.000\n"
     ]
    }
   ],
   "source": [
    "from fcon_1 import train_fcon\n",
    "w,b=train_fcon(data[:,:,:,4],w1,w2,50,8)"
   ]
  },
  {
   "cell_type": "code",
   "execution_count": 54,
   "metadata": {},
   "outputs": [],
   "source": [
    "from data_gene import forward\n",
    "II=forward(data[:,:,:,4],w1,w2)\n",
    "error01=II[1,:]-II[0,:]\n",
    "error12=II[2,:]-II[1,:]\n",
    "error34=II[4,:]-II[3,:]\n",
    "error54=II[5,:]-II[4,:]\n",
    "error67=II[7,:]-II[6,:]\n",
    "error78=np.zeros((8,294))\n",
    "for i in range (0,8):\n",
    "    error78[i,:]=II[8+i,:]-II[7,:]\n",
    "O1=np.dot(error67.reshape(1,294),w)+b\n",
    "O2=np.zeros((8,1024))\n",
    "for i in range (0,8):\n",
    "    O2[i,:]=np.dot(error78[i,:].reshape(1,294),w)+b\n",
    "E=np.zeros(8)\n",
    "for i in range (0,8):\n",
    "    E[i]=abs(O2[i,:]-O1).sum()"
   ]
  },
  {
   "cell_type": "code",
   "execution_count": 55,
   "metadata": {},
   "outputs": [
    {
     "data": {
      "text/plain": [
       "array([178144.76143847, 164197.18707668, 157265.72342963, 154166.94012995,\n",
       "       178792.78925656, 176206.95515215, 171778.21186256, 158534.46999013])"
      ]
     },
     "execution_count": 55,
     "metadata": {},
     "output_type": "execute_result"
    }
   ],
   "source": [
    "E"
   ]
  },
  {
   "cell_type": "code",
   "execution_count": null,
   "metadata": {},
   "outputs": [],
   "source": []
  }
 ],
 "metadata": {
  "kernelspec": {
   "display_name": "Python 3",
   "language": "python",
   "name": "python3"
  },
  "language_info": {
   "codemirror_mode": {
    "name": "ipython",
    "version": 3
   },
   "file_extension": ".py",
   "mimetype": "text/x-python",
   "name": "python",
   "nbconvert_exporter": "python",
   "pygments_lexer": "ipython3",
   "version": "3.6.8"
  }
 },
 "nbformat": 4,
 "nbformat_minor": 2
}
