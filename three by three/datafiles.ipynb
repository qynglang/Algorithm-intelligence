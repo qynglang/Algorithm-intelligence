{
 "cells": [
  {
   "cell_type": "code",
   "execution_count": 7,
   "metadata": {},
   "outputs": [],
   "source": [
    "import numpy as np\n",
    "ans=3\n",
    "EE=np.load('Data/9_5Error_all.npy')"
   ]
  },
  {
   "cell_type": "code",
   "execution_count": 9,
   "metadata": {},
   "outputs": [
    {
     "name": "stdout",
     "output_type": "stream",
     "text": [
      "6\n",
      "[6 2 1 5 3 0 4 7]\n",
      "1.0418351550845903\n",
      "[6. 1. 6. 2. 6.]\n"
     ]
    }
   ],
   "source": [
    "print(np.argmin(np.average(EE,axis=1)))\n",
    "print(np.argsort(np.average(EE,axis=1)))\n",
    "print(np.average(EE,axis=1)[ans]/np.average(EE,axis=1).mean())\n",
    "N=np.zeros(5)\n",
    "for i in range (0,5):\n",
    "    N[i]=np.argmin(EE[:,i])\n",
    "print(N)"
   ]
  },
  {
   "cell_type": "code",
   "execution_count": 10,
   "metadata": {},
   "outputs": [
    {
     "data": {
      "text/plain": [
       "array(1)"
      ]
     },
     "execution_count": 10,
     "metadata": {},
     "output_type": "execute_result"
    }
   ],
   "source": [
    "np.load('Data/9_5Termination_all.npy')"
   ]
  },
  {
   "cell_type": "code",
   "execution_count": 11,
   "metadata": {},
   "outputs": [],
   "source": [
    "import numpy as np\n",
    "ans=4\n",
    "EE=np.load('Data/9_6Error_all.npy')"
   ]
  },
  {
   "cell_type": "code",
   "execution_count": 12,
   "metadata": {
    "scrolled": true
   },
   "outputs": [
    {
     "name": "stdout",
     "output_type": "stream",
     "text": [
      "2\n",
      "[2 6 1 0 5 4 3 7]\n",
      "1.0464062527137925\n",
      "[2. 1. 6. 6. 6.]\n"
     ]
    }
   ],
   "source": [
    "print(np.argmin(np.average(EE,axis=1)))\n",
    "print(np.argsort(np.average(EE,axis=1)))\n",
    "print(np.average(EE,axis=1)[ans]/np.average(EE,axis=1).mean())\n",
    "N=np.zeros(5)\n",
    "for i in range (0,5):\n",
    "    N[i]=np.argmin(EE[:,i])\n",
    "print(N)"
   ]
  },
  {
   "cell_type": "code",
   "execution_count": 13,
   "metadata": {},
   "outputs": [
    {
     "data": {
      "text/plain": [
       "array(3)"
      ]
     },
     "execution_count": 13,
     "metadata": {},
     "output_type": "execute_result"
    }
   ],
   "source": [
    "np.load('Data/9_6Termination_all.npy')"
   ]
  },
  {
   "cell_type": "code",
   "execution_count": 14,
   "metadata": {},
   "outputs": [
    {
     "data": {
      "text/plain": [
       "array(2)"
      ]
     },
     "execution_count": 14,
     "metadata": {},
     "output_type": "execute_result"
    }
   ],
   "source": [
    "np.load('Data/9_4cTermination_all.npy')"
   ]
  },
  {
   "cell_type": "code",
   "execution_count": 16,
   "metadata": {},
   "outputs": [
    {
     "name": "stdout",
     "output_type": "stream",
     "text": [
      "6\n",
      "[6 2 1 5 3 0 4 7]\n",
      "1.0418351550845903\n",
      "[6. 1. 6. 2. 6.]\n"
     ]
    }
   ],
   "source": [
    "import numpy as np\n",
    "ans=3\n",
    "EE=np.load('Data/9_5Error_all.npy')\n",
    "print(np.argmin(np.average(EE,axis=1)))\n",
    "print(np.argsort(np.average(EE,axis=1)))\n",
    "print(np.average(EE,axis=1)[ans]/np.average(EE,axis=1).mean())\n",
    "N=np.zeros(5)\n",
    "for i in range (0,5):\n",
    "    N[i]=np.argmin(EE[:,i])\n",
    "print(N)"
   ]
  },
  {
   "cell_type": "code",
   "execution_count": 17,
   "metadata": {},
   "outputs": [
    {
     "data": {
      "text/plain": [
       "array(4)"
      ]
     },
     "execution_count": 17,
     "metadata": {},
     "output_type": "execute_result"
    }
   ],
   "source": [
    "np.load('Data/9_5_rerun_allTermination_all.npy')"
   ]
  },
  {
   "cell_type": "code",
   "execution_count": 12,
   "metadata": {},
   "outputs": [
    {
     "name": "stdout",
     "output_type": "stream",
     "text": [
      "0\n",
      "[0 7 4 1 2 6 5 3]\n",
      "1.017891270207472\n",
      "[0. 0. 7. 0. 7.]\n",
      "0\n",
      "[0 7 4 5 1 6 2 3]\n",
      "1.0430718851938352\n",
      "[7. 7. 0. 0. 0.]\n",
      "0\n",
      "[0 7 4 1 2 6 5 3]\n",
      "1.0304066371078628\n",
      "[0. 0. 7. 0. 7.]\n"
     ]
    }
   ],
   "source": [
    "import numpy as np\n",
    "ans=1\n",
    "E=np.load('Data/9_0Error_no_rotation_rerun_v.npy')\n",
    "print(np.argmin(np.average(E,axis=1)))\n",
    "print(np.argsort(np.average(E,axis=1)))\n",
    "print(np.average(E,axis=1)[ans]/np.average(E,axis=1).mean())\n",
    "N=np.zeros(5)\n",
    "for i in range (0,5):\n",
    "    N[i]=np.argmin(E[:,i])\n",
    "print(N)\n",
    "E1=np.load('Data/9_0Error_no_rotation_rerun.npy')\n",
    "print(np.argmin(np.average(E1,axis=1)))\n",
    "print(np.argsort(np.average(E1,axis=1)))\n",
    "print(np.average(E1,axis=1)[ans]/np.average(E1,axis=1).mean())\n",
    "NNN=np.zeros(5)\n",
    "for i in range (0,5):\n",
    "    NNN[i]=np.argmin(E1[:,i])\n",
    "print(NNN)\n",
    "print(np.argmin(np.average(E+E1,axis=1)))\n",
    "print(np.argsort(np.average(E+E1,axis=1)))\n",
    "print(np.average(E+E1,axis=1)[ans]/np.average(E+E1,axis=1).mean())\n",
    "NN=np.zeros(5)\n",
    "for i in range (0,5):\n",
    "    NN[i]=np.argmin(E[:,i]+E1[:,i])\n",
    "print(NN)"
   ]
  },
  {
   "cell_type": "code",
   "execution_count": 13,
   "metadata": {},
   "outputs": [
    {
     "name": "stdout",
     "output_type": "stream",
     "text": [
      "1\n",
      "[1 2 7 6 4 3 5 0]\n",
      "0.8628159939615656\n",
      "[1. 1. 1. 1. 1.]\n",
      "1\n",
      "[1 2 7 3 6 4 5 0]\n",
      "0.8558310415488913\n",
      "[1. 1. 1. 1. 1.]\n",
      "1\n",
      "[1 2 7 6 3 4 5 0]\n",
      "0.8594982953768605\n",
      "[1. 1. 1. 1. 1.]\n",
      "1\n",
      "2\n"
     ]
    }
   ],
   "source": [
    "import numpy as np\n",
    "ans=1\n",
    "E=np.load('Data/9_1Error_no_rotation_rerun_v.npy')\n",
    "print(np.argmin(np.average(E,axis=1)))\n",
    "print(np.argsort(np.average(E,axis=1)))\n",
    "print(np.average(E,axis=1)[ans]/np.average(E,axis=1).mean())\n",
    "N=np.zeros(5)\n",
    "for i in range (0,5):\n",
    "    N[i]=np.argmin(E[:,i])\n",
    "print(N)\n",
    "E1=np.load('Data/9_1Error_no_rotation_rerun.npy')\n",
    "print(np.argmin(np.average(E1,axis=1)))\n",
    "print(np.argsort(np.average(E1,axis=1)))\n",
    "print(np.average(E1,axis=1)[ans]/np.average(E1,axis=1).mean())\n",
    "NNN=np.zeros(5)\n",
    "for i in range (0,5):\n",
    "    NNN[i]=np.argmin(E1[:,i])\n",
    "print(NNN)\n",
    "print(np.argmin(np.average(E+E1,axis=1)))\n",
    "print(np.argsort(np.average(E+E1,axis=1)))\n",
    "print(np.average(E+E1,axis=1)[ans]/np.average(E+E1,axis=1).mean())\n",
    "NN=np.zeros(5)\n",
    "for i in range (0,5):\n",
    "    NN[i]=np.argmin(E[:,i]+E1[:,i])\n",
    "print(NN)\n",
    "print(np.load('Data/9_1Termination_no_rotation_rerun_v.npy'))\n",
    "print(np.load('Data/9_1Termination_no_rotation_rerun.npy'))"
   ]
  },
  {
   "cell_type": "code",
   "execution_count": 9,
   "metadata": {
    "scrolled": true
   },
   "outputs": [
    {
     "name": "stdout",
     "output_type": "stream",
     "text": [
      "3\n",
      "2\n"
     ]
    }
   ],
   "source": [
    "print(np.load('Data/9_0Termination_no_rotation_rerun_v.npy'))\n",
    "print(np.load('Data/9_0Termination_no_rotation_rerun.npy'))"
   ]
  },
  {
   "cell_type": "code",
   "execution_count": 15,
   "metadata": {},
   "outputs": [
    {
     "name": "stdout",
     "output_type": "stream",
     "text": [
      "6\n",
      "[6 2 1 4 0 3 5 7]\n",
      "0.9358371604812917\n",
      "[2. 6. 1. 2. 6.]\n",
      "6\n",
      "[6 2 1 4 5 0 7 3]\n",
      "0.9119564707253639\n",
      "[6. 6. 1. 2. 2.]\n",
      "6\n",
      "[6 2 1 4 5 0 3 7]\n",
      "0.9228640610847958\n",
      "[6. 6. 1. 2. 2.]\n",
      "1\n",
      "4\n"
     ]
    }
   ],
   "source": [
    "import numpy as np\n",
    "ans=2\n",
    "E=np.load('Data/9_2Error_no_rotation_rerun_v.npy')\n",
    "print(np.argmin(np.average(E,axis=1)))\n",
    "print(np.argsort(np.average(E,axis=1)))\n",
    "print(np.average(E,axis=1)[ans]/np.average(E,axis=1).mean())\n",
    "N=np.zeros(5)\n",
    "for i in range (0,5):\n",
    "    N[i]=np.argmin(E[:,i])\n",
    "print(N)\n",
    "E1=np.load('Data/9_2Error_no_rotation_rerun.npy')\n",
    "print(np.argmin(np.average(E1,axis=1)))\n",
    "print(np.argsort(np.average(E1,axis=1)))\n",
    "print(np.average(E1,axis=1)[ans]/np.average(E1,axis=1).mean())\n",
    "NNN=np.zeros(5)\n",
    "for i in range (0,5):\n",
    "    NNN[i]=np.argmin(E1[:,i])\n",
    "print(NNN)\n",
    "print(np.argmin(np.average(E+E1,axis=1)))\n",
    "print(np.argsort(np.average(E+E1,axis=1)))\n",
    "print(np.average(E+E1,axis=1)[ans]/np.average(E+E1,axis=1).mean())\n",
    "NN=np.zeros(5)\n",
    "for i in range (0,5):\n",
    "    NN[i]=np.argmin(E[:,i]+E1[:,i])\n",
    "print(NN)\n",
    "print(np.load('Data/9_2Termination_no_rotation_rerun_v.npy'))\n",
    "print(np.load('Data/9_2Termination_no_rotation_rerun.npy'))"
   ]
  },
  {
   "cell_type": "code",
   "execution_count": 20,
   "metadata": {},
   "outputs": [
    {
     "name": "stdout",
     "output_type": "stream",
     "text": [
      "7\n",
      "[7 1 3 4 2 6 0 5]\n",
      "1.000033645789151\n",
      "[1. 3. 7. 7. 7.]\n",
      "7\n",
      "[7 1 3 6 2 4 0 5]\n",
      "1.080333137057423\n",
      "[1. 7. 1. 7. 7.]\n",
      "7\n",
      "[7 1 3 4 6 2 0 5]\n",
      "1.0372037311032274\n",
      "[1. 1. 7. 7. 7.]\n",
      "3\n",
      "3\n"
     ]
    }
   ],
   "source": [
    "import numpy as np\n",
    "ans=4\n",
    "E=np.load('Data/9_6Error_no_rotation_rerun_v.npy')\n",
    "print(np.argmin(np.average(E,axis=1)))\n",
    "print(np.argsort(np.average(E,axis=1)))\n",
    "print(np.average(E,axis=1)[ans]/np.average(E,axis=1).mean())\n",
    "N=np.zeros(5)\n",
    "for i in range (0,5):\n",
    "    N[i]=np.argmin(E[:,i])\n",
    "print(N)\n",
    "E1=np.load('Data/9_6Error_no_rotation_rerun.npy')\n",
    "print(np.argmin(np.average(E1,axis=1)))\n",
    "print(np.argsort(np.average(E1,axis=1)))\n",
    "print(np.average(E1,axis=1)[ans]/np.average(E1,axis=1).mean())\n",
    "NNN=np.zeros(5)\n",
    "for i in range (0,5):\n",
    "    NNN[i]=np.argmin(E1[:,i])\n",
    "print(NNN)\n",
    "print(np.argmin(np.average(E+E1,axis=1)))\n",
    "print(np.argsort(np.average(E+E1,axis=1)))\n",
    "print(np.average(E+E1,axis=1)[ans]/np.average(E+E1,axis=1).mean())\n",
    "NN=np.zeros(5)\n",
    "for i in range (0,5):\n",
    "    NN[i]=np.argmin(E[:,i]+E1[:,i])\n",
    "print(NN)\n",
    "print(np.load('Data/9_6Termination_no_rotation_rerun_v.npy'))\n",
    "print(np.load('Data/9_6Termination_no_rotation_rerun.npy'))"
   ]
  },
  {
   "cell_type": "code",
   "execution_count": 22,
   "metadata": {},
   "outputs": [
    {
     "name": "stdout",
     "output_type": "stream",
     "text": [
      "1\n",
      "[1 0 6 3 7 5 4 2]\n",
      "0.9291713341952172\n",
      "[1. 1. 0. 1. 1.]\n",
      "1\n",
      "[1 0 6 7 3 5 4 2]\n",
      "0.9255287778534093\n",
      "[1. 1. 4. 1. 1.]\n",
      "1\n",
      "[1 0 6 3 7 5 4 2]\n",
      "0.9275738198645088\n",
      "[1. 1. 1. 1. 1.]\n",
      "2\n",
      "3\n"
     ]
    }
   ],
   "source": [
    "import numpy as np\n",
    "ans=0\n",
    "E=np.load('Data/9_7Error_no_rotation_rerun_v.npy')\n",
    "print(np.argmin(np.average(E,axis=1)))\n",
    "print(np.argsort(np.average(E,axis=1)))\n",
    "print(np.average(E,axis=1)[ans]/np.average(E,axis=1).mean())\n",
    "N=np.zeros(5)\n",
    "for i in range (0,5):\n",
    "    N[i]=np.argmin(E[:,i])\n",
    "print(N)\n",
    "E1=np.load('Data/9_7Error_no_rotation_rerun.npy')\n",
    "print(np.argmin(np.average(E1,axis=1)))\n",
    "print(np.argsort(np.average(E1,axis=1)))\n",
    "print(np.average(E1,axis=1)[ans]/np.average(E1,axis=1).mean())\n",
    "NNN=np.zeros(5)\n",
    "for i in range (0,5):\n",
    "    NNN[i]=np.argmin(E1[:,i])\n",
    "print(NNN)\n",
    "print(np.argmin(np.average(E+E1,axis=1)))\n",
    "print(np.argsort(np.average(E+E1,axis=1)))\n",
    "print(np.average(E+E1,axis=1)[ans]/np.average(E+E1,axis=1).mean())\n",
    "NN=np.zeros(5)\n",
    "for i in range (0,5):\n",
    "    NN[i]=np.argmin(E[:,i]+E1[:,i])\n",
    "print(NN)\n",
    "print(np.load('Data/9_7Termination_no_rotation_rerun_v.npy'))\n",
    "print(np.load('Data/9_7Termination_no_rotation_rerun.npy'))"
   ]
  },
  {
   "cell_type": "code",
   "execution_count": 23,
   "metadata": {},
   "outputs": [
    {
     "ename": "FileNotFoundError",
     "evalue": "[Errno 2] No such file or directory: 'Data/9_8Error_no_rotation_rerun_v.npy'",
     "output_type": "error",
     "traceback": [
      "\u001b[0;31m---------------------------------------------------------------------------\u001b[0m",
      "\u001b[0;31mFileNotFoundError\u001b[0m                         Traceback (most recent call last)",
      "\u001b[0;32m<ipython-input-23-9ad626025a53>\u001b[0m in \u001b[0;36m<module>\u001b[0;34m\u001b[0m\n\u001b[1;32m      1\u001b[0m \u001b[0;32mimport\u001b[0m \u001b[0mnumpy\u001b[0m \u001b[0;32mas\u001b[0m \u001b[0mnp\u001b[0m\u001b[0;34m\u001b[0m\u001b[0;34m\u001b[0m\u001b[0m\n\u001b[1;32m      2\u001b[0m \u001b[0mans\u001b[0m\u001b[0;34m=\u001b[0m\u001b[0;36m6\u001b[0m\u001b[0;34m\u001b[0m\u001b[0;34m\u001b[0m\u001b[0m\n\u001b[0;32m----> 3\u001b[0;31m \u001b[0mE\u001b[0m\u001b[0;34m=\u001b[0m\u001b[0mnp\u001b[0m\u001b[0;34m.\u001b[0m\u001b[0mload\u001b[0m\u001b[0;34m(\u001b[0m\u001b[0;34m'Data/9_8Error_no_rotation_rerun_v.npy'\u001b[0m\u001b[0;34m)\u001b[0m\u001b[0;34m\u001b[0m\u001b[0;34m\u001b[0m\u001b[0m\n\u001b[0m\u001b[1;32m      4\u001b[0m \u001b[0mprint\u001b[0m\u001b[0;34m(\u001b[0m\u001b[0mnp\u001b[0m\u001b[0;34m.\u001b[0m\u001b[0margmin\u001b[0m\u001b[0;34m(\u001b[0m\u001b[0mnp\u001b[0m\u001b[0;34m.\u001b[0m\u001b[0maverage\u001b[0m\u001b[0;34m(\u001b[0m\u001b[0mE\u001b[0m\u001b[0;34m,\u001b[0m\u001b[0maxis\u001b[0m\u001b[0;34m=\u001b[0m\u001b[0;36m1\u001b[0m\u001b[0;34m)\u001b[0m\u001b[0;34m)\u001b[0m\u001b[0;34m)\u001b[0m\u001b[0;34m\u001b[0m\u001b[0;34m\u001b[0m\u001b[0m\n\u001b[1;32m      5\u001b[0m \u001b[0mprint\u001b[0m\u001b[0;34m(\u001b[0m\u001b[0mnp\u001b[0m\u001b[0;34m.\u001b[0m\u001b[0margsort\u001b[0m\u001b[0;34m(\u001b[0m\u001b[0mnp\u001b[0m\u001b[0;34m.\u001b[0m\u001b[0maverage\u001b[0m\u001b[0;34m(\u001b[0m\u001b[0mE\u001b[0m\u001b[0;34m,\u001b[0m\u001b[0maxis\u001b[0m\u001b[0;34m=\u001b[0m\u001b[0;36m1\u001b[0m\u001b[0;34m)\u001b[0m\u001b[0;34m)\u001b[0m\u001b[0;34m)\u001b[0m\u001b[0;34m\u001b[0m\u001b[0;34m\u001b[0m\u001b[0m\n",
      "\u001b[0;32m~/miniconda3/envs/mlp/lib/python3.6/site-packages/numpy/lib/npyio.py\u001b[0m in \u001b[0;36mload\u001b[0;34m(file, mmap_mode, allow_pickle, fix_imports, encoding)\u001b[0m\n\u001b[1;32m    382\u001b[0m     \u001b[0mown_fid\u001b[0m \u001b[0;34m=\u001b[0m \u001b[0;32mFalse\u001b[0m\u001b[0;34m\u001b[0m\u001b[0;34m\u001b[0m\u001b[0m\n\u001b[1;32m    383\u001b[0m     \u001b[0;32mif\u001b[0m \u001b[0misinstance\u001b[0m\u001b[0;34m(\u001b[0m\u001b[0mfile\u001b[0m\u001b[0;34m,\u001b[0m \u001b[0mbasestring\u001b[0m\u001b[0;34m)\u001b[0m\u001b[0;34m:\u001b[0m\u001b[0;34m\u001b[0m\u001b[0;34m\u001b[0m\u001b[0m\n\u001b[0;32m--> 384\u001b[0;31m         \u001b[0mfid\u001b[0m \u001b[0;34m=\u001b[0m \u001b[0mopen\u001b[0m\u001b[0;34m(\u001b[0m\u001b[0mfile\u001b[0m\u001b[0;34m,\u001b[0m \u001b[0;34m\"rb\"\u001b[0m\u001b[0;34m)\u001b[0m\u001b[0;34m\u001b[0m\u001b[0;34m\u001b[0m\u001b[0m\n\u001b[0m\u001b[1;32m    385\u001b[0m         \u001b[0mown_fid\u001b[0m \u001b[0;34m=\u001b[0m \u001b[0;32mTrue\u001b[0m\u001b[0;34m\u001b[0m\u001b[0;34m\u001b[0m\u001b[0m\n\u001b[1;32m    386\u001b[0m     \u001b[0;32melif\u001b[0m \u001b[0mis_pathlib_path\u001b[0m\u001b[0;34m(\u001b[0m\u001b[0mfile\u001b[0m\u001b[0;34m)\u001b[0m\u001b[0;34m:\u001b[0m\u001b[0;34m\u001b[0m\u001b[0;34m\u001b[0m\u001b[0m\n",
      "\u001b[0;31mFileNotFoundError\u001b[0m: [Errno 2] No such file or directory: 'Data/9_8Error_no_rotation_rerun_v.npy'"
     ]
    }
   ],
   "source": [
    "import numpy as np\n",
    "ans=6\n",
    "E=np.load('Data/9_8Error_no_rotation_rerun_v.npy')\n",
    "print(np.argmin(np.average(E,axis=1)))\n",
    "print(np.argsort(np.average(E,axis=1)))\n",
    "print(np.average(E,axis=1)[ans]/np.average(E,axis=1).mean())\n",
    "N=np.zeros(5)\n",
    "for i in range (0,5):\n",
    "    N[i]=np.argmin(E[:,i])\n",
    "print(N)\n",
    "E1=np.load('Data/9_8Error_no_rotation_rerun.npy')\n",
    "print(np.argmin(np.average(E1,axis=1)))\n",
    "print(np.argsort(np.average(E1,axis=1)))\n",
    "print(np.average(E1,axis=1)[ans]/np.average(E1,axis=1).mean())\n",
    "NNN=np.zeros(5)\n",
    "for i in range (0,5):\n",
    "    NNN[i]=np.argmin(E1[:,i])\n",
    "print(NNN)\n",
    "print(np.argmin(np.average(E+E1,axis=1)))\n",
    "print(np.argsort(np.average(E+E1,axis=1)))\n",
    "print(np.average(E+E1,axis=1)[ans]/np.average(E+E1,axis=1).mean())\n",
    "NN=np.zeros(5)\n",
    "for i in range (0,5):\n",
    "    NN[i]=np.argmin(E[:,i]+E1[:,i])\n",
    "print(NN)\n",
    "print(np.load('Data/9_8Termination_no_rotation_rerun_v.npy'))\n",
    "print(np.load('Data/9_8Termination_no_rotation_rerun.npy'))"
   ]
  },
  {
   "cell_type": "code",
   "execution_count": 31,
   "metadata": {},
   "outputs": [],
   "source": [
    "NN='9_35'\n",
    "ans=4\n",
    "import numpy as np\n",
    "EE=np.load('Data/'+str(NN)+'Error_no_rotation_rerun.npy')\n",
    "T=np.load('Data/'+str(NN)+'Termination_no_rotation_rerun.npy')"
   ]
  },
  {
   "cell_type": "code",
   "execution_count": 32,
   "metadata": {},
   "outputs": [
    {
     "name": "stdout",
     "output_type": "stream",
     "text": [
      "6\n",
      "[6 1 3 4 2 7 0 5]\n",
      "1.0190908292625263\n",
      "[6. 6. 6. 6. 1.]\n",
      "3\n"
     ]
    }
   ],
   "source": [
    "\n",
    "    N=np.zeros(5)\n",
    "    for i in range (0,5):\n",
    "        N[i]=np.argmin(EE[:,i])\n",
    "    print(np.argmin(np.average(EE,axis=1)))\n",
    "    print(np.argsort(np.average(EE,axis=1)))\n",
    "    print(np.average(EE,axis=1)[ans]/np.average(EE,axis=1).mean())\n",
    "    print(N)\n",
    "    print(T)"
   ]
  },
  {
   "cell_type": "code",
   "execution_count": null,
   "metadata": {},
   "outputs": [],
   "source": []
  }
 ],
 "metadata": {
  "kernelspec": {
   "display_name": "Python 3",
   "language": "python",
   "name": "python3"
  },
  "language_info": {
   "codemirror_mode": {
    "name": "ipython",
    "version": 3
   },
   "file_extension": ".py",
   "mimetype": "text/x-python",
   "name": "python",
   "nbconvert_exporter": "python",
   "pygments_lexer": "ipython3",
   "version": "3.6.8"
  }
 },
 "nbformat": 4,
 "nbformat_minor": 2
}
