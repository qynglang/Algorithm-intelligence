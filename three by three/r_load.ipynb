{
 "cells": [
  {
   "cell_type": "code",
   "execution_count": 5,
   "metadata": {},
   "outputs": [
    {
     "name": "stdout",
     "output_type": "stream",
     "text": [
      "1\n",
      "[1 3 4 0 5 2 7 6]\n",
      "0.9213271885163533\n",
      "10\n"
     ]
    }
   ],
   "source": [
    "import numpy as np\n",
    "NN='9_11_r'\n",
    "ans=1\n",
    "EEE=np.load('Data/'+str(NN)+'Error_no_rotation_rerun.npy_r1.npy')\n",
    "NNN=np.load('Data/'+str(NN)+'Ntrial_no_rotation_rerun_r1.npy')\n",
    "print(np.argmin(np.average(EEE,axis=1)))\n",
    "print(np.argsort(np.average(EEE,axis=1)))\n",
    "print(np.average(EEE,axis=1)[ans]/np.average(EEE,axis=1).mean())\n",
    "print(np.where(np.array(NNN)==ans)[0].size)"
   ]
  },
  {
   "cell_type": "code",
   "execution_count": 6,
   "metadata": {},
   "outputs": [
    {
     "name": "stdout",
     "output_type": "stream",
     "text": [
      "7\n",
      "[7 0 4 5 1 2 3 6]\n",
      "1.0161042364233581\n"
     ]
    }
   ],
   "source": [
    "import numpy as np\n",
    "NN='9_11'\n",
    "ans=1\n",
    "EEE=np.load('Data/'+str(NN)+'Error_no_rotation_rerun.npy')\n",
    "#NNN=np.load('Data/'+str(NN)+'Ntrial_no_rotation_rerun.npy')\n",
    "print(np.argmin(np.average(EEE,axis=1)))\n",
    "print(np.argsort(np.average(EEE,axis=1)))\n",
    "print(np.average(EEE,axis=1)[ans]/np.average(EEE,axis=1).mean())\n",
    "#print(np.where(np.array(NNN)==ans)[0].size)"
   ]
  },
  {
   "cell_type": "code",
   "execution_count": null,
   "metadata": {},
   "outputs": [],
   "source": []
  }
 ],
 "metadata": {
  "kernelspec": {
   "display_name": "Python 3",
   "language": "python",
   "name": "python3"
  },
  "language_info": {
   "codemirror_mode": {
    "name": "ipython",
    "version": 3
   },
   "file_extension": ".py",
   "mimetype": "text/x-python",
   "name": "python",
   "nbconvert_exporter": "python",
   "pygments_lexer": "ipython3",
   "version": "3.6.8"
  }
 },
 "nbformat": 4,
 "nbformat_minor": 2
}
