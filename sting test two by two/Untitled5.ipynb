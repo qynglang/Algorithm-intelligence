{
 "cells": [
  {
   "cell_type": "code",
   "execution_count": 7,
   "metadata": {},
   "outputs": [
    {
     "data": {
      "text/plain": [
       "array([0.62666667, 0.60666667])"
      ]
     },
     "execution_count": 7,
     "metadata": {},
     "output_type": "execute_result"
    }
   ],
   "source": [
    "import numpy as np\n",
    "ac=np.load('Data/ac.npy')\n",
    "np.average(ac[0:15,:],axis=0)"
   ]
  },
  {
   "cell_type": "code",
   "execution_count": 19,
   "metadata": {},
   "outputs": [
    {
     "data": {
      "text/plain": [
       "array([0.56666668, 0.56666668, 0.56666668, 0.59333335, 0.58000001])"
      ]
     },
     "execution_count": 19,
     "metadata": {},
     "output_type": "execute_result"
    }
   ],
   "source": [
    "import numpy as np\n",
    "acc=np.load('Data/acc.npy')\n",
    "np.average(acc[0:15,:],axis=0)\n"
   ]
  },
  {
   "cell_type": "code",
   "execution_count": 14,
   "metadata": {},
   "outputs": [
    {
     "data": {
      "text/plain": [
       "array([0.76666667, 0.74666667, 0.77999999, 0.77333333, 0.75333333,\n",
       "       0.72666667, 0.73333333, 0.75333333])"
      ]
     },
     "execution_count": 14,
     "metadata": {},
     "output_type": "execute_result"
    }
   ],
   "source": [
    "import numpy as np\n",
    "accc=np.load('Data/accc.npy')\n",
    "np.average(accc[0:15,:],axis=0)"
   ]
  },
  {
   "cell_type": "code",
   "execution_count": 20,
   "metadata": {},
   "outputs": [
    {
     "data": {
      "text/plain": [
       "array([0.74000001, 0.73333334, 0.76666667, 0.74      , 0.75333334,\n",
       "       0.75333334, 0.72666667, 0.76000001])"
      ]
     },
     "execution_count": 20,
     "metadata": {},
     "output_type": "execute_result"
    }
   ],
   "source": [
    "import numpy as np\n",
    "accc=np.load('Data/accc_2d.npy')\n",
    "np.average(accc[0:15,:],axis=0)"
   ]
  },
  {
   "cell_type": "code",
   "execution_count": 13,
   "metadata": {
    "scrolled": true
   },
   "outputs": [
    {
     "data": {
      "text/plain": [
       "array([0.1, 0.1, 0.1, 0.1, 0.1, 0.1, 0.1, 0.1, 0.1, 0.1])"
      ]
     },
     "execution_count": 13,
     "metadata": {},
     "output_type": "execute_result"
    }
   ],
   "source": [
    "import numpy as np\n",
    "acccc=np.load('Data/acccc.npy')\n",
    "np.average(acccc[0:15,:],axis=0)"
   ]
  },
  {
   "cell_type": "code",
   "execution_count": 2,
   "metadata": {
    "scrolled": true
   },
   "outputs": [
    {
     "data": {
      "text/plain": [
       "array([[0., 0., 0., 0., 0., 0., 0., 0.],\n",
       "       [0., 0., 0., 0., 0., 0., 0., 0.],\n",
       "       [0., 0., 0., 0., 0., 0., 0., 0.],\n",
       "       [0., 0., 0., 0., 0., 0., 0., 0.],\n",
       "       [0., 0., 0., 0., 0., 0., 0., 0.],\n",
       "       [0., 0., 0., 0., 0., 0., 0., 0.],\n",
       "       [0., 0., 0., 0., 0., 0., 0., 0.],\n",
       "       [0., 0., 0., 0., 0., 0., 0., 0.],\n",
       "       [0., 0., 0., 0., 0., 0., 0., 0.],\n",
       "       [0., 0., 0., 0., 0., 0., 0., 0.],\n",
       "       [0., 0., 0., 0., 0., 0., 0., 0.],\n",
       "       [0., 0., 0., 0., 0., 0., 0., 0.],\n",
       "       [0., 0., 0., 0., 0., 0., 0., 0.],\n",
       "       [0., 0., 0., 0., 0., 0., 0., 0.],\n",
       "       [0., 0., 0., 0., 0., 0., 0., 0.],\n",
       "       [0., 0., 0., 0., 0., 0., 0., 0.]])"
      ]
     },
     "execution_count": 2,
     "metadata": {},
     "output_type": "execute_result"
    }
   ],
   "source": [
    "import numpy as np\n",
    "accc=np.load('Data/accc_3d.npy')\n",
    "np.average(accc[0:15,:],axis=0)\n",
    "accc"
   ]
  },
  {
   "cell_type": "code",
   "execution_count": 3,
   "metadata": {},
   "outputs": [
    {
     "name": "stderr",
     "output_type": "stream",
     "text": [
      "WARNING: Logging before flag parsing goes to stderr.\n",
      "W0808 17:27:49.801585 140418846426944 deprecation_wrapper.py:119] From /afs/inf.ed.ac.uk/user/s18/s1883226/Downloads/experiment/test/twobyt/fcon_2.py:39: The name tf.placeholder is deprecated. Please use tf.compat.v1.placeholder instead.\n",
      "\n",
      "W0808 17:27:50.016940 140418846426944 deprecation_wrapper.py:119] From /afs/inf.ed.ac.uk/user/s18/s1883226/Downloads/experiment/test/twobyt/fcon_2.py:44: The name tf.random_normal is deprecated. Please use tf.random.normal instead.\n",
      "\n",
      "W0808 17:27:50.066511 140418846426944 deprecation.py:506] From /afs/inf.ed.ac.uk/user/s18/s1883226/Downloads/experiment/test/twobyt/fcon_2.py:14: calling dropout (from tensorflow.python.ops.nn_ops) with keep_prob is deprecated and will be removed in a future version.\n",
      "Instructions for updating:\n",
      "Please use `rate` instead of `keep_prob`. Rate should be set to `rate = 1 - keep_prob`.\n",
      "W0808 17:27:50.098591 140418846426944 deprecation.py:323] From /afs/inf.ed.ac.uk/user/s18/s1883226/Downloads/experiment/test/twobyt/fcon_2.py:66: softmax_cross_entropy_with_logits (from tensorflow.python.ops.nn_ops) is deprecated and will be removed in a future version.\n",
      "Instructions for updating:\n",
      "\n",
      "Future major versions of TensorFlow will allow gradients to flow\n",
      "into the labels input on backprop by default.\n",
      "\n",
      "See `tf.nn.softmax_cross_entropy_with_logits_v2`.\n",
      "\n",
      "W0808 17:27:50.380497 140418846426944 deprecation_wrapper.py:119] From /afs/inf.ed.ac.uk/user/s18/s1883226/Downloads/experiment/test/twobyt/fcon_2.py:67: The name tf.train.AdamOptimizer is deprecated. Please use tf.compat.v1.train.AdamOptimizer instead.\n",
      "\n",
      "W0808 17:27:50.557337 140418846426944 deprecation_wrapper.py:119] From /afs/inf.ed.ac.uk/user/s18/s1883226/Downloads/experiment/test/twobyt/fcon_2.py:76: The name tf.global_variables_initializer is deprecated. Please use tf.compat.v1.global_variables_initializer instead.\n",
      "\n",
      "W0808 17:27:50.559998 140418846426944 deprecation_wrapper.py:119] From /afs/inf.ed.ac.uk/user/s18/s1883226/Downloads/experiment/test/twobyt/fcon_2.py:77: The name tf.train.Saver is deprecated. Please use tf.compat.v1.train.Saver instead.\n",
      "\n",
      "W0808 17:27:50.589754 140418846426944 deprecation_wrapper.py:119] From /afs/inf.ed.ac.uk/user/s18/s1883226/Downloads/experiment/test/twobyt/fcon_2.py:80: The name tf.Session is deprecated. Please use tf.compat.v1.Session instead.\n",
      "\n"
     ]
    },
    {
     "name": "stdout",
     "output_type": "stream",
     "text": [
      "Step 1, Minibatch Loss= 1230801.2500, Train Accuracy= 0.117\n",
      "Step 100, Minibatch Loss= 33763.2266, Train Accuracy= 0.609\n",
      "Step 200, Minibatch Loss= 11304.1318, Train Accuracy= 0.672\n",
      "Step 300, Minibatch Loss= 8919.3135, Train Accuracy= 0.688\n",
      "Step 400, Minibatch Loss= 4698.9585, Train Accuracy= 0.734\n",
      "Step 500, Minibatch Loss= 1489.1028, Train Accuracy= 0.781\n",
      "Step 600, Minibatch Loss= 1023.6887, Train Accuracy= 0.852\n",
      "Step 700, Minibatch Loss= 1056.8606, Train Accuracy= 0.852\n",
      "Step 800, Minibatch Loss= 1789.9080, Train Accuracy= 0.859\n",
      "Step 900, Minibatch Loss= 886.6132, Train Accuracy= 0.859\n",
      "Step 1000, Minibatch Loss= 1278.6527, Train Accuracy= 0.883\n",
      "Step 1100, Minibatch Loss= 195.8220, Train Accuracy= 0.922\n",
      "Step 1200, Minibatch Loss= 360.4207, Train Accuracy= 0.938\n",
      "Step 1300, Minibatch Loss= 1063.3511, Train Accuracy= 0.836\n",
      "Step 1400, Minibatch Loss= 356.1243, Train Accuracy= 0.867\n",
      "Step 1500, Minibatch Loss= 455.9652, Train Accuracy= 0.859\n",
      "Step 1600, Minibatch Loss= 721.8402, Train Accuracy= 0.844\n",
      "Step 1700, Minibatch Loss= 622.4923, Train Accuracy= 0.875\n",
      "Step 1800, Minibatch Loss= 329.1338, Train Accuracy= 0.875\n",
      "Step 1900, Minibatch Loss= 52.4490, Train Accuracy= 0.898\n",
      "Step 2000, Minibatch Loss= 40.8864, Train Accuracy= 0.898\n",
      "Step 2100, Minibatch Loss= 108.8277, Train Accuracy= 0.844\n",
      "Step 2200, Minibatch Loss= 98.3552, Train Accuracy= 0.867\n",
      "Step 2300, Minibatch Loss= 202.9144, Train Accuracy= 0.867\n",
      "Step 2400, Minibatch Loss= 149.0930, Train Accuracy= 0.875\n",
      "Step 2500, Minibatch Loss= 108.1179, Train Accuracy= 0.930\n",
      "Step 2600, Minibatch Loss= 52.7664, Train Accuracy= 0.844\n",
      "Step 2700, Minibatch Loss= 19.6550, Train Accuracy= 0.914\n",
      "Step 2800, Minibatch Loss= 21.4343, Train Accuracy= 0.891\n",
      "Step 2900, Minibatch Loss= 24.1435, Train Accuracy= 0.898\n"
     ]
    },
    {
     "name": "stderr",
     "output_type": "stream",
     "text": [
      "W0808 17:32:09.179174 140418846426944 deprecation.py:323] From /afs/inf.ed.ac.uk/user/s18/s1883226/miniconda3/envs/mlp/lib/python3.6/site-packages/tensorflow/python/training/saver.py:1276: checkpoint_exists (from tensorflow.python.training.checkpoint_management) is deprecated and will be removed in a future version.\n",
      "Instructions for updating:\n",
      "Use standard file APIs to check for files with this prefix.\n"
     ]
    },
    {
     "name": "stdout",
     "output_type": "stream",
     "text": [
      "Step 3000, Minibatch Loss= 12.6399, Train Accuracy= 0.906\n"
     ]
    }
   ],
   "source": [
    "from fcon_2 import train_fcon\n",
    "import numpy as np\n",
    "#ac=np.zeros((50,2))\n",
    "#acc=np.zeros((50,5))\n",
    "accc=train_fcon(8)\n"
   ]
  },
  {
   "cell_type": "code",
   "execution_count": 3,
   "metadata": {},
   "outputs": [
    {
     "data": {
      "text/plain": [
       "array([0.61333334, 0.62666667, 0.61333334, 0.64666667, 0.63333334])"
      ]
     },
     "execution_count": 3,
     "metadata": {},
     "output_type": "execute_result"
    }
   ],
   "source": [
    "import numpy as np\n",
    "accc=np.load('Data/acc_3d.npy')\n",
    "np.average(accc[0:15,:],axis=0)\n"
   ]
  },
  {
   "cell_type": "code",
   "execution_count": 1,
   "metadata": {},
   "outputs": [
    {
     "data": {
      "text/plain": [
       "array([0.65333333, 0.64666667, 0.64      , 0.64      , 0.64000001])"
      ]
     },
     "execution_count": 1,
     "metadata": {},
     "output_type": "execute_result"
    }
   ],
   "source": [
    "import numpy as np\n",
    "accc=np.load('Data/acc_2d_1.npy')\n",
    "np.average(accc[0:15,:],axis=0)"
   ]
  },
  {
   "cell_type": "code",
   "execution_count": 2,
   "metadata": {},
   "outputs": [
    {
     "data": {
      "text/plain": [
       "array([0.74666667, 0.74      ])"
      ]
     },
     "execution_count": 2,
     "metadata": {},
     "output_type": "execute_result"
    }
   ],
   "source": [
    "import numpy as np\n",
    "accc=np.load('Data/ac_2d_1.npy')\n",
    "np.average(accc[0:15,:],axis=0)"
   ]
  },
  {
   "cell_type": "code",
   "execution_count": 7,
   "metadata": {},
   "outputs": [
    {
     "data": {
      "text/plain": [
       "array([0.76666667, 0.76666667, 0.76000001, 0.76666667, 0.76666667,\n",
       "       0.73333333, 0.76      , 0.77333334])"
      ]
     },
     "execution_count": 7,
     "metadata": {},
     "output_type": "execute_result"
    }
   ],
   "source": [
    "import numpy as np\n",
    "accc=np.load('Data/accc_2d_1.npy')\n",
    "np.average(accc[0:15,:],axis=0)"
   ]
  },
  {
   "cell_type": "code",
   "execution_count": 6,
   "metadata": {},
   "outputs": [
    {
     "data": {
      "text/plain": [
       "array([0.23333334, 0.23333334, 0.23333334, 0.23333334, 0.23333334,\n",
       "       0.23333334, 0.23333334, 0.23333334])"
      ]
     },
     "execution_count": 6,
     "metadata": {},
     "output_type": "execute_result"
    }
   ],
   "source": [
    "import numpy as np\n",
    "accc=np.load('Data/accc_t2.npy')\n",
    "np.average(accc[0:15,:],axis=0)\n"
   ]
  },
  {
   "cell_type": "code",
   "execution_count": 1,
   "metadata": {},
   "outputs": [
    {
     "data": {
      "text/plain": [
       "array([[0.89999998, 0.89999998, 0.89999998, 0.89999998, 0.89999998,\n",
       "        0.89999998, 0.89999998, 0.89999998, 0.89999998, 0.89999998],\n",
       "       [0.89999998, 0.89999998, 0.89999998, 0.89999998, 0.89999998,\n",
       "        0.89999998, 0.89999998, 0.89999998, 0.89999998, 0.89999998],\n",
       "       [0.89999998, 0.89999998, 0.89999998, 0.89999998, 0.89999998,\n",
       "        0.89999998, 0.89999998, 0.89999998, 0.89999998, 0.89999998],\n",
       "       [0.89999998, 0.89999998, 0.89999998, 0.89999998, 0.89999998,\n",
       "        0.89999998, 0.89999998, 0.89999998, 0.89999998, 0.89999998],\n",
       "       [0.89999998, 0.89999998, 1.        , 0.89999998, 0.89999998,\n",
       "        0.89999998, 0.89999998, 0.89999998, 1.        , 1.        ],\n",
       "       [0.89999998, 0.89999998, 1.        , 0.89999998, 0.89999998,\n",
       "        0.89999998, 0.89999998, 0.89999998, 0.89999998, 1.        ],\n",
       "       [0.        , 0.        , 0.        , 0.        , 0.        ,\n",
       "        0.        , 0.        , 0.        , 0.        , 0.        ],\n",
       "       [0.        , 0.        , 0.        , 0.        , 0.        ,\n",
       "        0.        , 0.        , 0.        , 0.        , 0.        ],\n",
       "       [0.        , 0.        , 0.        , 0.        , 0.        ,\n",
       "        0.        , 0.        , 0.        , 0.        , 0.        ],\n",
       "       [0.        , 0.        , 0.        , 0.        , 0.        ,\n",
       "        0.        , 0.        , 0.        , 0.        , 0.        ],\n",
       "       [0.        , 0.        , 0.        , 0.        , 0.        ,\n",
       "        0.        , 0.        , 0.        , 0.        , 0.        ],\n",
       "       [0.        , 0.        , 0.        , 0.        , 0.        ,\n",
       "        0.        , 0.        , 0.        , 0.        , 0.        ],\n",
       "       [0.        , 0.        , 0.        , 0.        , 0.        ,\n",
       "        0.        , 0.        , 0.        , 0.        , 0.        ],\n",
       "       [0.        , 0.        , 0.        , 0.        , 0.        ,\n",
       "        0.        , 0.        , 0.        , 0.        , 0.        ],\n",
       "       [0.        , 0.        , 0.        , 0.        , 0.        ,\n",
       "        0.        , 0.        , 0.        , 0.        , 0.        ],\n",
       "       [0.        , 0.        , 0.        , 0.        , 0.        ,\n",
       "        0.        , 0.        , 0.        , 0.        , 0.        ]])"
      ]
     },
     "execution_count": 1,
     "metadata": {},
     "output_type": "execute_result"
    }
   ],
   "source": [
    "import numpy as np\n",
    "accc=np.load('Data/acccc_2d.npy')\n",
    "np.average(accc[0:15,:],axis=0)\n",
    "accc"
   ]
  }
 ],
 "metadata": {
  "kernelspec": {
   "display_name": "Python 3",
   "language": "python",
   "name": "python3"
  },
  "language_info": {
   "codemirror_mode": {
    "name": "ipython",
    "version": 3
   },
   "file_extension": ".py",
   "mimetype": "text/x-python",
   "name": "python",
   "nbconvert_exporter": "python",
   "pygments_lexer": "ipython3",
   "version": "3.6.8"
  }
 },
 "nbformat": 4,
 "nbformat_minor": 2
}
