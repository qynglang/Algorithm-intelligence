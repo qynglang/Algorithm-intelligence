{
 "cells": [
  {
   "cell_type": "code",
   "execution_count": 1,
   "metadata": {},
   "outputs": [],
   "source": [
    "from foward_error_ex1 import foward_error"
   ]
  },
  {
   "cell_type": "code",
   "execution_count": 2,
   "metadata": {
    "scrolled": true
   },
   "outputs": [
    {
     "name": "stderr",
     "output_type": "stream",
     "text": [
      "WARNING: Logging before flag parsing goes to stderr.\n",
      "W0717 15:42:56.856616 140576563742528 deprecation_wrapper.py:119] From /afs/inf.ed.ac.uk/user/s18/s1883226/Downloads/experiment/twobyt/con1.py:21: The name tf.placeholder is deprecated. Please use tf.compat.v1.placeholder instead.\n",
      "\n",
      "W0717 15:42:56.873991 140576563742528 deprecation_wrapper.py:119] From /afs/inf.ed.ac.uk/user/s18/s1883226/Downloads/experiment/twobyt/con1.py:27: The name tf.random_normal is deprecated. Please use tf.random.normal instead.\n",
      "\n",
      "W0717 15:42:56.923740 140576563742528 deprecation_wrapper.py:119] From /afs/inf.ed.ac.uk/user/s18/s1883226/Downloads/experiment/twobyt/convo.py:11: The name tf.nn.max_pool is deprecated. Please use tf.nn.max_pool2d instead.\n",
      "\n",
      "W0717 15:42:56.931131 140576563742528 deprecation.py:506] From /afs/inf.ed.ac.uk/user/s18/s1883226/Downloads/experiment/twobyt/convo.py:38: calling dropout (from tensorflow.python.ops.nn_ops) with keep_prob is deprecated and will be removed in a future version.\n",
      "Instructions for updating:\n",
      "Please use `rate` instead of `keep_prob`. Rate should be set to `rate = 1 - keep_prob`.\n",
      "W0717 15:42:56.943075 140576563742528 deprecation.py:323] From /afs/inf.ed.ac.uk/user/s18/s1883226/Downloads/experiment/twobyt/con1.py:49: softmax_cross_entropy_with_logits (from tensorflow.python.ops.nn_ops) is deprecated and will be removed in a future version.\n",
      "Instructions for updating:\n",
      "\n",
      "Future major versions of TensorFlow will allow gradients to flow\n",
      "into the labels input on backprop by default.\n",
      "\n",
      "See `tf.nn.softmax_cross_entropy_with_logits_v2`.\n",
      "\n",
      "W0717 15:42:56.965676 140576563742528 deprecation_wrapper.py:119] From /afs/inf.ed.ac.uk/user/s18/s1883226/Downloads/experiment/twobyt/con1.py:50: The name tf.train.AdamOptimizer is deprecated. Please use tf.compat.v1.train.AdamOptimizer instead.\n",
      "\n",
      "W0717 15:42:57.171921 140576563742528 deprecation_wrapper.py:119] From /afs/inf.ed.ac.uk/user/s18/s1883226/Downloads/experiment/twobyt/con1.py:59: The name tf.global_variables_initializer is deprecated. Please use tf.compat.v1.global_variables_initializer instead.\n",
      "\n",
      "W0717 15:42:57.173616 140576563742528 deprecation_wrapper.py:119] From /afs/inf.ed.ac.uk/user/s18/s1883226/Downloads/experiment/twobyt/con1.py:69: The name tf.Session is deprecated. Please use tf.compat.v1.Session instead.\n",
      "\n"
     ]
    },
    {
     "name": "stdout",
     "output_type": "stream",
     "text": [
      "Step 1, Minibatch Loss= 21339.4473, Train Accuracy= 0.000\n",
      "Step 2, Minibatch Loss= 16407.2129, Train Accuracy= 0.000\n",
      "Step 3, Minibatch Loss= 12248.8105, Train Accuracy= 0.000\n",
      "Step 4, Minibatch Loss= 8158.5859, Train Accuracy= 0.000\n",
      "Step 5, Minibatch Loss= 11024.0020, Train Accuracy= 0.000\n",
      "Step 6, Minibatch Loss= 2862.5542, Train Accuracy= 0.000\n",
      "Step 7, Minibatch Loss= 5946.2324, Train Accuracy= 0.000\n",
      "Step 8, Minibatch Loss= 984.8907, Train Accuracy= 0.000\n",
      "Step 9, Minibatch Loss= 3700.1021, Train Accuracy= 0.000\n",
      "Step 10, Minibatch Loss= 563.7710, Train Accuracy= 0.000\n",
      "Step 11, Minibatch Loss= 0.0000, Train Accuracy= 1.000\n",
      "Step 1, Minibatch Loss= 26.7966, Train Accuracy= 0.750\n",
      "Step 2, Minibatch Loss= 14.2766, Train Accuracy= 0.625\n",
      "Step 3, Minibatch Loss= 0.0000, Train Accuracy= 1.000\n",
      "Step 4, Minibatch Loss= 0.0000, Train Accuracy= 1.000\n",
      "Step 5, Minibatch Loss= 0.0000, Train Accuracy= 1.000\n",
      "Step 6, Minibatch Loss= 0.0000, Train Accuracy= 1.000\n",
      "Step 1, Minibatch Loss= 2202.7100, Train Accuracy= 0.625\n",
      "Step 2, Minibatch Loss= 232.0720, Train Accuracy= 0.500\n",
      "Step 3, Minibatch Loss= 747.9404, Train Accuracy= 0.500\n",
      "Step 4, Minibatch Loss= 1979.5981, Train Accuracy= 0.625\n",
      "Step 5, Minibatch Loss= 1855.4690, Train Accuracy= 0.500\n",
      "Step 6, Minibatch Loss= 2480.0947, Train Accuracy= 0.375\n",
      "Step 7, Minibatch Loss= 1049.8789, Train Accuracy= 0.375\n",
      "Step 8, Minibatch Loss= 1159.3293, Train Accuracy= 0.750\n",
      "Step 9, Minibatch Loss= 1084.2363, Train Accuracy= 0.500\n",
      "Step 10, Minibatch Loss= 524.3553, Train Accuracy= 0.875\n",
      "Step 1, Minibatch Loss= 174190.4531, Train Accuracy= 0.500\n",
      "Step 2, Minibatch Loss= 42159.2930, Train Accuracy= 0.500\n",
      "Step 3, Minibatch Loss= 41238.3750, Train Accuracy= 0.500\n",
      "Step 4, Minibatch Loss= 24280.9336, Train Accuracy= 0.625\n",
      "Step 5, Minibatch Loss= 12263.2617, Train Accuracy= 0.750\n",
      "Step 6, Minibatch Loss= 12515.1523, Train Accuracy= 0.500\n",
      "Step 7, Minibatch Loss= 6027.7012, Train Accuracy= 0.125\n",
      "Step 8, Minibatch Loss= 8226.9941, Train Accuracy= 0.375\n",
      "Step 9, Minibatch Loss= 1504.6680, Train Accuracy= 0.375\n",
      "Step 10, Minibatch Loss= 6055.7090, Train Accuracy= 0.500\n",
      "Step 11, Minibatch Loss= 3173.5664, Train Accuracy= 0.875\n",
      "(8, 1024)\n"
     ]
    }
   ],
   "source": [
    "foward_error(9,[0,1,2,5,6,7],2,'9_c_3')"
   ]
  },
  {
   "cell_type": "code",
   "execution_count": 5,
   "metadata": {},
   "outputs": [
    {
     "data": {
      "text/plain": [
       "(8, 1318)"
      ]
     },
     "execution_count": 5,
     "metadata": {},
     "output_type": "execute_result"
    }
   ],
   "source": [
    "import numpy as np\n",
    "a=np.zeros((8,1024))\n",
    "b=np.zeros((8,49*2*3))\n",
    "np.hstack((a,b))"
   ]
  },
  {
   "cell_type": "code",
   "execution_count": 1,
   "metadata": {},
   "outputs": [
    {
     "name": "stderr",
     "output_type": "stream",
     "text": [
      "WARNING: Logging before flag parsing goes to stderr.\n",
      "W0718 11:39:58.974272 140608613193536 deprecation_wrapper.py:119] From /afs/inf.ed.ac.uk/user/s18/s1883226/Downloads/experiment/twobyt/con1.py:21: The name tf.placeholder is deprecated. Please use tf.compat.v1.placeholder instead.\n",
      "\n",
      "W0718 11:39:58.992835 140608613193536 deprecation_wrapper.py:119] From /afs/inf.ed.ac.uk/user/s18/s1883226/Downloads/experiment/twobyt/con1.py:27: The name tf.random_normal is deprecated. Please use tf.random.normal instead.\n",
      "\n",
      "W0718 11:39:59.042061 140608613193536 deprecation_wrapper.py:119] From /afs/inf.ed.ac.uk/user/s18/s1883226/Downloads/experiment/twobyt/convo.py:11: The name tf.nn.max_pool is deprecated. Please use tf.nn.max_pool2d instead.\n",
      "\n",
      "W0718 11:39:59.050083 140608613193536 deprecation.py:506] From /afs/inf.ed.ac.uk/user/s18/s1883226/Downloads/experiment/twobyt/convo.py:38: calling dropout (from tensorflow.python.ops.nn_ops) with keep_prob is deprecated and will be removed in a future version.\n",
      "Instructions for updating:\n",
      "Please use `rate` instead of `keep_prob`. Rate should be set to `rate = 1 - keep_prob`.\n",
      "W0718 11:39:59.063697 140608613193536 deprecation.py:323] From /afs/inf.ed.ac.uk/user/s18/s1883226/Downloads/experiment/twobyt/con1.py:49: softmax_cross_entropy_with_logits (from tensorflow.python.ops.nn_ops) is deprecated and will be removed in a future version.\n",
      "Instructions for updating:\n",
      "\n",
      "Future major versions of TensorFlow will allow gradients to flow\n",
      "into the labels input on backprop by default.\n",
      "\n",
      "See `tf.nn.softmax_cross_entropy_with_logits_v2`.\n",
      "\n",
      "W0718 11:39:59.086413 140608613193536 deprecation_wrapper.py:119] From /afs/inf.ed.ac.uk/user/s18/s1883226/Downloads/experiment/twobyt/con1.py:50: The name tf.train.AdamOptimizer is deprecated. Please use tf.compat.v1.train.AdamOptimizer instead.\n",
      "\n",
      "W0718 11:39:59.293520 140608613193536 deprecation_wrapper.py:119] From /afs/inf.ed.ac.uk/user/s18/s1883226/Downloads/experiment/twobyt/con1.py:59: The name tf.global_variables_initializer is deprecated. Please use tf.compat.v1.global_variables_initializer instead.\n",
      "\n",
      "W0718 11:39:59.294895 140608613193536 deprecation_wrapper.py:119] From /afs/inf.ed.ac.uk/user/s18/s1883226/Downloads/experiment/twobyt/con1.py:69: The name tf.Session is deprecated. Please use tf.compat.v1.Session instead.\n",
      "\n"
     ]
    },
    {
     "name": "stdout",
     "output_type": "stream",
     "text": [
      "Step 1, Minibatch Loss= 0.0000, Train Accuracy= 1.000\n",
      "Step 2, Minibatch Loss= 42361.6953, Train Accuracy= 0.000\n",
      "Step 3, Minibatch Loss= 27541.4473, Train Accuracy= 0.000\n",
      "Step 4, Minibatch Loss= 15018.6523, Train Accuracy= 0.000\n",
      "Step 5, Minibatch Loss= 24377.7949, Train Accuracy= 0.000\n",
      "Step 6, Minibatch Loss= 5723.6992, Train Accuracy= 0.000\n",
      "Step 7, Minibatch Loss= 13929.2480, Train Accuracy= 0.000\n",
      "Step 8, Minibatch Loss= 0.0000, Train Accuracy= 1.000\n",
      "Step 1, Minibatch Loss= 549.7932, Train Accuracy= 0.625\n",
      "Step 2, Minibatch Loss= 844.1377, Train Accuracy= 0.375\n",
      "Step 3, Minibatch Loss= 464.1946, Train Accuracy= 0.625\n",
      "Step 4, Minibatch Loss= 562.1034, Train Accuracy= 0.500\n",
      "Step 5, Minibatch Loss= 505.2040, Train Accuracy= 0.500\n",
      "Step 6, Minibatch Loss= 559.9073, Train Accuracy= 0.375\n",
      "Step 7, Minibatch Loss= 392.7526, Train Accuracy= 0.500\n",
      "Step 8, Minibatch Loss= 420.7573, Train Accuracy= 0.375\n",
      "Step 9, Minibatch Loss= 350.3333, Train Accuracy= 0.375\n",
      "Step 10, Minibatch Loss= 224.7230, Train Accuracy= 0.500\n",
      "Step 11, Minibatch Loss= 169.7173, Train Accuracy= 0.500\n",
      "Step 12, Minibatch Loss= 115.6988, Train Accuracy= 0.500\n",
      "Step 13, Minibatch Loss= 32.0918, Train Accuracy= 0.750\n",
      "Step 14, Minibatch Loss= 7.1562, Train Accuracy= 0.750\n",
      "Step 15, Minibatch Loss= 0.0000, Train Accuracy= 1.000\n",
      "Step 1, Minibatch Loss= 6535.1768, Train Accuracy= 0.500\n",
      "Step 2, Minibatch Loss= 6892.1772, Train Accuracy= 0.000\n",
      "Step 3, Minibatch Loss= 0.0000, Train Accuracy= 1.000\n",
      "Step 4, Minibatch Loss= 3854.0859, Train Accuracy= 0.500\n",
      "Step 5, Minibatch Loss= 7681.3350, Train Accuracy= 0.250\n",
      "Step 6, Minibatch Loss= 3193.7925, Train Accuracy= 0.750\n",
      "Step 7, Minibatch Loss= 4983.8135, Train Accuracy= 0.625\n",
      "Step 8, Minibatch Loss= 8928.6367, Train Accuracy= 0.250\n",
      "Step 9, Minibatch Loss= 4790.2881, Train Accuracy= 0.625\n",
      "Step 10, Minibatch Loss= 4343.6309, Train Accuracy= 0.375\n",
      "Step 11, Minibatch Loss= 2201.3511, Train Accuracy= 0.750\n",
      "Step 12, Minibatch Loss= 1738.3621, Train Accuracy= 0.625\n",
      "Step 13, Minibatch Loss= 1375.3320, Train Accuracy= 0.625\n",
      "Step 14, Minibatch Loss= 1564.3884, Train Accuracy= 0.375\n",
      "Step 15, Minibatch Loss= 489.2596, Train Accuracy= 0.875\n",
      "Step 1, Minibatch Loss= 180309.4375, Train Accuracy= 0.375\n",
      "Step 2, Minibatch Loss= 72984.8906, Train Accuracy= 0.625\n",
      "Step 3, Minibatch Loss= 55728.3516, Train Accuracy= 0.500\n",
      "Step 4, Minibatch Loss= 18823.1230, Train Accuracy= 0.875\n",
      "Step 5, Minibatch Loss= 36869.3633, Train Accuracy= 0.625\n",
      "Step 6, Minibatch Loss= 12518.1602, Train Accuracy= 0.875\n",
      "(8, 1024)\n"
     ]
    }
   ],
   "source": [
    "from foward_error_ex2 import foward_error\n",
    "foward_error(9,[0,1,2,5,6,7],2,'9_c_3')"
   ]
  },
  {
   "cell_type": "code",
   "execution_count": 1,
   "metadata": {},
   "outputs": [],
   "source": [
    "from forward_ex_with_weight import foward_error"
   ]
  },
  {
   "cell_type": "code",
   "execution_count": 2,
   "metadata": {},
   "outputs": [
    {
     "name": "stderr",
     "output_type": "stream",
     "text": [
      "WARNING: Logging before flag parsing goes to stderr.\n",
      "W0722 22:52:58.859730 139636025993024 deprecation_wrapper.py:119] From /afs/inf.ed.ac.uk/user/s18/s1883226/Downloads/experiment/twobyt/data_gene.py:11: The name tf.Session is deprecated. Please use tf.compat.v1.Session instead.\n",
      "\n",
      "W0722 22:52:58.890194 139636025993024 deprecation_wrapper.py:119] From /afs/inf.ed.ac.uk/user/s18/s1883226/Downloads/experiment/twobyt/convo.py:11: The name tf.nn.max_pool is deprecated. Please use tf.nn.max_pool2d instead.\n",
      "\n"
     ]
    },
    {
     "name": "stdout",
     "output_type": "stream",
     "text": [
      "4\n",
      "[51456.45300375 38714.97160691 50773.03725666 38663.07606401\n",
      " 64001.85620673 25909.64601132]\n",
      "[5 3 1 2 0 4]\n",
      "0.5767973794422177\n",
      "4\n",
      "[1643870.00287283 1241645.46746224 1640639.03362381 1250753.55791821\n",
      " 2052776.24147537  831730.84773449]\n",
      "[5 1 3 2 0 4]\n",
      "0.5761627862602438\n",
      "4\n",
      "[51431927.88933177 38889363.96105975 51407225.09667762 38800588.12833148\n",
      " 64535972.38756619 26797199.36823028]\n",
      "[5 3 1 2 0 4]\n",
      "0.5914141457338492\n"
     ]
    }
   ],
   "source": [
    "foward_error(1,[0,3,4,5,6,7],5,'1_c_ex')"
   ]
  },
  {
   "cell_type": "code",
   "execution_count": null,
   "metadata": {},
   "outputs": [],
   "source": []
  }
 ],
 "metadata": {
  "kernelspec": {
   "display_name": "Python 3",
   "language": "python",
   "name": "python3"
  },
  "language_info": {
   "codemirror_mode": {
    "name": "ipython",
    "version": 3
   },
   "file_extension": ".py",
   "mimetype": "text/x-python",
   "name": "python",
   "nbconvert_exporter": "python",
   "pygments_lexer": "ipython3",
   "version": "3.6.8"
  }
 },
 "nbformat": 4,
 "nbformat_minor": 2
}
