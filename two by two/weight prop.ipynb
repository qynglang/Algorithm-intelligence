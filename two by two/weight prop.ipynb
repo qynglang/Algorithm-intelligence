{
 "cells": [
  {
   "cell_type": "code",
   "execution_count": 1,
   "metadata": {},
   "outputs": [],
   "source": [
    "from forward_error_with_weight import foward_error"
   ]
  },
  {
   "cell_type": "code",
   "execution_count": 2,
   "metadata": {},
   "outputs": [
    {
     "name": "stderr",
     "output_type": "stream",
     "text": [
      "WARNING: Logging before flag parsing goes to stderr.\n",
      "W0715 18:21:51.379550 139781223868224 deprecation_wrapper.py:119] From /afs/inf.ed.ac.uk/user/s18/s1883226/Downloads/experiment/twobyt/data_gene.py:11: The name tf.Session is deprecated. Please use tf.compat.v1.Session instead.\n",
      "\n",
      "W0715 18:21:51.414754 139781223868224 deprecation_wrapper.py:119] From /afs/inf.ed.ac.uk/user/s18/s1883226/Downloads/experiment/twobyt/convo.py:11: The name tf.nn.max_pool is deprecated. Please use tf.nn.max_pool2d instead.\n",
      "\n"
     ]
    },
    {
     "name": "stdout",
     "output_type": "stream",
     "text": [
      "50\n",
      "[55051.68825247 51453.08613254 56732.50354495 50215.44314855\n",
      " 67597.05881929 27618.29038693]\n",
      "[5 3 1 0 2 4]\n",
      "0.5368541753241081\n",
      "50\n",
      "[ 882945.12251367  819317.28276389  902364.82111005  798533.50282435\n",
      " 1074840.93641756  440865.99173511]\n",
      "[5 3 1 0 2 4]\n",
      "0.537765220507655\n",
      "50\n",
      "[ 9927692.06470975  9264367.40691116 10233325.77168389  9033646.21173859\n",
      " 12164976.68967163  4973406.97750406]\n",
      "[5 3 1 0 2 4]\n",
      "0.5367235472984941\n"
     ]
    }
   ],
   "source": [
    "foward_error(1,[0,3,4,5,6,7],5,'1_c_3')"
   ]
  },
  {
   "cell_type": "code",
   "execution_count": 3,
   "metadata": {},
   "outputs": [
    {
     "name": "stdout",
     "output_type": "stream",
     "text": [
      "50\n",
      "[ 31734.46985061 120493.04713984 100182.27813955 110865.93250507\n",
      " 100344.52568479  99528.60084302]\n",
      "[0 5 2 4 3 1]\n",
      "0.33811099444867165\n",
      "50\n",
      "[ 511974.14142281 1928391.85618321 1600251.66796109 1769719.63761637\n",
      " 1599113.30326086 1587554.80831219]\n",
      "[0 5 4 2 3 1]\n",
      "0.34142969876382673\n",
      "50\n",
      "[ 5892605.01344502 21657687.72433834 17831821.23121755 19669962.19555976\n",
      " 17816911.52978507 17654580.39377986]\n",
      "[0 5 4 2 3 1]\n",
      "0.35171483417376354\n"
     ]
    }
   ],
   "source": [
    "foward_error(2,[0,1,5,6,7,8],0,'2_c_3')"
   ]
  },
  {
   "cell_type": "code",
   "execution_count": 4,
   "metadata": {
    "scrolled": true
   },
   "outputs": [
    {
     "name": "stdout",
     "output_type": "stream",
     "text": [
      "0\n",
      "[ 98707.58734077  99783.74999843  84025.69612803  60930.71938977\n",
      " 122977.09599256  87227.52331847]\n",
      "[3 2 5 0 1 4]\n",
      "1.0813689782383828\n",
      "0\n",
      "[1604575.66423791 1560574.11699952 1384332.89694081  964442.16622428\n",
      " 1909362.21364605 1419251.00775226]\n",
      "[3 2 5 1 0 4]\n",
      "1.0589091765644691\n",
      "0\n",
      "[18317564.16217076 17408517.5900976  15412839.80000252 10715432.00245539\n",
      " 21966968.83697577 16024445.21050827]\n",
      "[3 2 5 1 0 4]\n",
      "1.046124518334349\n"
     ]
    }
   ],
   "source": [
    "foward_error(3,[0,1,5,6,7,8],1,'3_c_3')"
   ]
  },
  {
   "cell_type": "code",
   "execution_count": 5,
   "metadata": {},
   "outputs": [
    {
     "name": "stdout",
     "output_type": "stream",
     "text": [
      "0\n",
      "[ 87979.11425224  74631.21615446  96587.10631515 110375.22590989\n",
      "  71631.12167179 103086.41591436]\n",
      "[4 1 0 2 5 3]\n",
      "0.9698405102684596\n",
      "0\n",
      "[1395277.15665619 1185555.55196639 1539594.51380622 1762747.76748418\n",
      " 1145750.15452866 1649292.46754338]\n",
      "[4 1 0 2 5 3]\n",
      "0.9646753877634353\n",
      "0\n",
      "[15671031.1189981  13399378.92960699 17493385.12660797 19927009.76434723\n",
      " 13016100.4467015  18640707.03810881]\n",
      "[4 1 0 2 5 3]\n",
      "0.958007886197356\n"
     ]
    }
   ],
   "source": [
    "foward_error(4,[0,1,2,3,5,8],0,'4_c_3')"
   ]
  }
 ],
 "metadata": {
  "kernelspec": {
   "display_name": "Python 3",
   "language": "python",
   "name": "python3"
  },
  "language_info": {
   "codemirror_mode": {
    "name": "ipython",
    "version": 3
   },
   "file_extension": ".py",
   "mimetype": "text/x-python",
   "name": "python",
   "nbconvert_exporter": "python",
   "pygments_lexer": "ipython3",
   "version": "3.6.8"
  }
 },
 "nbformat": 4,
 "nbformat_minor": 2
}
