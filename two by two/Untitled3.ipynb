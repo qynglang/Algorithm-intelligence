{
 "cells": [
  {
   "cell_type": "code",
   "execution_count": 17,
   "metadata": {},
   "outputs": [
    {
     "name": "stdout",
     "output_type": "stream",
     "text": [
      "[1 5 0 4 3 2]\n",
      "0.39330567012750495\n",
      "49\n"
     ]
    }
   ],
   "source": [
    "import numpy as np\n",
    "N_str='0_c'\n",
    "ans=1\n",
    "EEE=np.load('Data/'+str(N_str)+'Error.npy')\n",
    "NN=np.zeros(50)\n",
    "for i in range (1,50):\n",
    "    NN[i]=np.argmin(EEE[:,i])\n",
    "print(np.argsort(np.average(EEE,axis=1)))\n",
    "#     print('y direction error:',np.argsort(np.average(EE2,axis=1)))\n",
    "print(np.average(EEE,axis=1)[ans]/np.average(EEE,axis=1).mean())\n",
    "#     print('normalized correct y direction error:',np.average(EE2,axis=1)[ans]/np.average(EE2,axis=1).mean())\n",
    "#     print('sum error:',np.argsort(np.average(EE2+EE,axis=1)))\n",
    "#     print('normalized correct sum error:',np.average(EE2+EE,axis=1)[ans]/np.average(EE+EE2,axis=1).mean())\n",
    "print(np.where(np.array(NN)==ans)[0].size)"
   ]
  },
  {
   "cell_type": "code",
   "execution_count": null,
   "metadata": {},
   "outputs": [],
   "source": []
  }
 ],
 "metadata": {
  "kernelspec": {
   "display_name": "Python 3",
   "language": "python",
   "name": "python3"
  },
  "language_info": {
   "codemirror_mode": {
    "name": "ipython",
    "version": 3
   },
   "file_extension": ".py",
   "mimetype": "text/x-python",
   "name": "python",
   "nbconvert_exporter": "python",
   "pygments_lexer": "ipython3",
   "version": "3.6.8"
  }
 },
 "nbformat": 4,
 "nbformat_minor": 2
}
