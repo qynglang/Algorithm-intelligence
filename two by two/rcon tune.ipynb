{
 "cells": [
  {
   "cell_type": "code",
   "execution_count": 1,
   "metadata": {},
   "outputs": [],
   "source": [
    "from rcon import train_rcon"
   ]
  },
  {
   "cell_type": "code",
   "execution_count": 1,
   "metadata": {},
   "outputs": [],
   "source": [
    "from run_r_error import foward_error"
   ]
  },
  {
   "cell_type": "code",
   "execution_count": 2,
   "metadata": {},
   "outputs": [
    {
     "name": "stderr",
     "output_type": "stream",
     "text": [
      "WARNING: Logging before flag parsing goes to stderr.\n",
      "W0726 18:54:44.520908 140494694561600 deprecation_wrapper.py:119] From /afs/inf.ed.ac.uk/user/s18/s1883226/Downloads/experiment/twobyt/con1.py:21: The name tf.placeholder is deprecated. Please use tf.compat.v1.placeholder instead.\n",
      "\n",
      "W0726 18:54:44.525789 140494694561600 deprecation_wrapper.py:119] From /afs/inf.ed.ac.uk/user/s18/s1883226/Downloads/experiment/twobyt/con1.py:27: The name tf.random_normal is deprecated. Please use tf.random.normal instead.\n",
      "\n",
      "W0726 18:54:44.584973 140494694561600 deprecation_wrapper.py:119] From /afs/inf.ed.ac.uk/user/s18/s1883226/Downloads/experiment/twobyt/convo.py:11: The name tf.nn.max_pool is deprecated. Please use tf.nn.max_pool2d instead.\n",
      "\n",
      "W0726 18:54:44.593084 140494694561600 deprecation.py:506] From /afs/inf.ed.ac.uk/user/s18/s1883226/Downloads/experiment/twobyt/convo.py:38: calling dropout (from tensorflow.python.ops.nn_ops) with keep_prob is deprecated and will be removed in a future version.\n",
      "Instructions for updating:\n",
      "Please use `rate` instead of `keep_prob`. Rate should be set to `rate = 1 - keep_prob`.\n",
      "W0726 18:54:44.606847 140494694561600 deprecation.py:323] From /afs/inf.ed.ac.uk/user/s18/s1883226/Downloads/experiment/twobyt/con1.py:49: softmax_cross_entropy_with_logits (from tensorflow.python.ops.nn_ops) is deprecated and will be removed in a future version.\n",
      "Instructions for updating:\n",
      "\n",
      "Future major versions of TensorFlow will allow gradients to flow\n",
      "into the labels input on backprop by default.\n",
      "\n",
      "See `tf.nn.softmax_cross_entropy_with_logits_v2`.\n",
      "\n",
      "W0726 18:54:44.632299 140494694561600 deprecation_wrapper.py:119] From /afs/inf.ed.ac.uk/user/s18/s1883226/Downloads/experiment/twobyt/con1.py:50: The name tf.train.AdamOptimizer is deprecated. Please use tf.compat.v1.train.AdamOptimizer instead.\n",
      "\n",
      "W0726 18:54:44.782094 140494694561600 deprecation_wrapper.py:119] From /afs/inf.ed.ac.uk/user/s18/s1883226/Downloads/experiment/twobyt/con1.py:59: The name tf.global_variables_initializer is deprecated. Please use tf.compat.v1.global_variables_initializer instead.\n",
      "\n",
      "W0726 18:54:44.783644 140494694561600 deprecation_wrapper.py:119] From /afs/inf.ed.ac.uk/user/s18/s1883226/Downloads/experiment/twobyt/con1.py:69: The name tf.Session is deprecated. Please use tf.compat.v1.Session instead.\n",
      "\n"
     ]
    },
    {
     "name": "stdout",
     "output_type": "stream",
     "text": [
      "Step 1, Minibatch Loss= 6529.2295, Train Accuracy= 0.000\n",
      "Step 2, Minibatch Loss= 0.0000, Train Accuracy= 1.000\n",
      "Step 3, Minibatch Loss= 7157.7896, Train Accuracy= 0.000\n",
      "Step 4, Minibatch Loss= 0.0000, Train Accuracy= 1.000\n",
      "Step 5, Minibatch Loss= 10591.7539, Train Accuracy= 0.000\n",
      "Step 6, Minibatch Loss= 10597.6514, Train Accuracy= 0.000\n",
      "Step 7, Minibatch Loss= 24348.3203, Train Accuracy= 0.000\n",
      "Step 8, Minibatch Loss= 7357.5405, Train Accuracy= 0.000\n",
      "Step 9, Minibatch Loss= 482.5039, Train Accuracy= 0.000\n",
      "Step 10, Minibatch Loss= 3545.5610, Train Accuracy= 0.000\n",
      "Step 11, Minibatch Loss= 3930.2725, Train Accuracy= 0.000\n",
      "Step 12, Minibatch Loss= 0.0000, Train Accuracy= 1.000\n"
     ]
    },
    {
     "name": "stderr",
     "output_type": "stream",
     "text": [
      "W0726 18:54:45.666388 140494694561600 deprecation_wrapper.py:119] From /afs/inf.ed.ac.uk/user/s18/s1883226/Downloads/experiment/twobyt/rcon.py:29: The name tf.reset_default_graph is deprecated. Please use tf.compat.v1.reset_default_graph instead.\n",
      "\n",
      "W0726 18:54:45.680580 140494694561600 deprecation.py:323] From /afs/inf.ed.ac.uk/user/s18/s1883226/Downloads/experiment/twobyt/rcon.py:20: BasicLSTMCell.__init__ (from tensorflow.python.ops.rnn_cell_impl) is deprecated and will be removed in a future version.\n",
      "Instructions for updating:\n",
      "This class is equivalent as tf.keras.layers.LSTMCell, and will be replaced by that in Tensorflow 2.0.\n",
      "W0726 18:54:45.681716 140494694561600 deprecation.py:323] From /afs/inf.ed.ac.uk/user/s18/s1883226/Downloads/experiment/twobyt/rcon.py:23: static_rnn (from tensorflow.python.ops.rnn) is deprecated and will be removed in a future version.\n",
      "Instructions for updating:\n",
      "Please use `keras.layers.RNN(cell, unroll=True)`, which is equivalent to this API\n",
      "W0726 18:54:45.700535 140494694561600 deprecation.py:506] From /afs/inf.ed.ac.uk/user/s18/s1883226/miniconda3/envs/mlp/lib/python3.6/site-packages/tensorflow/python/ops/init_ops.py:1251: calling VarianceScaling.__init__ (from tensorflow.python.ops.init_ops) with dtype is deprecated and will be removed in a future version.\n",
      "Instructions for updating:\n",
      "Call initializer instance with the dtype argument instead of passing it to the constructor\n",
      "W0726 18:54:45.713659 140494694561600 deprecation.py:506] From /afs/inf.ed.ac.uk/user/s18/s1883226/miniconda3/envs/mlp/lib/python3.6/site-packages/tensorflow/python/ops/rnn_cell_impl.py:738: calling Zeros.__init__ (from tensorflow.python.ops.init_ops) with dtype is deprecated and will be removed in a future version.\n",
      "Instructions for updating:\n",
      "Call initializer instance with the dtype argument instead of passing it to the constructor\n"
     ]
    },
    {
     "name": "stdout",
     "output_type": "stream",
     "text": [
      "Step 1, Minibatch Loss= 17849.6367, Train Accuracy= 0.000\n",
      "Step 2, Minibatch Loss= 3871.6641, Train Accuracy= 0.000\n",
      "Step 3, Minibatch Loss= 0.0000, Train Accuracy= 1.000\n",
      "Step 4, Minibatch Loss= 62286.5859, Train Accuracy= 0.000\n",
      "Step 5, Minibatch Loss= 17569.7168, Train Accuracy= 0.000\n",
      "Step 6, Minibatch Loss= 47515.8828, Train Accuracy= 0.000\n",
      "Step 7, Minibatch Loss= 0.0000, Train Accuracy= 1.000\n"
     ]
    },
    {
     "name": "stderr",
     "output_type": "stream",
     "text": [
      "W0726 18:54:46.041278 140494694561600 deprecation_wrapper.py:119] From /afs/inf.ed.ac.uk/user/s18/s1883226/Downloads/experiment/twobyt/rcon.py:72: The name tf.train.GradientDescentOptimizer is deprecated. Please use tf.compat.v1.train.GradientDescentOptimizer instead.\n",
      "\n"
     ]
    },
    {
     "name": "stdout",
     "output_type": "stream",
     "text": [
      "Step 1, Minibatch Loss= 5.6834, Train Accuracy= 0.625\n",
      "Step 2, Minibatch Loss= 4.0384, Train Accuracy= 0.625\n",
      "Step 3, Minibatch Loss= 3.4279, Train Accuracy= 0.250\n",
      "Step 4, Minibatch Loss= 0.3141, Train Accuracy= 1.000\n",
      "Step 5, Minibatch Loss= 0.3896, Train Accuracy= 0.875\n",
      "Step 6, Minibatch Loss= 0.2201, Train Accuracy= 1.000\n",
      "Step 1, Minibatch Loss= 1.1545, Train Accuracy= 0.375\n",
      "Step 2, Minibatch Loss= 1.0746, Train Accuracy= 0.500\n",
      "Step 3, Minibatch Loss= 0.5496, Train Accuracy= 1.000\n",
      "Step 4, Minibatch Loss= 0.5104, Train Accuracy= 1.000\n",
      "Step 5, Minibatch Loss= 0.4610, Train Accuracy= 1.000\n",
      "Step 6, Minibatch Loss= 0.3634, Train Accuracy= 1.000\n",
      "[5 3 2 1 0 4]\n",
      "0.21439373332650216\n",
      "2\n"
     ]
    }
   ],
   "source": [
    "foward_error(1,[0,3,4,5,6,7],5,'1_c_r')"
   ]
  },
  {
   "cell_type": "code",
   "execution_count": 6,
   "metadata": {},
   "outputs": [],
   "source": [
    "import numpy as np\n",
    "a=np.zeros((4,4))"
   ]
  },
  {
   "cell_type": "code",
   "execution_count": 8,
   "metadata": {},
   "outputs": [
    {
     "data": {
      "text/plain": [
       "array([[0., 0.],\n",
       "       [0., 0.],\n",
       "       [0., 0.],\n",
       "       [0., 0.]])"
      ]
     },
     "execution_count": 8,
     "metadata": {},
     "output_type": "execute_result"
    }
   ],
   "source": [
    "a[:,0:2]"
   ]
  },
  {
   "cell_type": "code",
   "execution_count": 5,
   "metadata": {},
   "outputs": [],
   "source": [
    "import numpy as np\n",
    "N_str='1_c_r'\n",
    "EE=np.load('Data/'+str(N_str)+'Error.npy')"
   ]
  },
  {
   "cell_type": "code",
   "execution_count": 6,
   "metadata": {},
   "outputs": [
    {
     "data": {
      "text/plain": [
       "array([[3.41381049],\n",
       "       [2.27857733],\n",
       "       [4.44455576],\n",
       "       [1.15925312],\n",
       "       [1.60208845],\n",
       "       [1.13494968]])"
      ]
     },
     "execution_count": 6,
     "metadata": {},
     "output_type": "execute_result"
    }
   ],
   "source": [
    "EE"
   ]
  },
  {
   "cell_type": "code",
   "execution_count": null,
   "metadata": {},
   "outputs": [],
   "source": []
  }
 ],
 "metadata": {
  "kernelspec": {
   "display_name": "Python 3",
   "language": "python",
   "name": "python3"
  },
  "language_info": {
   "codemirror_mode": {
    "name": "ipython",
    "version": 3
   },
   "file_extension": ".py",
   "mimetype": "text/x-python",
   "name": "python",
   "nbconvert_exporter": "python",
   "pygments_lexer": "ipython3",
   "version": "3.6.8"
  }
 },
 "nbformat": 4,
 "nbformat_minor": 2
}
